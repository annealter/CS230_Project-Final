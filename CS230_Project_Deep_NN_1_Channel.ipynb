{
  "nbformat": 4,
  "nbformat_minor": 0,
  "metadata": {
    "colab": {
      "name": "CS230-Project: Deep NN - 1 Channel",
      "version": "0.3.2",
      "views": {},
      "default_view": {},
      "provenance": [],
      "collapsed_sections": []
    },
    "kernelspec": {
      "name": "python3",
      "display_name": "Python 3"
    },
    "accelerator": "GPU"
  },
  "cells": [
    {
      "metadata": {
        "id": "UQ5lIF_oKK0W",
        "colab_type": "text"
      },
      "cell_type": "markdown",
      "source": [
        "INTERFACE WITH GOOGLE DRIVE"
      ]
    },
    {
      "metadata": {
        "id": "GEhmpKCB3nj4",
        "colab_type": "code",
        "colab": {
          "autoexec": {
            "startup": false,
            "wait_interval": 0
          }
        }
      },
      "cell_type": "code",
      "source": [
        "# Install the PyDrive wrapper & import libraries.\n",
        "# This only needs to be done once per notebook.\n",
        "!pip install -U -q PyDrive\n",
        "from pydrive.auth import GoogleAuth\n",
        "from pydrive.drive import GoogleDrive\n",
        "from google.colab import auth\n",
        "from oauth2client.client import GoogleCredentials\n",
        "\n",
        "# Authenticate and create the PyDrive client.\n",
        "# This only needs to be done once per notebook.\n",
        "auth.authenticate_user()\n",
        "gauth = GoogleAuth()\n",
        "gauth.credentials = GoogleCredentials.get_application_default()\n",
        "drive = GoogleDrive(gauth)"
      ],
      "execution_count": 0,
      "outputs": []
    },
    {
      "metadata": {
        "id": "-ru7WsZf7Ooa",
        "colab_type": "code",
        "colab": {
          "autoexec": {
            "startup": false,
            "wait_interval": 0
          },
          "output_extras": [
            {
              "item_id": 1
            }
          ],
          "base_uri": "https://localhost:8080/",
          "height": 34
        },
        "outputId": "39edc793-c312-4c92-96fc-62e87cfc0ab2",
        "executionInfo": {
          "status": "ok",
          "timestamp": 1519763086549,
          "user_tz": 480,
          "elapsed": 1089,
          "user": {
            "displayName": "Anne Alter",
            "photoUrl": "//lh6.googleusercontent.com/-atp70WgtuyI/AAAAAAAAAAI/AAAAAAAAABI/v-4wP6906nY/s50-c-k-no/photo.jpg",
            "userId": "100735354600515761315"
          }
        }
      },
      "cell_type": "code",
      "source": [
        "uploaded = drive.CreateFile({'test': 'Sample.txt'})\n",
        "uploaded.SetContentString('Sample upoad file content')\n",
        "uploaded.Upload()\n",
        "print('Uploaded file with ID {}'.format(uploaded.get('id')))\n",
        "\n",
        "#downloaded = drive.CreateFile({'id': uploaded.get('id')})\n",
        "#print('Downloaded content\"{}\"'.format(downloaded.GetContentString()))\n",
        "\n",
        "# List .txt files in the root.\n",
        "#\n",
        "# Search query reference:\n",
        "# https://developers.google.com/drive/v2/web/search-parameters\n",
        "# listed = drive.ListFile({'q': \"title contains '.txt' and 'root' in parents\"}).GetList()\n",
        "# for file in listed:\n",
        "#   print('title {}, id {}'.format(file['title'], file['id']))"
      ],
      "execution_count": 40,
      "outputs": [
        {
          "output_type": "stream",
          "text": [
            "Uploaded file with ID 13K4g4LUKOmIr5fsJiWYVnUNPVfAm_T32\n"
          ],
          "name": "stdout"
        }
      ]
    },
    {
      "metadata": {
        "id": "el16BlG0eD1x",
        "colab_type": "text"
      },
      "cell_type": "markdown",
      "source": [
        "IMPORTS"
      ]
    },
    {
      "metadata": {
        "id": "WlKwbSfydeWu",
        "colab_type": "code",
        "colab": {
          "autoexec": {
            "startup": false,
            "wait_interval": 0
          }
        }
      },
      "cell_type": "code",
      "source": [
        "import math\n",
        "import numpy as np\n",
        "import h5py\n",
        "import matplotlib.pyplot as plt\n",
        "from matplotlib.axes import Axes as ax\n",
        "import scipy\n",
        "from PIL import Image\n",
        "from scipy import ndimage\n",
        "from scipy.misc import imsave\n",
        "import tensorflow as tf\n",
        "from tensorflow.python.framework import ops\n",
        "from datetime import datetime\n",
        "%matplotlib inline\n",
        "np.random.seed(1)"
      ],
      "execution_count": 0,
      "outputs": []
    },
    {
      "metadata": {
        "id": "kPAjhBt3YdaX",
        "colab_type": "text"
      },
      "cell_type": "markdown",
      "source": [
        "DATASET"
      ]
    },
    {
      "metadata": {
        "id": "L1y8A8M2Js_p",
        "colab_type": "code",
        "colab": {
          "autoexec": {
            "startup": false,
            "wait_interval": 0
          }
        }
      },
      "cell_type": "code",
      "source": [
        " def load_dataset():\n",
        "    from google.colab import files\n",
        "    uploaded = files.upload()\n",
        "\n",
        "    for name, data in uploaded.items():\n",
        "      with open(name, 'wb') as f:\n",
        "        f.write(data)\n",
        "        print ('saved file', name)\n",
        "\n",
        "    X_train = np.load('X_train.npy')\n",
        "    Y_train = np.load('Y_train.npy')\n",
        "    #X_dev   = np.load('X_dev.npy')\n",
        "    #Y_dev   = np.load('Y_dev.npy')\n",
        "    X_test  = np.load('X_test.npy')\n",
        "    Y_test  = np.load('Y_test.npy')\n",
        "\n",
        "    return X_train, Y_train, X_test, Y_test #, X_dev, Y_dev"
      ],
      "execution_count": 0,
      "outputs": []
    },
    {
      "metadata": {
        "id": "bbjTSl2PcZXl",
        "colab_type": "code",
        "colab": {
          "autoexec": {
            "startup": false,
            "wait_interval": 0
          },
          "output_extras": [
            {
              "item_id": 1
            },
            {
              "item_id": 3
            }
          ],
          "resources": {
            "http://localhost:8080/nbextensions/google.colab/files.js": {
              "data": "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",
              "ok": true,
              "headers": [
                [
                  "content-type",
                  "application/javascript"
                ]
              ],
              "status": 200,
              "status_text": ""
            }
          },
          "base_uri": "https://localhost:8080/",
          "height": 171
        },
        "outputId": "356e2108-c71c-4364-befa-ecb76bd75b86",
        "executionInfo": {
          "status": "ok",
          "timestamp": 1520541585584,
          "user_tz": 480,
          "elapsed": 992992,
          "user": {
            "displayName": "Anne Alter",
            "photoUrl": "//lh6.googleusercontent.com/-atp70WgtuyI/AAAAAAAAAAI/AAAAAAAAABI/v-4wP6906nY/s50-c-k-no/photo.jpg",
            "userId": "100735354600515761315"
          }
        }
      },
      "cell_type": "code",
      "source": [
        "X_train, Y_train, X_test, Y_test = load_dataset() #X_dev, Y_dev"
      ],
      "execution_count": 3,
      "outputs": [
        {
          "output_type": "display_data",
          "data": {
            "text/html": [
              "\n",
              "     <input type=\"file\" id=\"files-690bdc89-3d7f-4d0d-bc38-b22b23d8e07e\" name=\"files[]\" multiple disabled />\n",
              "     <output id=\"result-690bdc89-3d7f-4d0d-bc38-b22b23d8e07e\">\n",
              "      Upload widget is only available when the cell has been executed in the\n",
              "      current browser session. Please rerun this cell to enable.\n",
              "      </output>\n",
              "      <script src=\"/nbextensions/google.colab/files.js\"</script> "
            ],
            "text/plain": [
              "<IPython.core.display.HTML object>"
            ]
          },
          "metadata": {
            "tags": []
          }
        },
        {
          "output_type": "stream",
          "text": [
            "saved file X_test.npy\n",
            "saved file X_train.npy\n",
            "saved file Y_test.npy\n",
            "saved file Y_train.npy\n"
          ],
          "name": "stdout"
        }
      ]
    },
    {
      "metadata": {
        "id": "0IdRee-7m0wx",
        "colab_type": "text"
      },
      "cell_type": "markdown",
      "source": [
        "PRINT OUT EXAMPLE IMAGE"
      ]
    },
    {
      "metadata": {
        "id": "MixvQeyjIYfH",
        "colab_type": "code",
        "colab": {
          "autoexec": {
            "startup": false,
            "wait_interval": 0
          },
          "output_extras": [
            {
              "item_id": 1
            }
          ],
          "base_uri": "https://localhost:8080/",
          "height": 267
        },
        "outputId": "eb6ba62e-34f3-4d8e-e9bf-cb07618d21ab",
        "executionInfo": {
          "status": "ok",
          "timestamp": 1520551736142,
          "user_tz": 480,
          "elapsed": 295,
          "user": {
            "displayName": "Anne Alter",
            "photoUrl": "//lh6.googleusercontent.com/-atp70WgtuyI/AAAAAAAAAAI/AAAAAAAAABI/v-4wP6906nY/s50-c-k-no/photo.jpg",
            "userId": "100735354600515761315"
          }
        }
      },
      "cell_type": "code",
      "source": [
        "index = 25\n",
        "example = X_train[index,:,:]\n",
        "fig = plt.figure()\n",
        "plt.imshow(example, cmap=\"binary\")\n",
        "plt.show()"
      ],
      "execution_count": 31,
      "outputs": [
        {
          "output_type": "display_data",
          "data": {
            "image/png": "[encoded data removed]",
            "text/plain": [
              "<matplotlib.figure.Figure at 0x7f1e887774e0>"
            ]
          },
          "metadata": {
            "tags": []
          }
        }
      ]
    },
    {
      "metadata": {
        "id": "Psf3I-8rmwKq",
        "colab_type": "code",
        "colab": {
          "autoexec": {
            "startup": false,
            "wait_interval": 0
          },
          "output_extras": [
            {
              "item_id": 1
            }
          ],
          "base_uri": "https://localhost:8080/",
          "height": 267
        },
        "outputId": "3bb945d4-950e-43bf-e70b-f6468d3d84a3",
        "executionInfo": {
          "status": "ok",
          "timestamp": 1520544422095,
          "user_tz": 480,
          "elapsed": 379,
          "user": {
            "displayName": "Anne Alter",
            "photoUrl": "//lh6.googleusercontent.com/-atp70WgtuyI/AAAAAAAAAAI/AAAAAAAAABI/v-4wP6906nY/s50-c-k-no/photo.jpg",
            "userId": "100735354600515761315"
          }
        }
      },
      "cell_type": "code",
      "source": [
        "index = 400\n",
        "example = Y_train[index,:,:]\n",
        "fig = plt.figure()\n",
        "plt.imshow(example, cmap=\"binary\")\n",
        "plt.show()"
      ],
      "execution_count": 5,
      "outputs": [
        {
          "output_type": "display_data",
          "data": {
            "image/png": "[encoded data removed]",
            "text/plain": [
              "<matplotlib.figure.Figure at 0x7f1ed7f35588>"
            ]
          },
          "metadata": {
            "tags": []
          }
        }
      ]
    },
    {
      "metadata": {
        "id": "QsbrQJs-JNm5",
        "colab_type": "text"
      },
      "cell_type": "markdown",
      "source": [
        "AUGMENT DATA"
      ]
    },
    {
      "metadata": {
        "id": "S6mviooJJO8B",
        "colab_type": "code",
        "colab": {
          "autoexec": {
            "startup": false,
            "wait_interval": 0
          },
          "output_extras": [
            {
              "item_id": 1
            },
            {
              "item_id": 2
            },
            {
              "item_id": 3
            }
          ],
          "base_uri": "https://localhost:8080/",
          "height": 767
        },
        "outputId": "19e26f73-ddc2-48a3-b798-d1ef4e4b9862",
        "executionInfo": {
          "status": "ok",
          "timestamp": 1520544425432,
          "user_tz": 480,
          "elapsed": 865,
          "user": {
            "displayName": "Anne Alter",
            "photoUrl": "//lh6.googleusercontent.com/-atp70WgtuyI/AAAAAAAAAAI/AAAAAAAAABI/v-4wP6906nY/s50-c-k-no/photo.jpg",
            "userId": "100735354600515761315"
          }
        }
      },
      "cell_type": "code",
      "source": [
        "index = 400\n",
        "\n",
        "example = X_train[index,:,:]\n",
        "fig = plt.figure()\n",
        "plt.imshow(example, cmap=\"binary\")\n",
        "plt.show()\n",
        "\n",
        "\n",
        "new_data_X = np.flip(X_train, axis = 2) # should be 1 and 2\n",
        "new_data_Y = np.flip(Y_train, axis = 2)\n",
        "\n",
        "# CHECK\n",
        "example = new_data_X[index,:,:]\n",
        "fig = plt.figure()\n",
        "plt.imshow(example, cmap=\"binary\")\n",
        "plt.show()\n",
        "\n",
        "example = new_data_Y[index,:,:]\n",
        "fig = plt.figure()\n",
        "plt.imshow(example, cmap=\"binary\")\n",
        "plt.show()\n",
        "\n",
        "\n",
        "X_train= np.concatenate((X_train, new_data_X), axis = 0)\n",
        "Y_train = np.concatenate((Y_train, new_data_Y), axis = 0)"
      ],
      "execution_count": 6,
      "outputs": [
        {
          "output_type": "display_data",
          "data": {
            "image/png": "[encoded data removed]",
            "text/plain": [
              "<matplotlib.figure.Figure at 0x7f1e99236470>"
            ]
          },
          "metadata": {
            "tags": []
          }
        },
        {
          "output_type": "display_data",
          "data": {
            "image/png": "[encoded data removed]",
            "text/plain": [
              "<matplotlib.figure.Figure at 0x7f1e9925c7b8>"
            ]
          },
          "metadata": {
            "tags": []
          }
        },
        {
          "output_type": "display_data",
          "data": {
            "image/png": "[encoded data removed]",
            "text/plain": [
              "<matplotlib.figure.Figure at 0x7f1e991d1fd0>"
            ]
          },
          "metadata": {
            "tags": []
          }
        }
      ]
    },
    {
      "metadata": {
        "id": "G3k-LJiHpHrk",
        "colab_type": "code",
        "colab": {
          "autoexec": {
            "startup": false,
            "wait_interval": 0
          },
          "output_extras": [
            {
              "item_id": 1
            }
          ],
          "base_uri": "https://localhost:8080/",
          "height": 119
        },
        "outputId": "0124619f-e271-47c0-8250-105c9bc6142a",
        "executionInfo": {
          "status": "ok",
          "timestamp": 1520382140031,
          "user_tz": 480,
          "elapsed": 267,
          "user": {
            "displayName": "Anne Alter",
            "photoUrl": "//lh6.googleusercontent.com/-atp70WgtuyI/AAAAAAAAAAI/AAAAAAAAABI/v-4wP6906nY/s50-c-k-no/photo.jpg",
            "userId": "100735354600515761315"
          }
        }
      },
      "cell_type": "code",
      "source": [
        "print (\"number of training examples = \" + str(X_train.shape[0]))\n",
        "#print (\"number of dev examples = \" + str(X_dev.shape[0]))\n",
        "print (\"number of test examples = \" + str(X_test.shape[0]))\n",
        "print (\"X_train shape: \" + str(X_train.shape))\n",
        "print (\"Y_train shape: \" + str(Y_train.shape))\n",
        "#print (\"X_dev shape: \" + str(X_dev.shape))\n",
        "#print (\"Y_dev shape: \" + str(Y_dev.shape))\n",
        "print (\"X_test shape: \" + str(X_test.shape))\n",
        "print (\"Y_test shape: \" + str(Y_test.shape))\n",
        "conv_layers = {}"
      ],
      "execution_count": 7,
      "outputs": [
        {
          "output_type": "stream",
          "text": [
            "number of training examples = 16000\n",
            "number of test examples = 1000\n",
            "X_train shape: (16000, 40, 40)\n",
            "Y_train shape: (16000, 40, 40)\n",
            "X_test shape: (1000, 40, 40)\n",
            "Y_test shape: (1000, 40, 40)\n"
          ],
          "name": "stdout"
        }
      ]
    },
    {
      "metadata": {
        "id": "4Q614YlreBjo",
        "colab_type": "text"
      },
      "cell_type": "markdown",
      "source": [
        "FRAMEWORK FUNCTIONS"
      ]
    },
    {
      "metadata": {
        "id": "CdguVCM1duoN",
        "colab_type": "code",
        "colab": {
          "autoexec": {
            "startup": false,
            "wait_interval": 0
          }
        }
      },
      "cell_type": "code",
      "source": [
        "def create_placeholders(n_H0, n_W0, n_C0, n_y):\n",
        "    \"\"\"\n",
        "    Creates the placeholders for the tensorflow session.\n",
        "    \n",
        "    Arguments:\n",
        "    n_H0 -- scalar, height of an input image\n",
        "    n_W0 -- scalar, width of an input image\n",
        "    n_C0 -- scalar, number of channels of the input\n",
        "    n_y -- scalar, number of classes\n",
        "        \n",
        "    Returns:\n",
        "    X -- placeholder for the data input, of shape [None, n_H0, n_W0, n_C0] and dtype \"float\"\n",
        "    Y -- placeholder for the input labels, of shape [None, n_y] and dtype \"float\"\n",
        "    \"\"\"\n",
        "\n",
        "    X = tf.placeholder(tf.float32, shape = [None, n_H0, n_W0, n_C0], name = 'X')\n",
        "    Y = tf.placeholder(tf.float32, shape = [None, n_y], name = 'Y')\n",
        "    \n",
        "    return X, Y\n",
        "\n",
        "def initialize_parameters():\n",
        "    \"\"\"\n",
        "    Initializes weight parameters to build a neural network with tensorflow.\n",
        "    \n",
        "    Returns:\n",
        "    parameters -- a dictionary of tensors containing W1, W2\n",
        "    \"\"\"\n",
        "    \n",
        "    f1 = 16\n",
        "    f2 = 32\n",
        "    f3 = 64\n",
        "    \n",
        "    tf.set_random_seed(1)\n",
        "\n",
        "    W1 = tf.get_variable(\"W1\", [3,3,1,f1], initializer = tf.contrib.layers.xavier_initializer(seed = 0))\n",
        "    W2 = tf.get_variable(\"W2\", [3,3,f1,f1], initializer = tf.contrib.layers.xavier_initializer(seed = 0))\n",
        "    \n",
        "    W3 = tf.get_variable(\"W3\", [3,3,f1,f2], initializer = tf.contrib.layers.xavier_initializer(seed = 0))\n",
        "    W4 = tf.get_variable(\"W4\", [3,3,f2,f2], initializer = tf.contrib.layers.xavier_initializer(seed = 0))\n",
        "    \n",
        "    W5 = tf.get_variable(\"W5\", [3,3,f2,f3], initializer = tf.contrib.layers.xavier_initializer(seed = 0))\n",
        "    W6 = tf.get_variable(\"W6\", [3,3,f3,f3], initializer = tf.contrib.layers.xavier_initializer(seed = 0))\n",
        "    \n",
        "    W7 = tf.get_variable(\"W7\", [3,3,f3,f3], initializer = tf.contrib.layers.xavier_initializer(seed = 0))\n",
        "    W8 = tf.get_variable(\"W8\", [3,3,f3,f3], initializer = tf.contrib.layers.xavier_initializer(seed = 0))\n",
        "    \n",
        "    W9 = tf.get_variable(\"W9\", [3,3,f3+f2,f2], initializer = tf.contrib.layers.xavier_initializer(seed = 0)) ### 32\n",
        "    W10 = tf.get_variable(\"W10\", [3,3,f2,f2], initializer = tf.contrib.layers.xavier_initializer(seed = 0))\n",
        "    \n",
        "    W11 = tf.get_variable(\"W11\", [3,3,f1+f2,f1], initializer = tf.contrib.layers.xavier_initializer(seed = 0)) ### 16\n",
        "    W12 = tf.get_variable(\"W12\", [3,3,f1,f1], initializer = tf.contrib.layers.xavier_initializer(seed = 0))\n",
        "\n",
        "    W13 = tf.get_variable(\"W13\", [1,1,f1,1], initializer = tf.contrib.layers.xavier_initializer(seed = 0))\n",
        "    \n",
        "    parameters = {\"W1\": W1,\n",
        "                  \"W2\": W2, \"W3\": W3, \"W4\": W4, \"W5\": W5, \"W6\": W6,\n",
        "                  \"W7\": W7,\"W8\": W8, \"W9\": W9, \"W10\": W10,\n",
        "                  \"W11\": W11,\"W12\": W12, \"W13\": W13\n",
        "                  }\n",
        "    \n",
        "    return parameters\n",
        "\n",
        "def random_mini_batches(X, Y, mini_batch_size = 64, seed = 0):\n",
        "    \"\"\"\n",
        "    Creates a list of random minibatches from (X, Y)\n",
        "    Arguments:\n",
        "    X -- input data, of shape (input size, number of examples)\n",
        "    Y -- true \"label\" vector (1 for blue dot / 0 for red dot), of shape (1, number of examples) mini_batch_size -- size of the mini-batches, integer\n",
        "    Returns:\n",
        "    mini_batches -- list of synchronous (mini_batch_X, mini_batch_Y) \"\"\"\n",
        "    \n",
        "    np.random.seed(seed) \n",
        "    m = X.shape[0]\n",
        "    mini_batches = []\n",
        "\n",
        "    # Step 1: Shuffle (X, Y)\n",
        "    permutation = list(np.random.permutation(m)) \n",
        "    shuffled_X = X[permutation,:,:]                     # [m,40,40]\n",
        "    shuffled_Y = Y[permutation,:,:].reshape((m,40*40))  # [m,40*40]\n",
        "\n",
        "    # Step 2: Partition (shuffled_X, shuffled_Y). Minus the end case.\n",
        "    num_complete_minibatches = math.floor(m/mini_batch_size) \n",
        "    \n",
        "    # MINIBATCH LOOP}\n",
        "    for k in range(0, num_complete_minibatches):\n",
        "      mini_batch_X = shuffled_X[k*mini_batch_size:(k+1)*mini_batch_size,:,:] #[64,40,40]\n",
        "      mini_batch_X = mini_batch_X.reshape((mini_batch_size, shuffled_X.shape[1], shuffled_X.shape[2],1))\n",
        "      \n",
        "      mini_batch_Y = shuffled_Y[k*mini_batch_size:(k+1)*mini_batch_size,:]  #[m,1600]\n",
        "\n",
        "      mini_batch = (mini_batch_X, mini_batch_Y)\n",
        "      mini_batches.append(mini_batch)      \n",
        "\n",
        "    # END CASE (last mini-batch < mini_batch_size)\n",
        "    if m % mini_batch_size != 0:\n",
        "      mini_batch_X = shuffled_X[num_complete_minibatches*mini_batch_size:m,:,:] \n",
        "      mini_batch_X = mini_batch_X.reshape(((m-mini_batch_size*(m%mini_batch_size)), shuffled_X.shape[1], shuffled_X.shape[2],1))\n",
        "      \n",
        "      mini_batch_Y = shuffled_Y[num_complete_minibatches*mini_batch_size:m,:]\n",
        "      \n",
        "      mini_batch = (mini_batch_X, mini_batch_Y)\n",
        "      mini_batches.append(mini_batch)\n",
        "    \n",
        "    return mini_batches\n",
        "\n",
        "def batch_norm(Z_in):\n",
        "  epsilon = 1e-3\n",
        "  batch_mean, batch_var = tf.nn.moments(Z_in,[0])\n",
        "  scale = tf.Variable(tf.ones([100]))\n",
        "  beta = tf.Variable(tf.zeros([100]))\n",
        "  BN = tf.nn.batch_normalization(z_in,batch_mean,batch_var,beta,scale,epsilon)\n",
        "  return BN\n",
        "  \n",
        "def forward_propagation(X, parameters, phase):\n",
        "    \"\"\"\n",
        "    Implements the forward propagation for the model:\n",
        "    CONV2D -> RELU -> MAXPOOL -> CONV2D -> RELU -> MAXPOOL -> FLATTEN -> FULLYCONNECTED\n",
        "    \n",
        "    Arguments:\n",
        "    X -- input dataset placeholder, of shape (input size, number of examples)\n",
        "    parameters -- python dictionary containing your parameters \"W1\", \"W2\"\n",
        "                  the shapes are given in initialize_parameters\n",
        "\n",
        "    Returns:\n",
        "    Z3 -- the output of the last LINEAR unit\n",
        "    \"\"\"\n",
        "    \n",
        "    # Retrieve the parameters from the dictionary \"parameters\" \n",
        "    W1 = parameters['W1']\n",
        "    W2 = parameters['W2']\n",
        "    W3 = parameters['W3']\n",
        "    W4 = parameters['W4']\n",
        "    W5 = parameters['W5']\n",
        "    W6 = parameters['W6']\n",
        "    W7 = parameters['W7']\n",
        "    W8 = parameters['W8']\n",
        "    W9 = parameters['W9']\n",
        "    W10 = parameters['W10']\n",
        "    W11 = parameters['W11']\n",
        "    W12 = parameters['W12']\n",
        "    W13 = parameters['W13']\n",
        "    \n",
        "    keep_probability = 0.7\n",
        "    \n",
        "    #### BLOCK 1 (16 channels) ####\n",
        "    # CONV2D: stride of 1, padding 'SAME'\n",
        "    Z1 = tf.nn.conv2d(X, W1, strides = [1,1,1,1], padding = 'SAME')\n",
        "    # BATCH NORMALIZATION\n",
        "    #B1 = tf.contrib.layers.batch_norm(Z1, center = True, scale = True, is_training = phase)\n",
        "    # RELU\n",
        "    A1 = tf.nn.relu(Z1)\n",
        "    \n",
        "    # CONV2D: stride of 1, padding 'SAME'\n",
        "    Z2 = tf.nn.conv2d(A1, W2, strides = [1,1,1,1], padding = 'SAME')\n",
        "    # BATCH NORMALIZATION\n",
        "    #B2 = tf.contrib.layers.batch_norm(Z2, center = True, scale = True, is_training = phase)\n",
        "    # RELU\n",
        "    A2 = tf.nn.relu(Z2) \n",
        "    \n",
        "    # MAXPOOL: window 8x8, sride 8, padding 'SAME'\n",
        "    P1 = tf.nn.max_pool(A2, ksize = [1,2,2,1], strides = [1,2,2,1], padding = 'VALID')\n",
        "    \n",
        "    \n",
        "    #### BLOCK 2 (32 channels) ####\n",
        "    # CONV2D: stride of 1, padding 'SAME'\n",
        "    Z3 = tf.nn.conv2d(P1, W3, strides = [1,1,1,1], padding = 'SAME')\n",
        "    # BATCH NORMALIZATION\n",
        "    #B3 = tf.contrib.layers.batch_norm(Z3, center = True, scale = True, is_training = phase)\n",
        "    # RELU\n",
        "    A3 = tf.nn.relu(Z3)\n",
        "    \n",
        "    # DROPOUT\n",
        "    D1 = tf.nn.dropout(A3, keep_prob = keep_probability)\n",
        "    \n",
        "    # CONV2D: stride of 1, padding 'SAME'\n",
        "    Z4 = tf.nn.conv2d(D1, W4, strides = [1,1,1,1], padding = 'SAME')\n",
        "    # BATCH NORMALIZATION\n",
        "    #B4 = tf.contrib.layers.batch_norm(Z4, center = True, scale = True, is_training = phase)\n",
        "    # RELU\n",
        "    A4 = tf.nn.relu(Z4)\n",
        "    \n",
        "    # MAXPOOL: window 8x8, sride 8, padding 'SAME'\n",
        "    P2 = tf.nn.max_pool(A4, ksize = [1,2,2,1], strides = [1,2,2,1], padding = 'VALID')\n",
        "    \n",
        "    \n",
        "    #### BLOCK 3 (64 channels) ####\n",
        "    # CONV2D: stride of 1, padding 'SAME'\n",
        "    Z5 = tf.nn.conv2d(P2, W5, strides = [1,1,1,1], padding = 'SAME')\n",
        "    # BATCH NORMALIZATION\n",
        "    #B5 = tf.contrib.layers.batch_norm(Z5, center = True, scale = True, is_training = phase)\n",
        "    # RELU\n",
        "    A5 = tf.nn.relu(Z5)\n",
        "    \n",
        "    # CONV2D: stride of 1, padding 'SAME'\n",
        "    Z6 = tf.nn.conv2d(A5, W6, strides = [1,1,1,1], padding = 'SAME')\n",
        "    # BATCH NORMALIZATION\n",
        "    #B6 = tf.contrib.layers.batch_norm(Z6, center = True, scale = True, is_training = phase)\n",
        "    # RELU\n",
        "    A6 = tf.nn.relu(Z6)\n",
        "    \n",
        "    # CONV2D: stride of 1, padding 'SAME'\n",
        "    Z7 = tf.nn.conv2d(A6, W7, strides = [1,1,1,1], padding = 'SAME')\n",
        "    # BATCH NORMALIZATION\n",
        "    #B7 = tf.contrib.layers.batch_norm(Z7, center = True, scale = True, is_training = phase)\n",
        "    # RELU\n",
        "    A7 = tf.nn.relu(Z7)\n",
        "    \n",
        "    # CONV2D: stride of 1, padding 'SAME'\n",
        "    Z8 = tf.nn.conv2d(A7, W8, strides = [1,1,1,1], padding = 'SAME')\n",
        "    # BATCH NORMALIZATION\n",
        "    #B8 = tf.contrib.layers.batch_norm(Z8, center = True, scale = True, is_training = phase)\n",
        "    # RELU\n",
        "    A8 = tf.nn.relu(Z8)\n",
        "    \n",
        "    #### BLOCK 4 (32 channels) ####\n",
        "    # UPSAMPLE\n",
        "    U1 = tf.keras.layers.UpSampling2D((2,2))(A8)\n",
        "    # CONCATENATE\n",
        "    C1 = tf.concat([U1,A4], axis = 3)  # should have 64 channels - need to convolve down to 32\n",
        "    # CONV2D: stride of 1, padding 'SAME'\n",
        "    Z9 = tf.nn.conv2d(C1, W9, strides = [1,1,1,1], padding = 'SAME')\n",
        "    # BATCH NORMALIZATION\n",
        "    #B9 = tf.contrib.layers.batch_norm(Z9, center = True, scale = True, is_training = phase)\n",
        "    # RELU\n",
        "    A9 = tf.nn.relu(Z9)\n",
        "    # DROPOUT\n",
        "    D2 = tf.nn.dropout(A9, keep_prob = keep_probability)\n",
        "\n",
        "    # CONV2D: stride of 1, padding 'SAME'\n",
        "    Z10 = tf.nn.conv2d(D2, W10, strides = [1,1,1,1], padding = 'SAME')\n",
        "    # BATCH NORMALIZATION\n",
        "    #B10 = tf.contrib.layers.batch_norm(Z10, center = True, scale = True, is_training = phase)\n",
        "    # RELU\n",
        "    A10 = tf.nn.relu(Z10)\n",
        "    \n",
        "    #### BLOCK 5 (16 channels) ####\n",
        "    # UPSAMPLE\n",
        "    U2 = tf.keras.layers.UpSampling2D((2,2))(A10)\n",
        "    # CONCATENATE\n",
        "    C2 = tf.concat([U2,A2], axis = 3) # should have 32 channels - need to convolve down to 16 #contrib.keras.layers.concatenate\n",
        "    # CONV2D: stride of 1, padding 'SAME'\n",
        "    Z11 = tf.nn.conv2d(C2, W11, strides = [1,1,1,1], padding = 'SAME')\n",
        "    # BATCH NORMALIZATION\n",
        "    #B11 = tf.contrib.layers.batch_norm(Z11, center = True, scale = True, is_training = phase)\n",
        "    # RELU\n",
        "    A11 = tf.nn.relu(Z11)\n",
        "    \n",
        "    # CONV2D: stride of 1, padding 'SAME'\n",
        "    Z12 = tf.nn.conv2d(A11, W12, strides = [1,1,1,1], padding = 'SAME')\n",
        "    # BATCH NORMALIZATION\n",
        "    #B12 = tf.contrib.layers.batch_norm(Z12, center = True, scale = True, is_training = phase)\n",
        "    # RELU\n",
        "    A12 = tf.nn.relu(Z12)\n",
        "    \n",
        "    # FLATTEN\n",
        "    Z13 = tf.nn.conv2d(A12, W13, strides = [1,1,1,1], padding = 'SAME')\n",
        "    F1 = tf.contrib.layers.flatten(Z13)\n",
        "    Z14 = tf.contrib.layers.fully_connected(F1, num_outputs = 40*40, activation_fn = None) #tf.nn.sigmoid   \n",
        "    \n",
        "    return Z14\n",
        "\n",
        "def compute_cost(Z, Y):\n",
        "    \"\"\"\n",
        "    Computes the cost\n",
        "\n",
        "    Arguments:\n",
        "    Z -- output of forward propagation (output of the last LINEAR unit), of shape (40*40, number of examples)\n",
        "    Y -- \"true\" labels vector placeholder, same shape as Z\n",
        "\n",
        "    Returns:\n",
        "    cost - Tensor of the cost function\n",
        "    \"\"\"\n",
        "    \n",
        "    my_logits=tf.reshape(Z, (-1,1))\n",
        "    my_labels=tf.reshape(Y, (-1,1))\n",
        "    iou_labels = tf.nn.sigmoid(my_logits) > 0.5\n",
        "    cost = tf.reduce_mean(tf.nn.sigmoid_cross_entropy_with_logits(logits=my_logits, labels=my_labels))\n",
        "    mean_IOU = tf.metrics.mean_iou(labels = my_labels, predictions = iou_labels, num_classes = 2)\n",
        "    \n",
        "    return cost, mean_IOU\n"
      ],
      "execution_count": 0,
      "outputs": []
    },
    {
      "metadata": {
        "id": "JdjNNzUBJ3kH",
        "colab_type": "code",
        "colab": {
          "autoexec": {
            "startup": false,
            "wait_interval": 0
          }
        }
      },
      "cell_type": "code",
      "source": [
        "def print_topology(data):\n",
        "    \"\"\"\n",
        "    Arguments:\n",
        "      data -- image of size (40,40,1)\n",
        "    Returns:\n",
        "      nothing\n",
        "    \"\"\"\n",
        "    fig = plt.figure()\n",
        "    plt.grid(False)\n",
        "    plt.imshow(data[:,:,0], cmap=\"binary\")\n",
        "    plt.show()\n",
        "\n",
        "    return"
      ],
      "execution_count": 0,
      "outputs": []
    },
    {
      "metadata": {
        "id": "Yc2vdpw_J3-M",
        "colab_type": "text"
      },
      "cell_type": "markdown",
      "source": [
        "RUN MODEL"
      ]
    },
    {
      "metadata": {
        "id": "APiVmdCKJTlR",
        "colab_type": "code",
        "colab": {
          "autoexec": {
            "startup": false,
            "wait_interval": 0
          }
        }
      },
      "cell_type": "code",
      "source": [
        "def model(X_train, Y_train, X_test, Y_test, learning_rate = 0.001,\n",
        "          num_epochs = 100, minibatch_size = 64, print_cost = True):\n",
        "    \"\"\"\n",
        "    Implements a three-layer ConvNet in Tensorflow:\n",
        "    CONV2D -> RELU -> MAXPOOL -> CONV2D -> RELU -> MAXPOOL -> FLATTEN -> FULLYCONNECTED\n",
        "    \n",
        "    Arguments:\n",
        "    X_train -- training set, of shape (None, 40, 40, 1)\n",
        "    Y_train -- test set, of shape (None, n_y = 6)\n",
        "    X_test -- training set, of shape (None, 40, 40, 1)\n",
        "    Y_test -- test set, of shape (None, n_y = 6)\n",
        "    learning_rate -- learning rate of the optimization\n",
        "    num_epochs -- number of epochs of the optimization loop\n",
        "    minibatch_size -- size of a minibatch\n",
        "    print_cost -- True to print the cost every 100 epochs\n",
        "    \n",
        "    Returns:\n",
        "    train_accuracy -- real number, accuracy on the train set (X_train)\n",
        "    test_accuracy -- real number, testing accuracy on the test set (X_test)\n",
        "    parameters -- parameters learnt by the model. They can then be used to predict.\n",
        "    \"\"\"\n",
        "    \n",
        "    ops.reset_default_graph()                         # to be able to rerun the model without overwriting tf variables\n",
        "    tf.set_random_seed(1)                             # to keep results consistent (tensorflow seed)\n",
        "    seed = 3                                          # to keep results consistent (numpy seed)\n",
        "    \n",
        "    (m, n_H0, n_W0) = X_train.shape\n",
        "    print(m)\n",
        "    n_C0 = 1\n",
        "    n_y = Y_train.shape[1]*Y_train.shape[2]                            \n",
        "    \n",
        "    costs = []\n",
        "    costs_dev = []\n",
        "    IOU = []\n",
        "    IOU_dev = []\n",
        "    \n",
        "    number = 25\n",
        "    \n",
        "    # TEMPORARY CODE\n",
        "    X_dev = X_test\n",
        "    X_dev = X_dev.reshape((X_dev.shape[0], X_dev.shape[1], X_dev.shape[2],1))\n",
        "\n",
        "    Y_dev = Y_test\n",
        "    Y_dev = Y_dev.reshape((Y_dev.shape[0], Y_dev.shape[1]*Y_dev.shape[2]))\n",
        "    \n",
        "    # PLACEHOLDERS\n",
        "    X, Y = create_placeholders(n_H0, n_W0, n_C0, n_y)\n",
        "    phase = tf.placeholder(tf.bool)\n",
        "\n",
        "    # INITIALIZE PARAMETERS\n",
        "    parameters = initialize_parameters()\n",
        "    \n",
        "    # FORWARD PROPAGATION\n",
        "    Z = forward_propagation(X, parameters, phase)\n",
        "    \n",
        "    # COST FUNCTION\n",
        "    cost, mean_IOU = compute_cost(Z, Y)\n",
        "    \n",
        "    # BACKPROPAGATION\n",
        "    optimizer = tf.train.AdamOptimizer(learning_rate = learning_rate).minimize(cost)\n",
        "    \n",
        "    # Initialize all the variables globally\n",
        "    init = tf.global_variables_initializer()\n",
        "    init_local = tf.local_variables_initializer()\n",
        "    \n",
        "    # ENCODE IMAGE\n",
        "    image = tf.reshape(tf.image.convert_image_dtype(Z[number,:], tf.int64), [40, 40,1])\n",
        "\n",
        "    # START TENSORFLOW SESSION\n",
        "    with tf.Session() as sess:\n",
        "        \n",
        "        # SESSION INITIALIZATION\n",
        "        sess.run(init)\n",
        "        sess.run(init_local)\n",
        "        \n",
        "        # TRAINING LOOP\n",
        "        for epoch in range(num_epochs):\n",
        "            print(epoch)\n",
        "            \n",
        "            minibatch_cost = 0.\n",
        "            minibatch_IOU = 0.\n",
        "\n",
        "            num_minibatches = int(m / minibatch_size)\n",
        "            seed = seed + 1\n",
        "            minibatches = random_mini_batches(X_train, Y_train, minibatch_size, seed)\n",
        "\n",
        "            # MINIBATCH LOOP\n",
        "            for minibatch in minibatches:\n",
        "                (minibatch_X, minibatch_Y) = minibatch\n",
        "                \n",
        "                _ , temp_cost, image_enc, params, IOU_current = sess.run([optimizer, cost, image, parameters, mean_IOU], feed_dict={X: minibatch_X, Y: minibatch_Y, phase: True})\n",
        "                #_ , temp_cost, params, IOU_current = sess.run([optimizer, cost, parameters, mean_IOU], feed_dict={X: minibatch_X, Y: minibatch_Y})\n",
        "                #Z_out = sess.run([Z], feed_dict={X: minibatch_X, Y: minibatch_Y})\n",
        "                #print(np.shape(Z_out))\n",
        "                #print(tf.get_shape(Z_out))\n",
        "                \n",
        "                minibatch_cost += temp_cost / num_minibatches\n",
        "                minibatch_IOU += IOU_current[0] / num_minibatches\n",
        "          \n",
        "#                 print_topology(np.reshape(minibatch_X[number,:,:], (40, 40,1)))\n",
        "#                 print_topology(np.reshape(minibatch_Y[number,:], (40, 40,1)))\n",
        "#                 print_topology(image_enc)\n",
        "            \n",
        "#             print_topology(np.reshape(minibatch_X[number,:,:], (40, 40,1)))\n",
        "#             print_topology(np.reshape(minibatch_Y[number,:], (40, 40,1)))\n",
        "#             print_topology(image_enc)\n",
        "\n",
        "            # CALCULATE DEV SET COST + IOU EACH EPOCH\n",
        "            temp_cost_dev, temp_IOU_dev, image_enc_test = sess.run([cost, mean_IOU, image], feed_dict = {X:X_dev, Y:Y_dev, phase: True})\n",
        "\n",
        "            # PRINT COST EVERY 5 EPOCHS\n",
        "            if print_cost == True and epoch == 0:\n",
        "                print_topology(X_dev[number,:,:,:])\n",
        "                print_topology(np.reshape(Y_dev[number,:], (40, 40,1)))\n",
        "            if print_cost == True and epoch % 5 == 0:\n",
        "                print_topology(image_enc_test)\n",
        "                print (\"TRAIN COST @ EPOCH %i: %f\" % (epoch, minibatch_cost))\n",
        "                print (\"TRAIN IOU  @ EPOCH %i: %f\" % (epoch, minibatch_IOU))\n",
        "                print (\"TEST  COST @ EPOCH %i: %f\" % (epoch, temp_cost_dev))\n",
        "                print (\"TEST  IOU  @ EPOCH %i: %f\" % (epoch, temp_IOU_dev[0]))\n",
        "                \n",
        "            if print_cost == True and epoch % 1 == 0:\n",
        "                costs.append(minibatch_cost)\n",
        "                IOU.append(minibatch_IOU)\n",
        "                costs_dev.append(temp_cost_dev)\n",
        "                IOU_dev.append(temp_IOU_dev[0])\n",
        "        \n",
        "        # PLOT TRAIN COST AND IOU\n",
        "        plt.plot(np.squeeze(costs))\n",
        "        plt.ylabel('COST')\n",
        "        plt.xlabel('iterations (per tens)')\n",
        "        plt.title(\"COST (TRAIN SET) (Learning rate =\" + str(learning_rate) + \")\")\n",
        "        plt.show()\n",
        "\n",
        "        plt.plot(np.squeeze(IOU))\n",
        "        plt.ylabel('IOU')\n",
        "        plt.xlabel('iterations (per tens)')\n",
        "        plt.title(\"IOU (TRAIN_SET)\")\n",
        "        plt.show()\n",
        "\n",
        "\n",
        "        # PLOT DEV COST AND IOU\n",
        "        plt.plot(np.squeeze(costs_dev))\n",
        "        plt.ylabel('COST')\n",
        "        plt.xlabel('iterations (per tens)')\n",
        "        plt.title(\"COST (DEV SET) (Learning rate =\" + str(learning_rate) + \")\")\n",
        "        plt.show()\n",
        "\n",
        "        plt.plot(np.squeeze(IOU_dev))\n",
        "        plt.ylabel('IOU')\n",
        "        plt.xlabel('iterations (per tens)')\n",
        "        plt.title(\"IOU (DEV SET)\")\n",
        "        plt.show()\n",
        "        \n",
        "                \n",
        "        return parameters"
      ],
      "execution_count": 0,
      "outputs": []
    },
    {
      "metadata": {
        "id": "uCaPObv9RiMN",
        "colab_type": "code",
        "colab": {
          "autoexec": {
            "startup": false,
            "wait_interval": 0
          },
          "output_extras": [
            {
              "item_id": 2
            },
            {
              "item_id": 3
            },
            {
              "item_id": 4
            },
            {
              "item_id": 5
            },
            {
              "item_id": 10
            },
            {
              "item_id": 11
            },
            {
              "item_id": 16
            },
            {
              "item_id": 17
            },
            {
              "item_id": 22
            },
            {
              "item_id": 23
            },
            {
              "item_id": 28
            },
            {
              "item_id": 29
            },
            {
              "item_id": 34
            },
            {
              "item_id": 35
            },
            {
              "item_id": 40
            },
            {
              "item_id": 41
            },
            {
              "item_id": 46
            },
            {
              "item_id": 47
            },
            {
              "item_id": 52
            },
            {
              "item_id": 53
            },
            {
              "item_id": 58
            },
            {
              "item_id": 59
            },
            {
              "item_id": 64
            },
            {
              "item_id": 65
            },
            {
              "item_id": 70
            },
            {
              "item_id": 71
            },
            {
              "item_id": 76
            },
            {
              "item_id": 77
            },
            {
              "item_id": 82
            },
            {
              "item_id": 83
            },
            {
              "item_id": 88
            },
            {
              "item_id": 89
            },
            {
              "item_id": 94
            },
            {
              "item_id": 95
            },
            {
              "item_id": 100
            },
            {
              "item_id": 101
            },
            {
              "item_id": 106
            },
            {
              "item_id": 107
            },
            {
              "item_id": 112
            },
            {
              "item_id": 113
            },
            {
              "item_id": 118
            },
            {
              "item_id": 119
            },
            {
              "item_id": 123
            },
            {
              "item_id": 124
            },
            {
              "item_id": 125
            },
            {
              "item_id": 126
            },
            {
              "item_id": 127
            },
            {
              "item_id": 128
            }
          ],
          "base_uri": "https://localhost:8080/",
          "height": 9923
        },
        "outputId": "feffff4e-8c97-4743-e47d-2c71ad593b82",
        "executionInfo": {
          "status": "ok",
          "timestamp": 1520572295276,
          "user_tz": 480,
          "elapsed": 1437532,
          "user": {
            "displayName": "Anne Alter",
            "photoUrl": "//lh6.googleusercontent.com/-atp70WgtuyI/AAAAAAAAAAI/AAAAAAAAABI/v-4wP6906nY/s50-c-k-no/photo.jpg",
            "userId": "100735354600515761315"
          }
        }
      },
      "cell_type": "code",
      "source": [
        "model(X_train, Y_train, X_test, Y_test, learning_rate = 0.0007, num_epochs = 100, minibatch_size = 64, print_cost = True)"
      ],
      "execution_count": 67,
      "outputs": [
        {
          "output_type": "stream",
          "text": [
            "16000\n",
            "0\n"
          ],
          "name": "stdout"
        },
        {
          "output_type": "display_data",
          "data": {
            "image/png": "[encoded data removed]",
            "text/plain": [
              "<matplotlib.figure.Figure at 0x7f1e80c8c4a8>"
            ]
          },
          "metadata": {
            "tags": []
          }
        },
        {
          "output_type": "display_data",
          "data": {
            "image/png": "[encoded data removed]",
            "text/plain": [
              "<matplotlib.figure.Figure at 0x7f1e80a93eb8>"
            ]
          },
          "metadata": {
            "tags": []
          }
        },
        {
          "output_type": "display_data",
          "data": {
            "image/png": "[encoded data removed]",
            "text/plain": [
              "<matplotlib.figure.Figure at 0x7f1e809f8f98>"
            ]
          },
          "metadata": {
            "tags": []
          }
        },
        {
          "output_type": "stream",
          "text": [
            "TRAIN COST @ EPOCH 0: 0.261161\n",
            "TRAIN IOU  @ EPOCH 0: 0.689121\n",
            "TEST  COST @ EPOCH 0: 0.163183\n",
            "TEST  IOU  @ EPOCH 0: 0.792055\n",
            "1\n",
            "2\n",
            "3\n",
            "4\n",
            "5\n"
          ],
          "name": "stdout"
        },
        {
          "output_type": "display_data",
          "data": {
            "image/png": "[encoded data removed]",
            "text/plain": [
              "<matplotlib.figure.Figure at 0x7f1e80a88668>"
            ]
          },
          "metadata": {
            "tags": []
          }
        },
        {
          "output_type": "stream",
          "text": [
            "TRAIN COST @ EPOCH 5: 0.121447\n",
            "TRAIN IOU  @ EPOCH 5: 0.874851\n",
            "TEST  COST @ EPOCH 5: 0.128832\n",
            "TEST  IOU  @ EPOCH 5: 0.877112\n",
            "6\n",
            "7\n",
            "8\n",
            "9\n",
            "10\n"
          ],
          "name": "stdout"
        },
        {
          "output_type": "display_data",
          "data": {
            "image/png": "[encoded data removed]",
            "text/plain": [
              "<matplotlib.figure.Figure at 0x7f1e80964ba8>"
            ]
          },
          "metadata": {
            "tags": []
          }
        },
        {
          "output_type": "stream",
          "text": [
            "TRAIN COST @ EPOCH 10: 0.108628\n",
            "TRAIN IOU  @ EPOCH 10: 0.890681\n",
            "TEST  COST @ EPOCH 10: 0.122234\n",
            "TEST  IOU  @ EPOCH 10: 0.891638\n",
            "11\n",
            "12\n",
            "13\n",
            "14\n",
            "15\n"
          ],
          "name": "stdout"
        },
        {
          "output_type": "display_data",
          "data": {
            "image/png": "[encoded data removed]",
            "text/plain": [
              "<matplotlib.figure.Figure at 0x7f1e80973f60>"
            ]
          },
          "metadata": {
            "tags": []
          }
        },
        {
          "output_type": "stream",
          "text": [
            "TRAIN COST @ EPOCH 15: 0.098669\n",
            "TRAIN IOU  @ EPOCH 15: 0.899076\n",
            "TEST  COST @ EPOCH 15: 0.122859\n",
            "TEST  IOU  @ EPOCH 15: 0.899724\n",
            "16\n",
            "17\n",
            "18\n",
            "19\n",
            "20\n"
          ],
          "name": "stdout"
        },
        {
          "output_type": "display_data",
          "data": {
            "image/png": "[encoded data removed]",
            "text/plain": [
              "<matplotlib.figure.Figure at 0x7f1e809647b8>"
            ]
          },
          "metadata": {
            "tags": []
          }
        },
        {
          "output_type": "stream",
          "text": [
            "TRAIN COST @ EPOCH 20: 0.087386\n",
            "TRAIN IOU  @ EPOCH 20: 0.905366\n",
            "TEST  COST @ EPOCH 20: 0.130957\n",
            "TEST  IOU  @ EPOCH 20: 0.905909\n",
            "21\n",
            "22\n",
            "23\n",
            "24\n",
            "25\n"
          ],
          "name": "stdout"
        },
        {
          "output_type": "display_data",
          "data": {
            "image/png": "[encoded data removed]",
            "text/plain": [
              "<matplotlib.figure.Figure at 0x7f1e80979390>"
            ]
          },
          "metadata": {
            "tags": []
          }
        },
        {
          "output_type": "stream",
          "text": [
            "TRAIN COST @ EPOCH 25: 0.075060\n",
            "TRAIN IOU  @ EPOCH 25: 0.910968\n",
            "TEST  COST @ EPOCH 25: 0.141545\n",
            "TEST  IOU  @ EPOCH 25: 0.911493\n",
            "26\n",
            "27\n",
            "28\n",
            "29\n",
            "30\n"
          ],
          "name": "stdout"
        },
        {
          "output_type": "display_data",
          "data": {
            "image/png": "[encoded data removed]",
            "text/plain": [
              "<matplotlib.figure.Figure at 0x7f1e808d53c8>"
            ]
          },
          "metadata": {
            "tags": []
          }
        },
        {
          "output_type": "stream",
          "text": [
            "TRAIN COST @ EPOCH 30: 0.063881\n",
            "TRAIN IOU  @ EPOCH 30: 0.916212\n",
            "TEST  COST @ EPOCH 30: 0.163152\n",
            "TEST  IOU  @ EPOCH 30: 0.916708\n",
            "31\n",
            "32\n",
            "33\n",
            "34\n",
            "35\n"
          ],
          "name": "stdout"
        },
        {
          "output_type": "display_data",
          "data": {
            "image/png": "[encoded data removed]",
            "text/plain": [
              "<matplotlib.figure.Figure at 0x7f1e8089dda0>"
            ]
          },
          "metadata": {
            "tags": []
          }
        },
        {
          "output_type": "stream",
          "text": [
            "TRAIN COST @ EPOCH 35: 0.054885\n",
            "TRAIN IOU  @ EPOCH 35: 0.921048\n",
            "TEST  COST @ EPOCH 35: 0.185940\n",
            "TEST  IOU  @ EPOCH 35: 0.921503\n",
            "36\n",
            "37\n",
            "38\n",
            "39\n",
            "40\n"
          ],
          "name": "stdout"
        },
        {
          "output_type": "display_data",
          "data": {
            "image/png": "[encoded data removed]",
            "text/plain": [
              "<matplotlib.figure.Figure at 0x7f1e8081ecf8>"
            ]
          },
          "metadata": {
            "tags": []
          }
        },
        {
          "output_type": "stream",
          "text": [
            "TRAIN COST @ EPOCH 40: 0.048998\n",
            "TRAIN IOU  @ EPOCH 40: 0.925341\n",
            "TEST  COST @ EPOCH 40: 0.212230\n",
            "TEST  IOU  @ EPOCH 40: 0.925744\n",
            "41\n",
            "42\n",
            "43\n",
            "44\n",
            "45\n"
          ],
          "name": "stdout"
        },
        {
          "output_type": "display_data",
          "data": {
            "image/png": "[encoded data removed]",
            "text/plain": [
              "<matplotlib.figure.Figure at 0x7f1e808290f0>"
            ]
          },
          "metadata": {
            "tags": []
          }
        },
        {
          "output_type": "stream",
          "text": [
            "TRAIN COST @ EPOCH 45: 0.044349\n",
            "TRAIN IOU  @ EPOCH 45: 0.929097\n",
            "TEST  COST @ EPOCH 45: 0.231558\n",
            "TEST  IOU  @ EPOCH 45: 0.929456\n",
            "46\n",
            "47\n",
            "48\n",
            "49\n",
            "50\n"
          ],
          "name": "stdout"
        },
        {
          "output_type": "display_data",
          "data": {
            "image/png": "[encoded data removed]",
            "text/plain": [
              "<matplotlib.figure.Figure at 0x7f1e807a2198>"
            ]
          },
          "metadata": {
            "tags": []
          }
        },
        {
          "output_type": "stream",
          "text": [
            "TRAIN COST @ EPOCH 50: 0.040938\n",
            "TRAIN IOU  @ EPOCH 50: 0.932383\n",
            "TEST  COST @ EPOCH 50: 0.253540\n",
            "TEST  IOU  @ EPOCH 50: 0.932702\n",
            "51\n",
            "52\n",
            "53\n",
            "54\n",
            "55\n"
          ],
          "name": "stdout"
        },
        {
          "output_type": "display_data",
          "data": {
            "image/png": "[encoded data removed]",
            "text/plain": [
              "<matplotlib.figure.Figure at 0x7f1e80755f28>"
            ]
          },
          "metadata": {
            "tags": []
          }
        },
        {
          "output_type": "stream",
          "text": [
            "TRAIN COST @ EPOCH 55: 0.037996\n",
            "TRAIN IOU  @ EPOCH 55: 0.935272\n",
            "TEST  COST @ EPOCH 55: 0.270918\n",
            "TEST  IOU  @ EPOCH 55: 0.935555\n",
            "56\n",
            "57\n",
            "58\n",
            "59\n",
            "60\n"
          ],
          "name": "stdout"
        },
        {
          "output_type": "display_data",
          "data": {
            "image/png": "[encoded data removed]",
            "text/plain": [
              "<matplotlib.figure.Figure at 0x7f1e806f98d0>"
            ]
          },
          "metadata": {
            "tags": []
          }
        },
        {
          "output_type": "stream",
          "text": [
            "TRAIN COST @ EPOCH 60: 0.035680\n",
            "TRAIN IOU  @ EPOCH 60: 0.937819\n",
            "TEST  COST @ EPOCH 60: 0.286685\n",
            "TEST  IOU  @ EPOCH 60: 0.938076\n",
            "61\n",
            "62\n",
            "63\n",
            "64\n",
            "65\n"
          ],
          "name": "stdout"
        },
        {
          "output_type": "display_data",
          "data": {
            "image/png": "[encoded data removed]",
            "text/plain": [
              "<matplotlib.figure.Figure at 0x7f1e805b8588>"
            ]
          },
          "metadata": {
            "tags": []
          }
        },
        {
          "output_type": "stream",
          "text": [
            "TRAIN COST @ EPOCH 65: 0.034092\n",
            "TRAIN IOU  @ EPOCH 65: 0.940092\n",
            "TEST  COST @ EPOCH 65: 0.302968\n",
            "TEST  IOU  @ EPOCH 65: 0.940321\n",
            "66\n",
            "67\n",
            "68\n",
            "69\n",
            "70\n"
          ],
          "name": "stdout"
        },
        {
          "output_type": "display_data",
          "data": {
            "image/png": "[encoded data removed]",
            "text/plain": [
              "<matplotlib.figure.Figure at 0x7f1e802bbba8>"
            ]
          },
          "metadata": {
            "tags": []
          }
        },
        {
          "output_type": "stream",
          "text": [
            "TRAIN COST @ EPOCH 70: 0.032564\n",
            "TRAIN IOU  @ EPOCH 70: 0.942125\n",
            "TEST  COST @ EPOCH 70: 0.314116\n",
            "TEST  IOU  @ EPOCH 70: 0.942331\n",
            "71\n",
            "72\n",
            "73\n",
            "74\n",
            "75\n"
          ],
          "name": "stdout"
        },
        {
          "output_type": "display_data",
          "data": {
            "image/png": "[encoded data removed]",
            "text/plain": [
              "<matplotlib.figure.Figure at 0x7f1e802276a0>"
            ]
          },
          "metadata": {
            "tags": []
          }
        },
        {
          "output_type": "stream",
          "text": [
            "TRAIN COST @ EPOCH 75: 0.031032\n",
            "TRAIN IOU  @ EPOCH 75: 0.943960\n",
            "TEST  COST @ EPOCH 75: 0.330077\n",
            "TEST  IOU  @ EPOCH 75: 0.944151\n",
            "76\n",
            "77\n",
            "78\n",
            "79\n",
            "80\n"
          ],
          "name": "stdout"
        },
        {
          "output_type": "display_data",
          "data": {
            "image/png": "[encoded data removed]",
            "text/plain": [
              "<matplotlib.figure.Figure at 0x7f1e802bb7b8>"
            ]
          },
          "metadata": {
            "tags": []
          }
        },
        {
          "output_type": "stream",
          "text": [
            "TRAIN COST @ EPOCH 80: 0.029637\n",
            "TRAIN IOU  @ EPOCH 80: 0.945620\n",
            "TEST  COST @ EPOCH 80: 0.343292\n",
            "TEST  IOU  @ EPOCH 80: 0.945795\n",
            "81\n",
            "82\n",
            "83\n",
            "84\n",
            "85\n"
          ],
          "name": "stdout"
        },
        {
          "output_type": "display_data",
          "data": {
            "image/png": "[encoded data removed]",
            "text/plain": [
              "<matplotlib.figure.Figure at 0x7f1e8018a630>"
            ]
          },
          "metadata": {
            "tags": []
          }
        },
        {
          "output_type": "stream",
          "text": [
            "TRAIN COST @ EPOCH 85: 0.028475\n",
            "TRAIN IOU  @ EPOCH 85: 0.947137\n",
            "TEST  COST @ EPOCH 85: 0.354420\n",
            "TEST  IOU  @ EPOCH 85: 0.947298\n",
            "86\n",
            "87\n",
            "88\n",
            "89\n",
            "90\n"
          ],
          "name": "stdout"
        },
        {
          "output_type": "display_data",
          "data": {
            "image/png": "[encoded data removed]",
            "text/plain": [
              "<matplotlib.figure.Figure at 0x7f1e8019ecc0>"
            ]
          },
          "metadata": {
            "tags": []
          }
        },
        {
          "output_type": "stream",
          "text": [
            "TRAIN COST @ EPOCH 90: 0.027903\n",
            "TRAIN IOU  @ EPOCH 90: 0.948524\n",
            "TEST  COST @ EPOCH 90: 0.366810\n",
            "TEST  IOU  @ EPOCH 90: 0.948673\n",
            "91\n",
            "92\n",
            "93\n",
            "94\n",
            "95\n"
          ],
          "name": "stdout"
        },
        {
          "output_type": "display_data",
          "data": {
            "image/png": "[encoded data removed]",
            "text/plain": [
              "<matplotlib.figure.Figure at 0x7f1e8019eda0>"
            ]
          },
          "metadata": {
            "tags": []
          }
        },
        {
          "output_type": "stream",
          "text": [
            "TRAIN COST @ EPOCH 95: 0.026815\n",
            "TRAIN IOU  @ EPOCH 95: 0.949806\n",
            "TEST  COST @ EPOCH 95: 0.378155\n",
            "TEST  IOU  @ EPOCH 95: 0.949943\n",
            "96\n",
            "97\n",
            "98\n",
            "99\n"
          ],
          "name": "stdout"
        },
        {
          "output_type": "display_data",
          "data": {
            "image/png": "[encoded data removed]",
            "text/plain": [
              "<matplotlib.figure.Figure at 0x7f1e801700f0>"
            ]
          },
          "metadata": {
            "tags": []
          }
        },
        {
          "output_type": "display_data",
          "data": {
            "image/png": "[encoded data removed]",
            "text/plain": [
              "<matplotlib.figure.Figure at 0x7f1e800687b8>"
            ]
          },
          "metadata": {
            "tags": []
          }
        },
        {
          "output_type": "display_data",
          "data": {
            "image/png": "[encoded data removed]",
            "text/plain": [
              "<matplotlib.figure.Figure at 0x7f1e80012710>"
            ]
          },
          "metadata": {
            "tags": []
          }
        },
        {
          "output_type": "display_data",
          "data": {
            "image/png": "[encoded data removed]",
            "text/plain": [
              "<matplotlib.figure.Figure at 0x7f1e8000b828>"
            ]
          },
          "metadata": {
            "tags": []
          }
        },
        {
          "output_type": "execute_result",
          "data": {
            "text/plain": [
              "{'W1': <tf.Variable 'W1:0' shape=(3, 3, 1, 16) dtype=float32_ref>,\n",
              " 'W10': <tf.Variable 'W10:0' shape=(3, 3, 32, 32) dtype=float32_ref>,\n",
              " 'W11': <tf.Variable 'W11:0' shape=(3, 3, 48, 16) dtype=float32_ref>,\n",
              " 'W12': <tf.Variable 'W12:0' shape=(3, 3, 16, 16) dtype=float32_ref>,\n",
              " 'W13': <tf.Variable 'W13:0' shape=(1, 1, 16, 1) dtype=float32_ref>,\n",
              " 'W2': <tf.Variable 'W2:0' shape=(3, 3, 16, 16) dtype=float32_ref>,\n",
              " 'W3': <tf.Variable 'W3:0' shape=(3, 3, 16, 32) dtype=float32_ref>,\n",
              " 'W4': <tf.Variable 'W4:0' shape=(3, 3, 32, 32) dtype=float32_ref>,\n",
              " 'W5': <tf.Variable 'W5:0' shape=(3, 3, 32, 64) dtype=float32_ref>,\n",
              " 'W6': <tf.Variable 'W6:0' shape=(3, 3, 64, 64) dtype=float32_ref>,\n",
              " 'W7': <tf.Variable 'W7:0' shape=(3, 3, 64, 64) dtype=float32_ref>,\n",
              " 'W8': <tf.Variable 'W8:0' shape=(3, 3, 64, 64) dtype=float32_ref>,\n",
              " 'W9': <tf.Variable 'W9:0' shape=(3, 3, 96, 32) dtype=float32_ref>}"
            ]
          },
          "metadata": {
            "tags": []
          },
          "execution_count": 67
        }
      ]
    }
  ]
}