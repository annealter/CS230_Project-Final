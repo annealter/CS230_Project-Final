{
  "nbformat": 4,
  "nbformat_minor": 0,
  "metadata": {
    "colab": {
      "name": "CS230-Project: Deep NN - 2 Channel",
      "version": "0.3.2",
      "views": {},
      "default_view": {},
      "provenance": [
        {
          "file_id": "1pjOCAxMh2BNB5dO3g_YMGEn0q1EBTaK9",
          "timestamp": 1521067241321
        }
      ],
      "collapsed_sections": []
    },
    "kernelspec": {
      "name": "python3",
      "display_name": "Python 3"
    },
    "accelerator": "GPU"
  },
  "cells": [
    {
      "metadata": {
        "id": "UQ5lIF_oKK0W",
        "colab_type": "text"
      },
      "cell_type": "markdown",
      "source": [
        "INTERFACE WITH GOOGLE DRIVE"
      ]
    },
    {
      "metadata": {
        "id": "GEhmpKCB3nj4",
        "colab_type": "code",
        "colab": {
          "autoexec": {
            "startup": false,
            "wait_interval": 0
          }
        }
      },
      "cell_type": "code",
      "source": [
        "# Install the PyDrive wrapper & import libraries.\n",
        "# This only needs to be done once per notebook.\n",
        "!pip install -U -q PyDrive\n",
        "from pydrive.auth import GoogleAuth\n",
        "from pydrive.drive import GoogleDrive\n",
        "from google.colab import auth\n",
        "from oauth2client.client import GoogleCredentials\n",
        "\n",
        "# Authenticate and create the PyDrive client.\n",
        "# This only needs to be done once per notebook.\n",
        "auth.authenticate_user()\n",
        "gauth = GoogleAuth()\n",
        "gauth.credentials = GoogleCredentials.get_application_default()\n",
        "drive = GoogleDrive(gauth)"
      ],
      "execution_count": 0,
      "outputs": []
    },
    {
      "metadata": {
        "id": "-ru7WsZf7Ooa",
        "colab_type": "code",
        "colab": {
          "autoexec": {
            "startup": false,
            "wait_interval": 0
          },
          "output_extras": [
            {}
          ],
          "base_uri": "https://localhost:8080/",
          "height": 34
        },
        "outputId": "39edc793-c312-4c92-96fc-62e87cfc0ab2",
        "executionInfo": {
          "status": "ok",
          "timestamp": 1519763086549,
          "user_tz": 480,
          "elapsed": 1089,
          "user": {
            "displayName": "Anne Alter",
            "photoUrl": "//lh6.googleusercontent.com/-atp70WgtuyI/AAAAAAAAAAI/AAAAAAAAABI/v-4wP6906nY/s50-c-k-no/photo.jpg",
            "userId": "100735354600515761315"
          }
        }
      },
      "cell_type": "code",
      "source": [
        "uploaded = drive.CreateFile({'test': 'Sample.txt'})\n",
        "uploaded.SetContentString('Sample upoad file content')\n",
        "uploaded.Upload()\n",
        "print('Uploaded file with ID {}'.format(uploaded.get('id')))\n",
        "\n",
        "#downloaded = drive.CreateFile({'id': uploaded.get('id')})\n",
        "#print('Downloaded content\"{}\"'.format(downloaded.GetContentString()))\n",
        "\n",
        "# List .txt files in the root.\n",
        "#\n",
        "# Search query reference:\n",
        "# https://developers.google.com/drive/v2/web/search-parameters\n",
        "# listed = drive.ListFile({'q': \"title contains '.txt' and 'root' in parents\"}).GetList()\n",
        "# for file in listed:\n",
        "#   print('title {}, id {}'.format(file['title'], file['id']))"
      ],
      "execution_count": 0,
      "outputs": [
        {
          "output_type": "stream",
          "text": [
            "Uploaded file with ID 13K4g4LUKOmIr5fsJiWYVnUNPVfAm_T32\n"
          ],
          "name": "stdout"
        }
      ]
    },
    {
      "metadata": {
        "id": "el16BlG0eD1x",
        "colab_type": "text"
      },
      "cell_type": "markdown",
      "source": [
        "IMPORTS"
      ]
    },
    {
      "metadata": {
        "id": "WlKwbSfydeWu",
        "colab_type": "code",
        "colab": {
          "autoexec": {
            "startup": false,
            "wait_interval": 0
          }
        }
      },
      "cell_type": "code",
      "source": [
        "import math\n",
        "import numpy as np\n",
        "import h5py\n",
        "import matplotlib.pyplot as plt\n",
        "from matplotlib.axes import Axes as ax\n",
        "import scipy\n",
        "from PIL import Image\n",
        "from scipy import ndimage\n",
        "from scipy.misc import imsave\n",
        "import tensorflow as tf\n",
        "from tensorflow.python.framework import ops\n",
        "from datetime import datetime\n",
        "%matplotlib inline\n",
        "#np.random.seed(1)"
      ],
      "execution_count": 0,
      "outputs": []
    },
    {
      "metadata": {
        "id": "kPAjhBt3YdaX",
        "colab_type": "text"
      },
      "cell_type": "markdown",
      "source": [
        "DATASET"
      ]
    },
    {
      "metadata": {
        "id": "L1y8A8M2Js_p",
        "colab_type": "code",
        "colab": {
          "autoexec": {
            "startup": false,
            "wait_interval": 0
          }
        }
      },
      "cell_type": "code",
      "source": [
        " def load_dataset():\n",
        "    from google.colab import files\n",
        "    uploaded = files.upload()\n",
        "\n",
        "    for name, data in uploaded.items():\n",
        "      with open(name, 'wb') as f:\n",
        "        f.write(data)\n",
        "        print ('saved file', name)\n",
        "\n",
        "    X_train = np.load('X_train.npy')\n",
        "    Y_train = np.load('Y_train.npy')\n",
        "    #X_dev   = np.load('X_dev.npy')\n",
        "    #Y_dev   = np.load('Y_dev.npy')\n",
        "    X_test  = np.load('X_test.npy')\n",
        "    Y_test  = np.load('Y_test.npy')\n",
        "\n",
        "    return X_train, Y_train, X_test, Y_test #, X_dev, Y_dev"
      ],
      "execution_count": 0,
      "outputs": []
    },
    {
      "metadata": {
        "id": "bbjTSl2PcZXl",
        "colab_type": "code",
        "colab": {
          "autoexec": {
            "startup": false,
            "wait_interval": 0
          },
          "output_extras": [
            {
              "item_id": 1
            },
            {
              "item_id": 9
            }
          ],
          "resources": {
            "http://localhost:8080/nbextensions/google.colab/files.js": {
              "data": "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",
              "ok": true,
              "headers": [
                [
                  "content-type",
                  "application/javascript"
                ]
              ],
              "status": 200,
              "status_text": ""
            }
          },
          "base_uri": "https://localhost:8080/",
          "height": 239
        },
        "outputId": "e95957e9-b86c-49c2-f8d7-b21ae343a44a",
        "executionInfo": {
          "status": "ok",
          "timestamp": 1521557735246,
          "user_tz": 420,
          "elapsed": 1356817,
          "user": {
            "displayName": "Anne Alter",
            "photoUrl": "//lh6.googleusercontent.com/-atp70WgtuyI/AAAAAAAAAAI/AAAAAAAAABI/v-4wP6906nY/s50-c-k-no/photo.jpg",
            "userId": "100735354600515761315"
          }
        }
      },
      "cell_type": "code",
      "source": [
        "X_train, Y_train, X_test, Y_test = load_dataset() #X_dev, Y_dev"
      ],
      "execution_count": 4,
      "outputs": [
        {
          "output_type": "display_data",
          "data": {
            "text/html": [
              "\n",
              "     <input type=\"file\" id=\"files-f7aadc12-2812-4091-9eb1-9e45de65248d\" name=\"files[]\" multiple disabled />\n",
              "     <output id=\"result-f7aadc12-2812-4091-9eb1-9e45de65248d\">\n",
              "      Upload widget is only available when the cell has been executed in the\n",
              "      current browser session. Please rerun this cell to enable.\n",
              "      </output>\n",
              "      <script src=\"/nbextensions/google.colab/files.js\"></script> "
            ],
            "text/plain": [
              "<IPython.core.display.HTML object>"
            ]
          },
          "metadata": {
            "tags": []
          }
        },
        {
          "output_type": "stream",
          "text": [
            "Saving Y_train.npy to Y_train.npy\n",
            "Saving Y_test.npy to Y_test.npy\n",
            "Saving X_train.npy to X_train.npy\n",
            "Saving X_test.npy to X_test.npy\n",
            "saved file Y_train.npy\n",
            "saved file Y_test.npy\n",
            "saved file X_train.npy\n",
            "saved file X_test.npy\n"
          ],
          "name": "stdout"
        }
      ]
    },
    {
      "metadata": {
        "id": "0IdRee-7m0wx",
        "colab_type": "text"
      },
      "cell_type": "markdown",
      "source": [
        "PRINT OUT EXAMPLE IMAGE"
      ]
    },
    {
      "metadata": {
        "id": "MixvQeyjIYfH",
        "colab_type": "code",
        "colab": {
          "autoexec": {
            "startup": false,
            "wait_interval": 0
          },
          "output_extras": [
            {
              "item_id": 1
            }
          ],
          "base_uri": "https://localhost:8080/",
          "height": 267
        },
        "outputId": "cff82e64-b57f-4f37-eeee-15b810976865",
        "executionInfo": {
          "status": "ok",
          "timestamp": 1521557775989,
          "user_tz": 420,
          "elapsed": 300,
          "user": {
            "displayName": "Anne Alter",
            "photoUrl": "//lh6.googleusercontent.com/-atp70WgtuyI/AAAAAAAAAAI/AAAAAAAAABI/v-4wP6906nY/s50-c-k-no/photo.jpg",
            "userId": "100735354600515761315"
          }
        }
      },
      "cell_type": "code",
      "source": [
        "index = 312\n",
        "example = Y_train[index,:,:]\n",
        "fig = plt.figure()\n",
        "plt.imshow(example, cmap=\"binary\")\n",
        "plt.grid(False)\n",
        "plt.show()"
      ],
      "execution_count": 5,
      "outputs": [
        {
          "output_type": "display_data",
          "data": {
            "image/png": "[encoded data removed]",
            "text/plain": [
              "<matplotlib.figure.Figure at 0x7fc5cad4d400>"
            ]
          },
          "metadata": {
            "tags": []
          }
        }
      ]
    },
    {
      "metadata": {
        "id": "LOpH_tmhr1zW",
        "colab_type": "code",
        "colab": {
          "autoexec": {
            "startup": false,
            "wait_interval": 0
          },
          "output_extras": [
            {
              "item_id": 1
            }
          ],
          "base_uri": "https://localhost:8080/",
          "height": 267
        },
        "outputId": "3c937432-c916-4a9c-cc24-55f6096dba01",
        "executionInfo": {
          "status": "ok",
          "timestamp": 1521557778578,
          "user_tz": 420,
          "elapsed": 294,
          "user": {
            "displayName": "Anne Alter",
            "photoUrl": "//lh6.googleusercontent.com/-atp70WgtuyI/AAAAAAAAAAI/AAAAAAAAABI/v-4wP6906nY/s50-c-k-no/photo.jpg",
            "userId": "100735354600515761315"
          }
        }
      },
      "cell_type": "code",
      "source": [
        "index = 312\n",
        "example = X_train[index,:,:,1]\n",
        "fig = plt.figure()\n",
        "plt.imshow(example, cmap=\"binary\")\n",
        "plt.grid(False)\n",
        "plt.show()"
      ],
      "execution_count": 6,
      "outputs": [
        {
          "output_type": "display_data",
          "data": {
            "image/png": "[encoded data removed]",
            "text/plain": [
              "<matplotlib.figure.Figure at 0x7fc5cacdedd8>"
            ]
          },
          "metadata": {
            "tags": []
          }
        }
      ]
    },
    {
      "metadata": {
        "id": "Psf3I-8rmwKq",
        "colab_type": "code",
        "colab": {
          "autoexec": {
            "startup": false,
            "wait_interval": 0
          },
          "output_extras": [
            {
              "item_id": 1
            }
          ],
          "base_uri": "https://localhost:8080/",
          "height": 267
        },
        "outputId": "abb3b4b1-fafb-4464-e11c-c3841daa0ce0",
        "executionInfo": {
          "status": "ok",
          "timestamp": 1521557780581,
          "user_tz": 420,
          "elapsed": 332,
          "user": {
            "displayName": "Anne Alter",
            "photoUrl": "//lh6.googleusercontent.com/-atp70WgtuyI/AAAAAAAAAAI/AAAAAAAAABI/v-4wP6906nY/s50-c-k-no/photo.jpg",
            "userId": "100735354600515761315"
          }
        }
      },
      "cell_type": "code",
      "source": [
        "index = 312\n",
        "example = Y_train[index,:,:]\n",
        "fig = plt.figure()\n",
        "plt.imshow(example, cmap=\"binary\")\n",
        "plt.grid(False)\n",
        "plt.show()"
      ],
      "execution_count": 7,
      "outputs": [
        {
          "output_type": "display_data",
          "data": {
            "image/png": "[encoded data removed]",
            "text/plain": [
              "<matplotlib.figure.Figure at 0x7fc5cad28c18>"
            ]
          },
          "metadata": {
            "tags": []
          }
        }
      ]
    },
    {
      "metadata": {
        "id": "QsbrQJs-JNm5",
        "colab_type": "text"
      },
      "cell_type": "markdown",
      "source": [
        "AUGMENT DATA"
      ]
    },
    {
      "metadata": {
        "id": "S6mviooJJO8B",
        "colab_type": "code",
        "colab": {
          "autoexec": {
            "startup": false,
            "wait_interval": 0
          },
          "output_extras": [
            {
              "item_id": 1
            },
            {
              "item_id": 2
            },
            {
              "item_id": 3
            },
            {
              "item_id": 4
            },
            {
              "item_id": 5
            }
          ],
          "base_uri": "https://localhost:8080/",
          "height": 1267
        },
        "outputId": "65128262-f592-4187-c75c-5af0e2b309f3",
        "executionInfo": {
          "status": "ok",
          "timestamp": 1521557784580,
          "user_tz": 420,
          "elapsed": 1914,
          "user": {
            "displayName": "Anne Alter",
            "photoUrl": "//lh6.googleusercontent.com/-atp70WgtuyI/AAAAAAAAAAI/AAAAAAAAABI/v-4wP6906nY/s50-c-k-no/photo.jpg",
            "userId": "100735354600515761315"
          }
        }
      },
      "cell_type": "code",
      "source": [
        "index = 312\n",
        "\n",
        "example = X_train[index,:,:,0]\n",
        "fig = plt.figure()\n",
        "plt.imshow(example, cmap=\"binary\")\n",
        "plt.grid(False)\n",
        "plt.show()\n",
        "\n",
        "\n",
        "new_data_X_horiz = np.flip(X_train, axis = 2) # should be 1 and 2\n",
        "new_data_Y_horiz = np.flip(Y_train, axis = 2)\n",
        "\n",
        "new_data_X_vert = np.flip(X_train, axis = 1) # should be 1 and 2\n",
        "new_data_Y_vert = np.flip(Y_train, axis = 1)\n",
        "\n",
        "new_data_X_rotFor = np.rot90(X_train, k = 1, axes = (1,2)) # should be 1 and 2\n",
        "new_data_Y_rotFor = np.rot90(Y_train, k = 1, axes = (1,2))\n",
        "\n",
        "new_data_X_rotBack = np.rot90(X_train, k = 3, axes = (1,2)) # should be 1 and 2\n",
        "new_data_Y_rotBack = np.rot90(Y_train, k = 3, axes = (1,2))\n",
        "\n",
        "# CHECK\n",
        "example = new_data_Y_horiz[index,:,:]\n",
        "fig = plt.figure()\n",
        "plt.imshow(example, cmap=\"binary\")\n",
        "plt.grid(False)\n",
        "plt.show()\n",
        "example = new_data_Y_vert[index,:,:]\n",
        "fig = plt.figure()\n",
        "plt.imshow(example, cmap=\"binary\")\n",
        "plt.grid(False)\n",
        "plt.show()\n",
        "\n",
        "example = new_data_Y_rotFor[index,:,:]\n",
        "fig = plt.figure()\n",
        "plt.imshow(example, cmap=\"binary\")\n",
        "plt.grid(False)\n",
        "plt.show()\n",
        "\n",
        "example = new_data_Y_rotBack[index,:,:]\n",
        "fig = plt.figure()\n",
        "plt.imshow(example, cmap=\"binary\")\n",
        "plt.grid(False)\n",
        "plt.show()\n",
        "\n",
        "\n",
        "X_train= np.concatenate((X_train, new_data_X_horiz, new_data_X_vert, new_data_X_rotFor, new_data_X_rotBack), axis = 0)\n",
        "Y_train = np.concatenate((Y_train, new_data_Y_horiz, new_data_Y_vert, new_data_Y_rotFor, new_data_Y_rotBack), axis = 0)"
      ],
      "execution_count": 8,
      "outputs": [
        {
          "output_type": "display_data",
          "data": {
            "image/png": "[encoded data removed]",
            "text/plain": [
              "<matplotlib.figure.Figure at 0x7fc5c8bce400>"
            ]
          },
          "metadata": {
            "tags": []
          }
        },
        {
          "output_type": "display_data",
          "data": {
            "image/png": "[encoded data removed]",
            "text/plain": [
              "<matplotlib.figure.Figure at 0x7fc5c8cb7748>"
            ]
          },
          "metadata": {
            "tags": []
          }
        },
        {
          "output_type": "display_data",
          "data": {
            "image/png": "[encoded data removed]",
            "text/plain": [
              "<matplotlib.figure.Figure at 0x7fc5c8c2be10>"
            ]
          },
          "metadata": {
            "tags": []
          }
        },
        {
          "output_type": "display_data",
          "data": {
            "image/png": "[encoded data removed]",
            "text/plain": [
              "<matplotlib.figure.Figure at 0x7fc5c8b16898>"
            ]
          },
          "metadata": {
            "tags": []
          }
        },
        {
          "output_type": "display_data",
          "data": {
            "image/png": "[encoded data removed]",
            "text/plain": [
              "<matplotlib.figure.Figure at 0x7fc5c8b91f98>"
            ]
          },
          "metadata": {
            "tags": []
          }
        }
      ]
    },
    {
      "metadata": {
        "id": "G3k-LJiHpHrk",
        "colab_type": "code",
        "colab": {
          "autoexec": {
            "startup": false,
            "wait_interval": 0
          },
          "output_extras": [
            {
              "item_id": 1
            }
          ],
          "base_uri": "https://localhost:8080/",
          "height": 119
        },
        "outputId": "a65bb93d-65a0-463e-fd41-f7907b584a19",
        "executionInfo": {
          "status": "ok",
          "timestamp": 1521557788548,
          "user_tz": 420,
          "elapsed": 274,
          "user": {
            "displayName": "Anne Alter",
            "photoUrl": "//lh6.googleusercontent.com/-atp70WgtuyI/AAAAAAAAAAI/AAAAAAAAABI/v-4wP6906nY/s50-c-k-no/photo.jpg",
            "userId": "100735354600515761315"
          }
        }
      },
      "cell_type": "code",
      "source": [
        "print (\"number of training examples = \" + str(X_train.shape[0]))\n",
        "#print (\"number of dev examples = \" + str(X_dev.shape[0]))\n",
        "print (\"number of test examples = \" + str(X_test.shape[0]))\n",
        "print (\"X_train shape: \" + str(X_train.shape))\n",
        "print (\"Y_train shape: \" + str(Y_train.shape))\n",
        "#print (\"X_dev shape: \" + str(X_dev.shape))\n",
        "#print (\"Y_dev shape: \" + str(Y_dev.shape))\n",
        "print (\"X_test shape: \" + str(X_test.shape))\n",
        "print (\"Y_test shape: \" + str(Y_test.shape))\n",
        "conv_layers = {}"
      ],
      "execution_count": 9,
      "outputs": [
        {
          "output_type": "stream",
          "text": [
            "number of training examples = 40000\n",
            "number of test examples = 1000\n",
            "X_train shape: (40000, 40, 40, 2)\n",
            "Y_train shape: (40000, 40, 40)\n",
            "X_test shape: (1000, 40, 40, 2)\n",
            "Y_test shape: (1000, 40, 40)\n"
          ],
          "name": "stdout"
        }
      ]
    },
    {
      "metadata": {
        "id": "4Q614YlreBjo",
        "colab_type": "text"
      },
      "cell_type": "markdown",
      "source": [
        "FRAMEWORK FUNCTIONS"
      ]
    },
    {
      "metadata": {
        "id": "CdguVCM1duoN",
        "colab_type": "code",
        "colab": {
          "autoexec": {
            "startup": false,
            "wait_interval": 0
          }
        }
      },
      "cell_type": "code",
      "source": [
        "def create_placeholders(n_H0, n_W0, n_C0, n_y):\n",
        "    \"\"\"\n",
        "    Creates the placeholders for the tensorflow session.\n",
        "    \n",
        "    Arguments:\n",
        "    n_H0 -- scalar, height of an input image\n",
        "    n_W0 -- scalar, width of an input image\n",
        "    n_C0 -- scalar, number of channels of the input\n",
        "    n_y -- scalar, number of classes\n",
        "        \n",
        "    Returns:\n",
        "    X -- placeholder for the data input, of shape [None, n_H0, n_W0, n_C0] and dtype \"float\"\n",
        "    Y -- placeholder for the input labels, of shape [None, n_y] and dtype \"float\"\n",
        "    \"\"\"\n",
        "\n",
        "    X = tf.placeholder(tf.float32, shape = [None, n_H0, n_W0, n_C0], name = 'X')\n",
        "    Y = tf.placeholder(tf.float32, shape = [None, n_y], name = 'Y')\n",
        "    \n",
        "    return X, Y\n",
        "\n",
        "def initialize_parameters():\n",
        "    \"\"\"\n",
        "    Initializes weight parameters to build a neural network with tensorflow.\n",
        "    \n",
        "    Returns:\n",
        "    parameters -- a dictionary of tensors containing W1, W2\n",
        "    \"\"\"\n",
        "    \n",
        "    f1 = 16\n",
        "    f2 = 32\n",
        "    f3 = 64\n",
        "    n_c = 2\n",
        "    \n",
        "    #tf.set_random_seed(1)\n",
        "\n",
        "    W1 = tf.get_variable(\"W1\", [3,3,n_c,f1], initializer = tf.contrib.layers.xavier_initializer(seed = 0))\n",
        "    W2 = tf.get_variable(\"W2\", [3,3,f1,f1], initializer = tf.contrib.layers.xavier_initializer(seed = 0))\n",
        "    \n",
        "    W3 = tf.get_variable(\"W3\", [3,3,f1,f2], initializer = tf.contrib.layers.xavier_initializer(seed = 0))\n",
        "    W4 = tf.get_variable(\"W4\", [3,3,f2,f2], initializer = tf.contrib.layers.xavier_initializer(seed = 0))\n",
        "    \n",
        "    W5 = tf.get_variable(\"W5\", [3,3,f2,f3], initializer = tf.contrib.layers.xavier_initializer(seed = 0))\n",
        "    W6 = tf.get_variable(\"W6\", [3,3,f3,f3], initializer = tf.contrib.layers.xavier_initializer(seed = 0))\n",
        "    \n",
        "    W7 = tf.get_variable(\"W7\", [3,3,f3,f3], initializer = tf.contrib.layers.xavier_initializer(seed = 0))\n",
        "    W8 = tf.get_variable(\"W8\", [3,3,f3,f3], initializer = tf.contrib.layers.xavier_initializer(seed = 0))\n",
        "    \n",
        "    W9 = tf.get_variable(\"W9\", [3,3,f3+f2,f2], initializer = tf.contrib.layers.xavier_initializer(seed = 0)) ### 32\n",
        "    W10 = tf.get_variable(\"W10\", [3,3,f2,f2], initializer = tf.contrib.layers.xavier_initializer(seed = 0))\n",
        "    \n",
        "    W11 = tf.get_variable(\"W11\", [3,3,f1+f2,f1], initializer = tf.contrib.layers.xavier_initializer(seed = 0)) ### 16\n",
        "    W12 = tf.get_variable(\"W12\", [3,3,f1,f1], initializer = tf.contrib.layers.xavier_initializer(seed = 0))\n",
        "\n",
        "    W13 = tf.get_variable(\"W13\", [1,1,f1,1], initializer = tf.contrib.layers.xavier_initializer(seed = 0))\n",
        "    \n",
        "    parameters = {\"W1\": W1,\n",
        "                  \"W2\": W2, \"W3\": W3, \"W4\": W4, \"W5\": W5, \"W6\": W6,\n",
        "                  \"W7\": W7,\"W8\": W8, \"W9\": W9, \"W10\": W10,\n",
        "                  \"W11\": W11,\"W12\": W12, \"W13\": W13\n",
        "                  }\n",
        "    \n",
        "    return parameters\n",
        "\n",
        "def random_mini_batches(X, Y, mini_batch_size = 64, seed = 1):\n",
        "    \"\"\"\n",
        "    Creates a list of random minibatches from (X, Y)\n",
        "    Arguments:\n",
        "    X -- input data, of shape (input size, number of examples)\n",
        "    Y -- true \"label\" vector (1 for blue dot / 0 for red dot), of shape (1, number of examples) mini_batch_size -- size of the mini-batches, integer\n",
        "    Returns:\n",
        "    mini_batches -- list of synchronous (mini_batch_X, mini_batch_Y) \"\"\"\n",
        "    \n",
        "    np.random.seed(seed) \n",
        "    m = X.shape[0]\n",
        "    mini_batches = []\n",
        "\n",
        "    # Step 1: Shuffle (X, Y)\n",
        "    permutation = list(np.random.permutation(m)) \n",
        "    shuffled_X = X[permutation,:,:,:]                     # [m,40,40,2]\n",
        "    shuffled_Y = Y[permutation,:,:].reshape((m,40*40))    # [m,40*40]\n",
        "\n",
        "    # Step 2: Partition (shuffled_X, shuffled_Y). Minus the end case.\n",
        "    num_complete_minibatches = math.floor(m/mini_batch_size) \n",
        "    \n",
        "    # MINIBATCH LOOP}\n",
        "    for k in range(0, num_complete_minibatches):\n",
        "      mini_batch_X = shuffled_X[k*mini_batch_size:(k+1)*mini_batch_size,:,:] #[64,40,40]\n",
        "      mini_batch_X = mini_batch_X.reshape((mini_batch_size, shuffled_X.shape[1], shuffled_X.shape[2],shuffled_X.shape[3]))\n",
        "      \n",
        "      mini_batch_Y = shuffled_Y[k*mini_batch_size:(k+1)*mini_batch_size,:]  #[m,1600]\n",
        "\n",
        "      mini_batch = (mini_batch_X, mini_batch_Y)\n",
        "      mini_batches.append(mini_batch)      \n",
        "\n",
        "    # END CASE (last mini-batch < mini_batch_size)\n",
        "    if m % mini_batch_size != 0:\n",
        "      mini_batch_X = shuffled_X[num_complete_minibatches*mini_batch_size:m,:,:] \n",
        "      mini_batch_X = mini_batch_X.reshape(((m-mini_batch_size*(m%mini_batch_size)), shuffled_X.shape[1], shuffled_X.shape[2],shuffled_X.shape[3]))\n",
        "      \n",
        "      mini_batch_Y = shuffled_Y[num_complete_minibatches*mini_batch_size:m,:]\n",
        "      \n",
        "      mini_batch = (mini_batch_X, mini_batch_Y)\n",
        "      mini_batches.append(mini_batch)\n",
        "    \n",
        "    return mini_batches\n",
        "  \n",
        "def forward_propagation(X, parameters, phase):\n",
        "    \"\"\"\n",
        "    Implements the forward propagation for the model:\n",
        "    CONV2D -> RELU -> MAXPOOL -> CONV2D -> RELU -> MAXPOOL -> FLATTEN -> FULLYCONNECTED\n",
        "    \n",
        "    Arguments:\n",
        "    X -- input dataset placeholder, of shape (input size, number of examples)\n",
        "    parameters -- python dictionary containing your parameters \"W1\", \"W2\"\n",
        "                  the shapes are given in initialize_parameters\n",
        "\n",
        "    Returns:\n",
        "    Z3 -- the output of the last LINEAR unit\n",
        "    \"\"\"\n",
        "    \n",
        "    # Retrieve the parameters from the dictionary \"parameters\" \n",
        "    W1 = parameters['W1']\n",
        "    W2 = parameters['W2']\n",
        "    W3 = parameters['W3']\n",
        "    W4 = parameters['W4']\n",
        "    W5 = parameters['W5']\n",
        "    W6 = parameters['W6']\n",
        "    W7 = parameters['W7']\n",
        "    W8 = parameters['W8']\n",
        "    W9 = parameters['W9']\n",
        "    W10 = parameters['W10']\n",
        "    W11 = parameters['W11']\n",
        "    W12 = parameters['W12']\n",
        "    W13 = parameters['W13']\n",
        "    \n",
        "    keep_probability = 0.5\n",
        "    bn = True\n",
        "    \n",
        "    #### BLOCK 1 (16 channels) ####\n",
        "    # CONV2D: stride of 1, padding 'SAME'\n",
        "    Z1 = tf.nn.conv2d(X, W1, strides = [1,1,1,1], padding = 'SAME')\n",
        "    # BATCH NORMALIZATION\n",
        "    if bn == True:\n",
        "        B1 = tf.contrib.layers.batch_norm(Z1, center = True, scale = True, is_training = phase)\n",
        "        Z1 = B1\n",
        "    # RELU\n",
        "    A1 = tf.nn.relu(Z1)\n",
        "    \n",
        "    # CONV2D: stride of 1, padding 'SAME'\n",
        "    Z2 = tf.nn.conv2d(A1, W2, strides = [1,1,1,1], padding = 'SAME')\n",
        "    # BATCH NORMALIZATION\n",
        "    if bn == True:\n",
        "        B2 = tf.contrib.layers.batch_norm(Z2, center = True, scale = True, is_training = phase)\n",
        "        Z2 = B2\n",
        "    # RELU\n",
        "    A2 = tf.nn.relu(Z2) \n",
        "    \n",
        "    # MAXPOOL: window 8x8, sride 8, padding 'SAME'\n",
        "    P1 = tf.nn.max_pool(A2, ksize = [1,2,2,1], strides = [1,2,2,1], padding = 'VALID')\n",
        "    \n",
        "    \n",
        "    #### BLOCK 2 (32 channels) ####\n",
        "    # CONV2D: stride of 1, padding 'SAME'\n",
        "    Z3 = tf.nn.conv2d(P1, W3, strides = [1,1,1,1], padding = 'SAME')\n",
        "    # BATCH NORMALIZATION\n",
        "    if bn == True:\n",
        "        B3 = tf.contrib.layers.batch_norm(Z3, center = True, scale = True, is_training = phase)\n",
        "        Z3 = B3\n",
        "    # RELU\n",
        "    A3 = tf.nn.relu(Z3)\n",
        "    \n",
        "    # DROPOUT\n",
        "    D1 = tf.nn.dropout(A3, keep_prob = keep_probability)\n",
        "    \n",
        "    # CONV2D: stride of 1, padding 'SAME'\n",
        "    Z4 = tf.nn.conv2d(D1, W4, strides = [1,1,1,1], padding = 'SAME')\n",
        "    # BATCH NORMALIZATION\n",
        "    if bn == True:\n",
        "        B4 = tf.contrib.layers.batch_norm(Z4, center = True, scale = True, is_training = phase)\n",
        "        Z4 = B4\n",
        "    # RELU\n",
        "    A4 = tf.nn.relu(Z4)\n",
        "    \n",
        "    # MAXPOOL: window 8x8, sride 8, padding 'SAME'\n",
        "    P2 = tf.nn.max_pool(A4, ksize = [1,2,2,1], strides = [1,2,2,1], padding = 'VALID')\n",
        "    \n",
        "    \n",
        "    #### BLOCK 3 (64 channels) ####\n",
        "    # CONV2D: stride of 1, padding 'SAME'\n",
        "    Z5 = tf.nn.conv2d(P2, W5, strides = [1,1,1,1], padding = 'SAME')\n",
        "    # BATCH NORMALIZATION\n",
        "    if bn == True:\n",
        "        B5 = tf.contrib.layers.batch_norm(Z5, center = True, scale = True, is_training = phase)\n",
        "        Z5 = B5\n",
        "    # RELU\n",
        "    A5 = tf.nn.relu(Z5)\n",
        "    \n",
        "    # CONV2D: stride of 1, padding 'SAME'\n",
        "    Z6 = tf.nn.conv2d(A5, W6, strides = [1,1,1,1], padding = 'SAME')\n",
        "    # BATCH NORMALIZATION\n",
        "    if bn == True:\n",
        "        B6 = tf.contrib.layers.batch_norm(Z6, center = True, scale = True, is_training = phase)\n",
        "        Z6 = B6\n",
        "    # RELU\n",
        "    A6 = tf.nn.relu(Z6)\n",
        "    \n",
        "    # CONV2D: stride of 1, padding 'SAME'\n",
        "    Z7 = tf.nn.conv2d(A6, W7, strides = [1,1,1,1], padding = 'SAME')\n",
        "    # BATCH NORMALIZATION\n",
        "    if bn == True:\n",
        "        B7 = tf.contrib.layers.batch_norm(Z7, center = True, scale = True, is_training = phase)\n",
        "        Z7 = B7\n",
        "    # RELU\n",
        "    A7 = tf.nn.relu(Z7)\n",
        "    \n",
        "    # CONV2D: stride of 1, padding 'SAME'\n",
        "    Z8 = tf.nn.conv2d(A7, W8, strides = [1,1,1,1], padding = 'SAME')\n",
        "    # BATCH NORMALIZATION\n",
        "    if bn == True:\n",
        "        B8 = tf.contrib.layers.batch_norm(Z8, center = True, scale = True, is_training = phase)\n",
        "        Z8 = B8\n",
        "    # RELU\n",
        "    A8 = tf.nn.relu(Z8)\n",
        "    \n",
        "    #### BLOCK 4 (32 channels) ####\n",
        "    # UPSAMPLE\n",
        "    U1 = tf.keras.layers.UpSampling2D((2,2))(A8)\n",
        "    # CONCATENATE\n",
        "    C1 = tf.concat([U1,A4], axis = 3)  # should have 64 channels - need to convolve down to 32\n",
        "    # CONV2D: stride of 1, padding 'SAME'\n",
        "    Z9 = tf.nn.conv2d(C1, W9, strides = [1,1,1,1], padding = 'SAME')\n",
        "    # BATCH NORMALIZATION\n",
        "    if bn == True:\n",
        "        B9 = tf.contrib.layers.batch_norm(Z9, center = True, scale = True, is_training = phase)\n",
        "        Z9 = B9\n",
        "    # RELU\n",
        "    A9 = tf.nn.relu(Z9)\n",
        "    # DROPOUT\n",
        "    D2 = tf.nn.dropout(A9, keep_prob = keep_probability)\n",
        "\n",
        "    # CONV2D: stride of 1, padding 'SAME'\n",
        "    Z10 = tf.nn.conv2d(D2, W10, strides = [1,1,1,1], padding = 'SAME')\n",
        "    # BATCH NORMALIZATION\n",
        "    if bn == True:\n",
        "        B10 = tf.contrib.layers.batch_norm(Z10, center = True, scale = True, is_training = phase)\n",
        "        Z10 = B10\n",
        "    # RELU\n",
        "    A10 = tf.nn.relu(Z10)\n",
        "    \n",
        "    #### BLOCK 5 (16 channels) ####\n",
        "    # UPSAMPLE\n",
        "    U2 = tf.keras.layers.UpSampling2D((2,2))(A10)\n",
        "    # CONCATENATE\n",
        "    C2 = tf.concat([U2,A2], axis = 3) # should have 32 channels - need to convolve down to 16 #contrib.keras.layers.concatenate\n",
        "    # CONV2D: stride of 1, padding 'SAME'\n",
        "    Z11 = tf.nn.conv2d(C2, W11, strides = [1,1,1,1], padding = 'SAME')\n",
        "    # BATCH NORMALIZATION\n",
        "    if bn == True:\n",
        "        B11 = tf.contrib.layers.batch_norm(Z11, center = True, scale = True, is_training = phase)\n",
        "        Z11 = B11\n",
        "    # RELU\n",
        "    A11 = tf.nn.relu(Z11)\n",
        "    \n",
        "    # CONV2D: stride of 1, padding 'SAME'\n",
        "    Z12 = tf.nn.conv2d(A11, W12, strides = [1,1,1,1], padding = 'SAME')\n",
        "    # BATCH NORMALIZATION\n",
        "    if bn == True:\n",
        "        B12 = tf.contrib.layers.batch_norm(Z12, center = True, scale = True, is_training = phase)\n",
        "        Z12 = B12\n",
        "    # RELU\n",
        "    A12 = tf.nn.relu(Z12)\n",
        "    \n",
        "    # FLATTEN\n",
        "    Z13 = tf.nn.conv2d(A12, W13, strides = [1,1,1,1], padding = 'SAME')\n",
        "    F1 = tf.contrib.layers.flatten(Z13)\n",
        "    Z14 = tf.contrib.layers.fully_connected(F1, num_outputs = 40*40, activation_fn = None) #tf.nn.sigmoid   \n",
        "    \n",
        "    return Z14\n",
        "\n",
        "def compute_cost(Z, Y):\n",
        "    \"\"\"\n",
        "    Computes the cost\n",
        "\n",
        "    Arguments:\n",
        "    Z -- output of forward propagation (output of the last LINEAR unit), of shape (40*40, number of examples)\n",
        "    Y -- \"true\" labels vector placeholder, same shape as Z\n",
        "\n",
        "    Returns:\n",
        "    cost - Tensor of the cost function\n",
        "    \"\"\"\n",
        "    \n",
        "    my_logits=tf.reshape(Z, (-1,1))\n",
        "    my_labels=tf.reshape(Y, (-1,1))\n",
        "    binary_labels = tf.nn.sigmoid(my_logits) > 0.5\n",
        "    cost = tf.reduce_mean(tf.nn.sigmoid_cross_entropy_with_logits(logits=my_logits, labels=my_labels))\n",
        "    mean_IOU = tf.metrics.mean_iou(labels = my_labels, predictions = binary_labels, num_classes = 2)\n",
        "    accuracy = tf.metrics.accuracy(labels = my_labels, predictions = binary_labels)\n",
        "    \n",
        "    return cost, mean_IOU, accuracy\n"
      ],
      "execution_count": 0,
      "outputs": []
    },
    {
      "metadata": {
        "id": "JdjNNzUBJ3kH",
        "colab_type": "code",
        "colab": {
          "autoexec": {
            "startup": false,
            "wait_interval": 0
          }
        }
      },
      "cell_type": "code",
      "source": [
        "def print_topology(data):\n",
        "    \"\"\"\n",
        "    Arguments:\n",
        "      data -- image of size (40,40,1)\n",
        "    Returns:\n",
        "      nothing\n",
        "    \"\"\"\n",
        "    fig = plt.figure()\n",
        "    plt.grid(False)\n",
        "    plt.imshow(data[:,:,0], cmap=\"binary\")\n",
        "    plt.show()\n",
        "\n",
        "    return"
      ],
      "execution_count": 0,
      "outputs": []
    },
    {
      "metadata": {
        "id": "Yc2vdpw_J3-M",
        "colab_type": "text"
      },
      "cell_type": "markdown",
      "source": [
        "RUN MODEL"
      ]
    },
    {
      "metadata": {
        "id": "APiVmdCKJTlR",
        "colab_type": "code",
        "colab": {
          "autoexec": {
            "startup": false,
            "wait_interval": 0
          }
        }
      },
      "cell_type": "code",
      "source": [
        "def model(X_train, Y_train, X_test, Y_test, learning_rate = 0.001,\n",
        "          num_epochs = 100, minibatch_size = 64, print_cost = True):\n",
        "    \"\"\"\n",
        "    Implements a three-layer ConvNet in Tensorflow:\n",
        "    CONV2D -> RELU -> MAXPOOL -> CONV2D -> RELU -> MAXPOOL -> FLATTEN -> FULLYCONNECTED\n",
        "    \n",
        "    Arguments:\n",
        "    X_train -- training set, of shape (None, 40, 40, 1)\n",
        "    Y_train -- test set, of shape (None, n_y = 6)\n",
        "    X_test -- training set, of shape (None, 40, 40, 1)\n",
        "    Y_test -- test set, of shape (None, n_y = 6)\n",
        "    learning_rate -- learning rate of the optimization\n",
        "    num_epochs -- number of epochs of the optimization loop\n",
        "    minibatch_size -- size of a minibatch\n",
        "    print_cost -- True to print the cost every 100 epochs\n",
        "    \n",
        "    Returns:\n",
        "    train_accuracy -- real number, accuracy on the train set (X_train)\n",
        "    test_accuracy -- real number, testing accuracy on the test set (X_test)\n",
        "    parameters -- parameters learnt by the model. They can then be used to predict.\n",
        "    \"\"\"\n",
        "    \n",
        "    ops.reset_default_graph()                          # to be able to rerun the model without overwriting tf variables\n",
        "    #tf.set_random_seed(1)                             # to keep results consistent (tensorflow seed)\n",
        "    seed = 18#3                                        # to keep results consistent (numpy seed)\n",
        "    \n",
        "    (m, n_H0, n_W0, n_C0) = X_train.shape\n",
        "    print(m)\n",
        "    n_y = Y_train.shape[1]*Y_train.shape[2]                            \n",
        "    \n",
        "    minibatch_costs = []\n",
        "    costs = []\n",
        "    costs_dev = []\n",
        "    IOU = []\n",
        "    IOU_dev = []\n",
        "    acc = []\n",
        "    acc_dev = []\n",
        "    \n",
        "    number = 25\n",
        "    \n",
        "\n",
        "    X_dev = X_test\n",
        "    #X_dev = X_dev.reshape((X_dev.shape[0], X_dev.shape[1], X_dev.shape[2],2))\n",
        "    Y_dev = Y_test\n",
        "    \n",
        "    # RESHAPE INPUTS\n",
        "    Y_dev = Y_dev.reshape((Y_dev.shape[0], Y_dev.shape[1]*Y_dev.shape[2]))\n",
        "    \n",
        "    # PLACEHOLDERS\n",
        "    X, Y = create_placeholders(n_H0, n_W0, n_C0, n_y)\n",
        "    phase = tf.placeholder(tf.bool)\n",
        "\n",
        "    # INITIALIZE PARAMETERS\n",
        "    parameters = initialize_parameters()\n",
        "    \n",
        "    # FORWARD PROPAGATION\n",
        "    Z = forward_propagation(X, parameters, phase)\n",
        "    \n",
        "    # COST FUNCTION\n",
        "    cost, mean_IOU, accuracy = compute_cost(Z, Y)\n",
        "    \n",
        "    # BACKPROPAGATION\n",
        "    optimizer = tf.train.AdamOptimizer(learning_rate = learning_rate).minimize(cost)\n",
        "    \n",
        "    # INITIALIZE ALL VARIABLES GLOBALLY AND LOCALLY\n",
        "    init = tf.global_variables_initializer()\n",
        "    init_local = tf.local_variables_initializer()\n",
        "    \n",
        "    # ENCODE IMAGE\n",
        "    image = tf.reshape(tf.image.convert_image_dtype(Z[number,:], tf.int64), [40, 40,1])\n",
        "\n",
        "    # START TENSORFLOW SESSION\n",
        "    with tf.Session() as sess:\n",
        "        \n",
        "        # SESSION INITIALIZATION\n",
        "        sess.run(init)\n",
        "        sess.run(init_local)\n",
        "        \n",
        "        # TRAINING LOOP\n",
        "        for epoch in range(num_epochs):\n",
        "            print(epoch)\n",
        "            \n",
        "            minibatch_cost = 0.\n",
        "            minibatch_IOU = 0.\n",
        "            minibatch_acc = 0.\n",
        "\n",
        "            num_minibatches = int(m / minibatch_size)\n",
        "          \n",
        "            seed = seed + 1\n",
        "            minibatches = random_mini_batches(X_train, Y_train, minibatch_size, seed)\n",
        "\n",
        "            # MINIBATCH LOOP\n",
        "            for minibatch in minibatches:\n",
        "                (minibatch_X, minibatch_Y) = minibatch\n",
        "                \n",
        "                _ , temp_cost, image_enc, params, IOU_current, accuracy_current = sess.run([optimizer, cost, image, parameters, mean_IOU, accuracy], feed_dict={X: minibatch_X, Y: minibatch_Y, phase: True})\n",
        "                \n",
        "                minibatch_cost += temp_cost / num_minibatches\n",
        "                minibatch_IOU += IOU_current[0] / num_minibatches\n",
        "                minibatch_acc += accuracy_current[0]/ num_minibatches\n",
        "                minibatch_costs.append(temp_cost)\n",
        "\n",
        "            # CALCULATE DEV SET COST + IOU EACH EPOCH\n",
        "            temp_cost_dev, temp_IOU_dev, temp_acc_dev, image_enc_test = sess.run([cost, mean_IOU, accuracy, image], feed_dict = {X:X_dev, Y:Y_dev, phase: False})\n",
        "\n",
        "            # PRINT COST EVERY 5 EPOCHS\n",
        "            if print_cost == True and epoch == 0:\n",
        "                print_topology(X_dev[number,:,:,:])\n",
        "                print_topology(np.reshape(Y_dev[number,:], (40, 40,1)))\n",
        "                \n",
        "            if print_cost == True and epoch % 5 == 0:\n",
        "                print_topology(image_enc_test)\n",
        "                print (\"TRAIN COST @ EPOCH %i: %f\" % (epoch, minibatch_cost))\n",
        "                print (\"TRAIN IOU  @ EPOCH %i: %f\" % (epoch, minibatch_IOU))\n",
        "                print (\"TRAIN ACC  @ EPOCH %i: %f\" % (epoch, minibatch_acc))\n",
        "                print (\"TEST  COST @ EPOCH %i: %f\" % (epoch, temp_cost_dev))\n",
        "                print (\"TEST  IOU  @ EPOCH %i: %f\" % (epoch, temp_IOU_dev[0]))\n",
        "                print (\"TEST  ACC  @ EPOCH %i: %f\" % (epoch, temp_acc_dev[0]))\n",
        "                \n",
        "            if print_cost == True and epoch % 1 == 0:\n",
        "                costs.append(minibatch_cost)\n",
        "                IOU.append(minibatch_IOU)\n",
        "                acc.append(minibatch_acc)\n",
        "                costs_dev.append(temp_cost_dev)\n",
        "                IOU_dev.append(temp_IOU_dev[0])\n",
        "                acc_dev.append(temp_acc_dev[0])\n",
        "        \n",
        "        # PLOT TRAIN COST, IOU, AND ACC\n",
        "        plt.plot(np.squeeze(costs), 'b', np.squeeze(costs_dev), 'g') #, np.squeeze(minibatch_costs), 'r'\n",
        "        plt.ylabel('COST')\n",
        "        plt.xlabel('iterations (per tens)')\n",
        "        plt.title(\"COST (TRAIN SET) (Learning rate =\" + str(learning_rate) + \")\")\n",
        "        plt.show()\n",
        "\n",
        "#         plt.plot( np.squeeze(costs_dev), 'g') #np.squeeze(costs), 'b',\n",
        "#         plt.ylabel('COST')\n",
        "#         plt.xlabel('iterations (per tens)')\n",
        "#         plt.title(\"COST (TRAIN SET) (Learning rate =\" + str(learning_rate) + \")\")\n",
        "#         plt.show()\n",
        "#         plt.plot(np.squeeze(minibatch_costs), 'r') #np.squeeze(costs), 'b',\n",
        "#         plt.ylabel('COST')\n",
        "#         plt.xlabel('iterations (per tens)')\n",
        "#         plt.title(\"COST (TRAIN SET) (Learning rate =\" + str(learning_rate) + \")\")\n",
        "#         plt.show()\n",
        "        \n",
        "        plt.plot(np.squeeze(IOU), 'b', np.squeeze(IOU_dev), 'g')\n",
        "        plt.ylabel('IOU')\n",
        "        plt.xlabel('iterations (per tens)')\n",
        "        plt.title(\"IOU (TRAIN_SET)\")\n",
        "        plt.show()\n",
        "        \n",
        "        plt.plot(np.squeeze(acc), 'b', np.squeeze(acc_dev), 'g')\n",
        "        plt.ylabel('ACC')\n",
        "        plt.xlabel('iterations (per tens)')\n",
        "        plt.title(\"ACC (TRAIN_SET)\")\n",
        "        plt.show()\n",
        "\n",
        "        print_topology(np.reshape(Y_dev[number,:], (40, 40,1)))\n",
        "        print_topology(image_enc_test)\n",
        "  \n",
        "        # PLOT DEV COST, IOU, AND ACC\n",
        "#         plt.plot(np.squeeze(costs_dev))\n",
        "#         plt.ylabel('COST')\n",
        "#         plt.xlabel('iterations (per tens)')\n",
        "#         plt.title(\"COST (DEV SET) (Learning rate =\" + str(learning_rate) + \")\")\n",
        "#         plt.show()\n",
        "\n",
        "#         plt.plot(np.squeeze(IOU_dev))\n",
        "#         plt.ylabel('IOU')\n",
        "#         plt.xlabel('iterations (per tens)')\n",
        "#         plt.title(\"IOU (DEV SET)\")\n",
        "#         plt.show()\n",
        "        \n",
        "#         plt.plot(np.squeeze(acc_dev))\n",
        "#         plt.ylabel('ACC')\n",
        "#         plt.xlabel('iterations (per tens)')\n",
        "#         plt.title(\"ACC (DEV_SET)\")\n",
        "#         plt.show()\n",
        "        \n",
        "                \n",
        "        return parameters, costs, IOU, acc, costs_dev, IOU_dev, acc_dev"
      ],
      "execution_count": 0,
      "outputs": []
    },
    {
      "metadata": {
        "id": "uCaPObv9RiMN",
        "colab_type": "code",
        "colab": {
          "autoexec": {
            "startup": false,
            "wait_interval": 0
          },
          "output_extras": [
            {
              "item_id": 2
            },
            {
              "item_id": 3
            },
            {
              "item_id": 4
            },
            {
              "item_id": 5
            },
            {
              "item_id": 10
            },
            {
              "item_id": 11
            },
            {
              "item_id": 16
            },
            {
              "item_id": 17
            },
            {
              "item_id": 22
            },
            {
              "item_id": 23
            },
            {
              "item_id": 28
            },
            {
              "item_id": 29
            },
            {
              "item_id": 34
            },
            {
              "item_id": 35
            },
            {
              "item_id": 40
            },
            {
              "item_id": 41
            },
            {
              "item_id": 46
            },
            {
              "item_id": 47
            },
            {
              "item_id": 52
            },
            {
              "item_id": 53
            },
            {
              "item_id": 58
            },
            {
              "item_id": 59
            },
            {
              "item_id": 64
            },
            {
              "item_id": 65
            },
            {
              "item_id": 70
            },
            {
              "item_id": 71
            },
            {
              "item_id": 76
            },
            {
              "item_id": 77
            },
            {
              "item_id": 82
            },
            {
              "item_id": 83
            },
            {
              "item_id": 88
            },
            {
              "item_id": 89
            },
            {
              "item_id": 94
            },
            {
              "item_id": 95
            },
            {
              "item_id": 100
            },
            {
              "item_id": 101
            },
            {
              "item_id": 106
            },
            {
              "item_id": 107
            },
            {
              "item_id": 112
            },
            {
              "item_id": 113
            },
            {
              "item_id": 118
            },
            {
              "item_id": 119
            },
            {
              "item_id": 123
            },
            {
              "item_id": 124
            },
            {
              "item_id": 125
            },
            {
              "item_id": 126
            },
            {
              "item_id": 127
            },
            {
              "item_id": 128
            },
            {
              "item_id": 129
            }
          ],
          "base_uri": "https://localhost:8080/",
          "height": 21026
        },
        "outputId": "d8f5e189-41a2-4ad6-da74-48b882da6cb0",
        "executionInfo": {
          "status": "ok",
          "timestamp": 1521562404874,
          "user_tz": 420,
          "elapsed": 4572164,
          "user": {
            "displayName": "Anne Alter",
            "photoUrl": "//lh6.googleusercontent.com/-atp70WgtuyI/AAAAAAAAAAI/AAAAAAAAABI/v-4wP6906nY/s50-c-k-no/photo.jpg",
            "userId": "100735354600515761315"
          }
        }
      },
      "cell_type": "code",
      "source": [
        "model(X_train, Y_train, X_test, Y_test, learning_rate = 0.0001, num_epochs = 100, minibatch_size = 64, print_cost = True)"
      ],
      "execution_count": 15,
      "outputs": [
        {
          "output_type": "stream",
          "text": [
            "40000\n",
            "0\n"
          ],
          "name": "stdout"
        },
        {
          "output_type": "display_data",
          "data": {
            "image/png": "[encoded data removed]",
            "text/plain": [
              "<matplotlib.figure.Figure at 0x7fc5c064bf28>"
            ]
          },
          "metadata": {
            "tags": []
          }
        },
        {
          "output_type": "display_data",
          "data": {
            "image/png": "[encoded data removed]",
            "text/plain": [
              "<matplotlib.figure.Figure at 0x7fc5c0248780>"
            ]
          },
          "metadata": {
            "tags": []
          }
        },
        {
          "output_type": "display_data",
          "data": {
            "image/png": "[encoded data removed]",
            "text/plain": [
              "<matplotlib.figure.Figure at 0x7fc5c8a99dd8>"
            ]
          },
          "metadata": {
            "tags": []
          }
        },
        {
          "output_type": "stream",
          "text": [
            "TRAIN COST @ EPOCH 0: 0.291573\n",
            "TRAIN IOU  @ EPOCH 0: 0.631687\n",
            "TRAIN ACC  @ EPOCH 0: 0.767362\n",
            "TEST  COST @ EPOCH 0: 0.615203\n",
            "TEST  IOU  @ EPOCH 0: 0.751081\n",
            "TEST  ACC  @ EPOCH 0: 0.857854\n",
            "1\n",
            "2\n",
            "3\n",
            "4\n",
            "5\n"
          ],
          "name": "stdout"
        },
        {
          "output_type": "display_data",
          "data": {
            "image/png": "[encoded data removed]",
            "text/plain": [
              "<matplotlib.figure.Figure at 0x7fc5c8a736d8>"
            ]
          },
          "metadata": {
            "tags": []
          }
        },
        {
          "output_type": "stream",
          "text": [
            "TRAIN COST @ EPOCH 5: 0.117123\n",
            "TRAIN IOU  @ EPOCH 5: 0.852285\n",
            "TRAIN ACC  @ EPOCH 5: 0.920280\n",
            "TEST  COST @ EPOCH 5: 0.531255\n",
            "TEST  IOU  @ EPOCH 5: 0.856440\n",
            "TEST  ACC  @ EPOCH 5: 0.922698\n",
            "6\n",
            "7\n",
            "8\n",
            "9\n",
            "10\n"
          ],
          "name": "stdout"
        },
        {
          "output_type": "display_data",
          "data": {
            "image/png": "[encoded data removed]",
            "text/plain": [
              "<matplotlib.figure.Figure at 0x7fc5bb97bc50>"
            ]
          },
          "metadata": {
            "tags": []
          }
        },
        {
          "output_type": "stream",
          "text": [
            "TRAIN COST @ EPOCH 10: 0.106253\n",
            "TRAIN IOU  @ EPOCH 10: 0.877008\n",
            "TRAIN ACC  @ EPOCH 10: 0.934495\n",
            "TEST  COST @ EPOCH 10: 0.469534\n",
            "TEST  IOU  @ EPOCH 10: 0.878551\n",
            "TEST  ACC  @ EPOCH 10: 0.935369\n",
            "11\n",
            "12\n",
            "13\n",
            "14\n",
            "15\n"
          ],
          "name": "stdout"
        },
        {
          "output_type": "display_data",
          "data": {
            "image/png": "[encoded data removed]",
            "text/plain": [
              "<matplotlib.figure.Figure at 0x7fc5c8a734e0>"
            ]
          },
          "metadata": {
            "tags": []
          }
        },
        {
          "output_type": "stream",
          "text": [
            "TRAIN COST @ EPOCH 15: 0.100544\n",
            "TRAIN IOU  @ EPOCH 15: 0.887960\n",
            "TRAIN ACC  @ EPOCH 15: 0.940671\n",
            "TEST  COST @ EPOCH 15: 0.489393\n",
            "TEST  IOU  @ EPOCH 15: 0.888815\n",
            "TEST  ACC  @ EPOCH 15: 0.941151\n",
            "16\n",
            "17\n",
            "18\n",
            "19\n",
            "20\n"
          ],
          "name": "stdout"
        },
        {
          "output_type": "display_data",
          "data": {
            "image/png": "[encoded data removed]",
            "text/plain": [
              "<matplotlib.figure.Figure at 0x7fc5baca4588>"
            ]
          },
          "metadata": {
            "tags": []
          }
        },
        {
          "output_type": "stream",
          "text": [
            "TRAIN COST @ EPOCH 20: 0.096823\n",
            "TRAIN IOU  @ EPOCH 20: 0.892860\n",
            "TRAIN ACC  @ EPOCH 20: 0.943409\n",
            "TEST  COST @ EPOCH 20: 0.512278\n",
            "TEST  IOU  @ EPOCH 20: 0.893472\n",
            "TEST  ACC  @ EPOCH 20: 0.943750\n",
            "21\n",
            "22\n",
            "23\n",
            "24\n",
            "25\n"
          ],
          "name": "stdout"
        },
        {
          "output_type": "display_data",
          "data": {
            "image/png": "[encoded data removed]",
            "text/plain": [
              "<matplotlib.figure.Figure at 0x7fc5bb926358>"
            ]
          },
          "metadata": {
            "tags": []
          }
        },
        {
          "output_type": "stream",
          "text": [
            "TRAIN COST @ EPOCH 25: 0.094016\n",
            "TRAIN IOU  @ EPOCH 25: 0.895487\n",
            "TRAIN ACC  @ EPOCH 25: 0.944872\n",
            "TEST  COST @ EPOCH 25: 0.530037\n",
            "TEST  IOU  @ EPOCH 25: 0.895978\n",
            "TEST  ACC  @ EPOCH 25: 0.945145\n",
            "26\n",
            "27\n",
            "28\n",
            "29\n",
            "30\n"
          ],
          "name": "stdout"
        },
        {
          "output_type": "display_data",
          "data": {
            "image/png": "[encoded data removed]",
            "text/plain": [
              "<matplotlib.figure.Figure at 0x7fc5babeff28>"
            ]
          },
          "metadata": {
            "tags": []
          }
        },
        {
          "output_type": "stream",
          "text": [
            "TRAIN COST @ EPOCH 30: 0.091648\n",
            "TRAIN IOU  @ EPOCH 30: 0.897127\n",
            "TRAIN ACC  @ EPOCH 30: 0.945782\n",
            "TEST  COST @ EPOCH 30: 0.543915\n",
            "TEST  IOU  @ EPOCH 30: 0.897542\n",
            "TEST  ACC  @ EPOCH 30: 0.946012\n",
            "31\n",
            "32\n",
            "33\n",
            "34\n",
            "35\n"
          ],
          "name": "stdout"
        },
        {
          "output_type": "display_data",
          "data": {
            "image/png": "[encoded data removed]",
            "text/plain": [
              "<matplotlib.figure.Figure at 0x7fc5bac60048>"
            ]
          },
          "metadata": {
            "tags": []
          }
        },
        {
          "output_type": "stream",
          "text": [
            "TRAIN COST @ EPOCH 35: 0.089618\n",
            "TRAIN IOU  @ EPOCH 35: 0.898482\n",
            "TRAIN ACC  @ EPOCH 35: 0.946532\n",
            "TEST  COST @ EPOCH 35: 0.552737\n",
            "TEST  IOU  @ EPOCH 35: 0.898840\n",
            "TEST  ACC  @ EPOCH 35: 0.946731\n",
            "36\n",
            "37\n",
            "38\n",
            "39\n",
            "40\n"
          ],
          "name": "stdout"
        },
        {
          "output_type": "display_data",
          "data": {
            "image/png": "[encoded data removed]",
            "text/plain": [
              "<matplotlib.figure.Figure at 0x7fc5baa60b38>"
            ]
          },
          "metadata": {
            "tags": []
          }
        },
        {
          "output_type": "stream",
          "text": [
            "TRAIN COST @ EPOCH 40: 0.087827\n",
            "TRAIN IOU  @ EPOCH 40: 0.899644\n",
            "TRAIN ACC  @ EPOCH 40: 0.947179\n",
            "TEST  COST @ EPOCH 40: 0.549815\n",
            "TEST  IOU  @ EPOCH 40: 0.899964\n",
            "TEST  ACC  @ EPOCH 40: 0.947356\n",
            "41\n",
            "42\n",
            "43\n",
            "44\n",
            "45\n"
          ],
          "name": "stdout"
        },
        {
          "output_type": "display_data",
          "data": {
            "image/png": "[encoded data removed]",
            "text/plain": [
              "<matplotlib.figure.Figure at 0x7fc5baa77898>"
            ]
          },
          "metadata": {
            "tags": []
          }
        },
        {
          "output_type": "stream",
          "text": [
            "TRAIN COST @ EPOCH 45: 0.086187\n",
            "TRAIN IOU  @ EPOCH 45: 0.900739\n",
            "TRAIN ACC  @ EPOCH 45: 0.947784\n",
            "TEST  COST @ EPOCH 45: 0.554825\n",
            "TEST  IOU  @ EPOCH 45: 0.901027\n",
            "TEST  ACC  @ EPOCH 45: 0.947944\n",
            "46\n",
            "47\n",
            "48\n",
            "49\n",
            "50\n"
          ],
          "name": "stdout"
        },
        {
          "output_type": "display_data",
          "data": {
            "image/png": "[encoded data removed]",
            "text/plain": [
              "<matplotlib.figure.Figure at 0x7fc5baa71f28>"
            ]
          },
          "metadata": {
            "tags": []
          }
        },
        {
          "output_type": "stream",
          "text": [
            "TRAIN COST @ EPOCH 50: 0.084684\n",
            "TRAIN IOU  @ EPOCH 50: 0.901736\n",
            "TRAIN ACC  @ EPOCH 50: 0.948337\n",
            "TEST  COST @ EPOCH 50: 0.547650\n",
            "TEST  IOU  @ EPOCH 50: 0.901998\n",
            "TEST  ACC  @ EPOCH 50: 0.948482\n",
            "51\n",
            "52\n",
            "53\n",
            "54\n",
            "55\n"
          ],
          "name": "stdout"
        },
        {
          "output_type": "display_data",
          "data": {
            "image/png": "[encoded data removed]",
            "text/plain": [
              "<matplotlib.figure.Figure at 0x7fc5ba9fbdd8>"
            ]
          },
          "metadata": {
            "tags": []
          }
        },
        {
          "output_type": "stream",
          "text": [
            "TRAIN COST @ EPOCH 55: 0.083258\n",
            "TRAIN IOU  @ EPOCH 55: 0.902681\n",
            "TRAIN ACC  @ EPOCH 55: 0.948858\n",
            "TEST  COST @ EPOCH 55: 0.549251\n",
            "TEST  IOU  @ EPOCH 55: 0.902923\n",
            "TEST  ACC  @ EPOCH 55: 0.948993\n",
            "56\n",
            "57\n",
            "58\n",
            "59\n",
            "60\n"
          ],
          "name": "stdout"
        },
        {
          "output_type": "display_data",
          "data": {
            "image/png": "[encoded data removed]",
            "text/plain": [
              "<matplotlib.figure.Figure at 0x7fc5baaa7048>"
            ]
          },
          "metadata": {
            "tags": []
          }
        },
        {
          "output_type": "stream",
          "text": [
            "TRAIN COST @ EPOCH 60: 0.081827\n",
            "TRAIN IOU  @ EPOCH 60: 0.903588\n",
            "TRAIN ACC  @ EPOCH 60: 0.949362\n",
            "TEST  COST @ EPOCH 60: 0.546918\n",
            "TEST  IOU  @ EPOCH 60: 0.903810\n",
            "TEST  ACC  @ EPOCH 60: 0.949484\n",
            "61\n",
            "62\n",
            "63\n",
            "64\n",
            "65\n"
          ],
          "name": "stdout"
        },
        {
          "output_type": "display_data",
          "data": {
            "image/png": "[encoded data removed]",
            "text/plain": [
              "<matplotlib.figure.Figure at 0x7fc5ba8b26a0>"
            ]
          },
          "metadata": {
            "tags": []
          }
        },
        {
          "output_type": "stream",
          "text": [
            "TRAIN COST @ EPOCH 65: 0.080414\n",
            "TRAIN IOU  @ EPOCH 65: 0.904467\n",
            "TRAIN ACC  @ EPOCH 65: 0.949845\n",
            "TEST  COST @ EPOCH 65: 0.535735\n",
            "TEST  IOU  @ EPOCH 65: 0.904676\n",
            "TEST  ACC  @ EPOCH 65: 0.949960\n",
            "66\n",
            "67\n",
            "68\n",
            "69\n",
            "70\n"
          ],
          "name": "stdout"
        },
        {
          "output_type": "display_data",
          "data": {
            "image/png": "[encoded data removed]",
            "text/plain": [
              "<matplotlib.figure.Figure at 0x7fc5ba9be710>"
            ]
          },
          "metadata": {
            "tags": []
          }
        },
        {
          "output_type": "stream",
          "text": [
            "TRAIN COST @ EPOCH 70: 0.079133\n",
            "TRAIN IOU  @ EPOCH 70: 0.905385\n",
            "TRAIN ACC  @ EPOCH 70: 0.950351\n",
            "TEST  COST @ EPOCH 70: 0.536570\n",
            "TEST  IOU  @ EPOCH 70: 0.905580\n",
            "TEST  ACC  @ EPOCH 70: 0.950458\n",
            "71\n",
            "72\n",
            "73\n",
            "74\n",
            "75\n"
          ],
          "name": "stdout"
        },
        {
          "output_type": "display_data",
          "data": {
            "image/png": "[encoded data removed]",
            "text/plain": [
              "<matplotlib.figure.Figure at 0x7fc5ba9f19b0>"
            ]
          },
          "metadata": {
            "tags": []
          }
        },
        {
          "output_type": "stream",
          "text": [
            "TRAIN COST @ EPOCH 75: 0.077715\n",
            "TRAIN IOU  @ EPOCH 75: 0.906310\n",
            "TRAIN ACC  @ EPOCH 75: 0.950861\n",
            "TEST  COST @ EPOCH 75: 0.526780\n",
            "TEST  IOU  @ EPOCH 75: 0.906494\n",
            "TEST  ACC  @ EPOCH 75: 0.950963\n",
            "76\n",
            "77\n",
            "78\n",
            "79\n",
            "80\n"
          ],
          "name": "stdout"
        },
        {
          "output_type": "display_data",
          "data": {
            "image/png": "[encoded data removed]",
            "text/plain": [
              "<matplotlib.figure.Figure at 0x7fc5ba87f278>"
            ]
          },
          "metadata": {
            "tags": []
          }
        },
        {
          "output_type": "stream",
          "text": [
            "TRAIN COST @ EPOCH 80: 0.076362\n",
            "TRAIN IOU  @ EPOCH 80: 0.907253\n",
            "TRAIN ACC  @ EPOCH 80: 0.951377\n",
            "TEST  COST @ EPOCH 80: 0.522892\n",
            "TEST  IOU  @ EPOCH 80: 0.907429\n",
            "TEST  ACC  @ EPOCH 80: 0.951473\n",
            "81\n",
            "82\n",
            "83\n",
            "84\n",
            "85\n"
          ],
          "name": "stdout"
        },
        {
          "output_type": "display_data",
          "data": {
            "image/png": "[encoded data removed]",
            "text/plain": [
              "<matplotlib.figure.Figure at 0x7fc5ba82bc18>"
            ]
          },
          "metadata": {
            "tags": []
          }
        },
        {
          "output_type": "stream",
          "text": [
            "TRAIN COST @ EPOCH 85: 0.074826\n",
            "TRAIN IOU  @ EPOCH 85: 0.908230\n",
            "TRAIN ACC  @ EPOCH 85: 0.951914\n",
            "TEST  COST @ EPOCH 85: 0.515332\n",
            "TEST  IOU  @ EPOCH 85: 0.908394\n",
            "TEST  ACC  @ EPOCH 85: 0.952004\n",
            "86\n",
            "87\n",
            "88\n",
            "89\n",
            "90\n"
          ],
          "name": "stdout"
        },
        {
          "output_type": "display_data",
          "data": {
            "image/png": "[encoded data removed]",
            "text/plain": [
              "<matplotlib.figure.Figure at 0x7fc5ba8d5518>"
            ]
          },
          "metadata": {
            "tags": []
          }
        },
        {
          "output_type": "stream",
          "text": [
            "TRAIN COST @ EPOCH 90: 0.073261\n",
            "TRAIN IOU  @ EPOCH 90: 0.909251\n",
            "TRAIN ACC  @ EPOCH 90: 0.952472\n",
            "TEST  COST @ EPOCH 90: 0.511218\n",
            "TEST  IOU  @ EPOCH 90: 0.909410\n",
            "TEST  ACC  @ EPOCH 90: 0.952560\n",
            "91\n",
            "92\n",
            "93\n",
            "94\n",
            "95\n"
          ],
          "name": "stdout"
        },
        {
          "output_type": "display_data",
          "data": {
            "image/png": "[encoded data removed]",
            "text/plain": [
              "<matplotlib.figure.Figure at 0x7fc5bab24588>"
            ]
          },
          "metadata": {
            "tags": []
          }
        },
        {
          "output_type": "stream",
          "text": [
            "TRAIN COST @ EPOCH 95: 0.071780\n",
            "TRAIN IOU  @ EPOCH 95: 0.910292\n",
            "TRAIN ACC  @ EPOCH 95: 0.953043\n",
            "TEST  COST @ EPOCH 95: 0.508327\n",
            "TEST  IOU  @ EPOCH 95: 0.910443\n",
            "TEST  ACC  @ EPOCH 95: 0.953127\n",
            "96\n",
            "97\n",
            "98\n",
            "99\n"
          ],
          "name": "stdout"
        },
        {
          "output_type": "display_data",
          "data": {
            "image/png": "[encoded data removed]",
            "text/plain": [
              "<matplotlib.figure.Figure at 0x7fc5c0e48550>"
            ]
          },
          "metadata": {
            "tags": []
          }
        },
        {
          "output_type": "display_data",
          "data": {
            "image/png": "[encoded data removed]",
            "text/plain": [
              "<matplotlib.figure.Figure at 0x7fc5ba946f60>"
            ]
          },
          "metadata": {
            "tags": []
          }
        },
        {
          "output_type": "display_data",
          "data": {
            "image/png": "[encoded data removed]",
            "text/plain": [
              "<matplotlib.figure.Figure at 0x7fc5ba916470>"
            ]
          },
          "metadata": {
            "tags": []
          }
        },
        {
          "output_type": "display_data",
          "data": {
            "image/png": "[encoded data removed]",
            "text/plain": [
              "<matplotlib.figure.Figure at 0x7fc5ba81b588>"
            ]
          },
          "metadata": {
            "tags": []
          }
        },
        {
          "output_type": "display_data",
          "data": {
            "image/png": "[encoded data removed]",
            "text/plain": [
              "<matplotlib.figure.Figure at 0x7fc5ba94d320>"
            ]
          },
          "metadata": {
            "tags": []
          }
        },
        {
          "output_type": "execute_result",
          "data": {
            "text/plain": [
              "({'W1': <tf.Variable 'W1:0' shape=(3, 3, 2, 16) dtype=float32_ref>,\n",
              "  'W10': <tf.Variable 'W10:0' shape=(3, 3, 32, 32) dtype=float32_ref>,\n",
              "  'W11': <tf.Variable 'W11:0' shape=(3, 3, 48, 16) dtype=float32_ref>,\n",
              "  'W12': <tf.Variable 'W12:0' shape=(3, 3, 16, 16) dtype=float32_ref>,\n",
              "  'W13': <tf.Variable 'W13:0' shape=(1, 1, 16, 1) dtype=float32_ref>,\n",
              "  'W2': <tf.Variable 'W2:0' shape=(3, 3, 16, 16) dtype=float32_ref>,\n",
              "  'W3': <tf.Variable 'W3:0' shape=(3, 3, 16, 32) dtype=float32_ref>,\n",
              "  'W4': <tf.Variable 'W4:0' shape=(3, 3, 32, 32) dtype=float32_ref>,\n",
              "  'W5': <tf.Variable 'W5:0' shape=(3, 3, 32, 64) dtype=float32_ref>,\n",
              "  'W6': <tf.Variable 'W6:0' shape=(3, 3, 64, 64) dtype=float32_ref>,\n",
              "  'W7': <tf.Variable 'W7:0' shape=(3, 3, 64, 64) dtype=float32_ref>,\n",
              "  'W8': <tf.Variable 'W8:0' shape=(3, 3, 64, 64) dtype=float32_ref>,\n",
              "  'W9': <tf.Variable 'W9:0' shape=(3, 3, 96, 32) dtype=float32_ref>},\n",
              " [0.29157278501987444,\n",
              "  0.15693128937482845,\n",
              "  0.13647118648290635,\n",
              "  0.12689105728864666,\n",
              "  0.12121076719760893,\n",
              "  0.11712346705198295,\n",
              "  0.11409300191402434,\n",
              "  0.1115705161690713,\n",
              "  0.1094878954172134,\n",
              "  0.1077385801672936,\n",
              "  0.10625252422094354,\n",
              "  0.1048371092557908,\n",
              "  0.10365722976922997,\n",
              "  0.10253136246204365,\n",
              "  0.10157080806493758,\n",
              "  0.1005436683058738,\n",
              "  0.0996831591963768,\n",
              "  0.09891139646768565,\n",
              "  0.09820404480695724,\n",
              "  0.0974562519073486,\n",
              "  0.09682349333763127,\n",
              "  0.09614960032701496,\n",
              "  0.09564333795309074,\n",
              "  0.09511015257835378,\n",
              "  0.09453461492061614,\n",
              "  0.09401580404043194,\n",
              "  0.09344498009681707,\n",
              "  0.0930067993044854,\n",
              "  0.09246424189805985,\n",
              "  0.0920553295493126,\n",
              "  0.0916479372978212,\n",
              "  0.09122551764249796,\n",
              "  0.09083732427358626,\n",
              "  0.09040926617383944,\n",
              "  0.08994438140392307,\n",
              "  0.08961798948645595,\n",
              "  0.08924718817472455,\n",
              "  0.08882340137958535,\n",
              "  0.08854527454376226,\n",
              "  0.0881593544125557,\n",
              "  0.08782689080834391,\n",
              "  0.08749460060596465,\n",
              "  0.08721525708436965,\n",
              "  0.08686506490707395,\n",
              "  0.086560166656971,\n",
              "  0.08618667652606969,\n",
              "  0.0858747425436974,\n",
              "  0.08558560442924491,\n",
              "  0.08527462822198877,\n",
              "  0.08493490974903098,\n",
              "  0.08468389505147933,\n",
              "  0.08437161132693295,\n",
              "  0.08406659585833542,\n",
              "  0.08386900358200078,\n",
              "  0.08349204297661768,\n",
              "  0.08325849823951709,\n",
              "  0.08293357623219491,\n",
              "  0.08261903693676,\n",
              "  0.08237114228606233,\n",
              "  0.08217415980100633,\n",
              "  0.08182705832123763,\n",
              "  0.08152851495146754,\n",
              "  0.08133367623090748,\n",
              "  0.08101509322524089,\n",
              "  0.08072782893180849,\n",
              "  0.08041411561369906,\n",
              "  0.08017511830925947,\n",
              "  0.07989156694412229,\n",
              "  0.07968925145864487,\n",
              "  0.07936699826121334,\n",
              "  0.07913272704482077,\n",
              "  0.07883246567845355,\n",
              "  0.07857564781904222,\n",
              "  0.07825124192237855,\n",
              "  0.07804694375991825,\n",
              "  0.07771507478952411,\n",
              "  0.0774167864084244,\n",
              "  0.07712884264588353,\n",
              "  0.07682182512283318,\n",
              "  0.07647636879086486,\n",
              "  0.0763622033178806,\n",
              "  0.07594179830551141,\n",
              "  0.07573029170036313,\n",
              "  0.07545255275964739,\n",
              "  0.07511054866313928,\n",
              "  0.07482607457637788,\n",
              "  0.07451498432159429,\n",
              "  0.07419592237472544,\n",
              "  0.07392064505815506,\n",
              "  0.0735957576036454,\n",
              "  0.0732613692820072,\n",
              "  0.07296043693423272,\n",
              "  0.07268701464533804,\n",
              "  0.07236032853722572,\n",
              "  0.07212455982565874,\n",
              "  0.07178021283149713,\n",
              "  0.0715089213907719,\n",
              "  0.07121522911787036,\n",
              "  0.0708849993824959,\n",
              "  0.07062022483348848],\n",
              " [0.6316868658542635,\n",
              "  0.7803626882553099,\n",
              "  0.8153063909530636,\n",
              "  0.8330440405845642,\n",
              "  0.8441398627281194,\n",
              "  0.8522850385665879,\n",
              "  0.8591271036148069,\n",
              "  0.8648378787994382,\n",
              "  0.8696427347183217,\n",
              "  0.873628330898285,\n",
              "  0.8770082176208508,\n",
              "  0.879909479141236,\n",
              "  0.8823919315338131,\n",
              "  0.8845539253234865,\n",
              "  0.8863938075065619,\n",
              "  0.8879595867156986,\n",
              "  0.889300785255432,\n",
              "  0.890358704948425,\n",
              "  0.8913561904907232,\n",
              "  0.8922108807563779,\n",
              "  0.8928603622436515,\n",
              "  0.8934975568771367,\n",
              "  0.8940058714866631,\n",
              "  0.8945428216934199,\n",
              "  0.8950671249389645,\n",
              "  0.8954874331474304,\n",
              "  0.8958603218078607,\n",
              "  0.8961914831161488,\n",
              "  0.8965293233871463,\n",
              "  0.8968289360046376,\n",
              "  0.8971271049499515,\n",
              "  0.8974155487060542,\n",
              "  0.8976959711074828,\n",
              "  0.8979721025466917,\n",
              "  0.8982394438743592,\n",
              "  0.8984816740989683,\n",
              "  0.8987223919868474,\n",
              "  0.8989626350402834,\n",
              "  0.899197781848908,\n",
              "  0.899429739284515,\n",
              "  0.8996440646171561,\n",
              "  0.8998730692863459,\n",
              "  0.9000917071342475,\n",
              "  0.9003132771491998,\n",
              "  0.9005285566329957,\n",
              "  0.9007392529487602,\n",
              "  0.9009394786834716,\n",
              "  0.9011363500595088,\n",
              "  0.9013451622962946,\n",
              "  0.9015445789337162,\n",
              "  0.9017355513572695,\n",
              "  0.9019324721336364,\n",
              "  0.9021239572525018,\n",
              "  0.9023100744247441,\n",
              "  0.9024992287635801,\n",
              "  0.9026810276985172,\n",
              "  0.9028663434028624,\n",
              "  0.9030450765609747,\n",
              "  0.9032268193244933,\n",
              "  0.9034071363449103,\n",
              "  0.9035882954597476,\n",
              "  0.9037664417266851,\n",
              "  0.9039370267868038,\n",
              "  0.9041121427536004,\n",
              "  0.9042885207176207,\n",
              "  0.9044673624992364,\n",
              "  0.9046570569992063,\n",
              "  0.904839875125885,\n",
              "  0.905022931575775,\n",
              "  0.9052073470115662,\n",
              "  0.905384875202178,\n",
              "  0.9055633738517759,\n",
              "  0.905754489898682,\n",
              "  0.905936343383789,\n",
              "  0.9061268347740167,\n",
              "  0.9063102748870846,\n",
              "  0.9064989707946776,\n",
              "  0.9066954756736761,\n",
              "  0.9068777307510372,\n",
              "  0.9070611641883858,\n",
              "  0.9072528153419495,\n",
              "  0.9074472543716425,\n",
              "  0.9076390321731557,\n",
              "  0.9078398328781133,\n",
              "  0.9080388040542603,\n",
              "  0.9082298439025889,\n",
              "  0.9084361799240124,\n",
              "  0.9086486871719356,\n",
              "  0.9088552528381353,\n",
              "  0.9090534858703609,\n",
              "  0.9092511281967167,\n",
              "  0.9094623349189751,\n",
              "  0.9096758870124826,\n",
              "  0.909887395668029,\n",
              "  0.9100802610397345,\n",
              "  0.9102915759086603,\n",
              "  0.9105031672477718,\n",
              "  0.9107070634841921,\n",
              "  0.9109122926712032,\n",
              "  0.911130226802826],\n",
              " [0.767361753988266,\n",
              "  0.8765496353149412,\n",
              "  0.898262780380249,\n",
              "  0.9089390827178965,\n",
              "  0.9155093736648563,\n",
              "  0.9202800996780406,\n",
              "  0.9242535553932184,\n",
              "  0.9275466089248653,\n",
              "  0.9303011265754708,\n",
              "  0.9325749772071843,\n",
              "  0.934494645786286,\n",
              "  0.9361381779670711,\n",
              "  0.9375408965110783,\n",
              "  0.9387589932441706,\n",
              "  0.939792618274689,\n",
              "  0.9406713620185854,\n",
              "  0.9414226164817814,\n",
              "  0.9420140948295581,\n",
              "  0.9425706457138049,\n",
              "  0.943047678184509,\n",
              "  0.9434093492507939,\n",
              "  0.9437638470649719,\n",
              "  0.9440467710494995,\n",
              "  0.944345681476592,\n",
              "  0.9446376181602475,\n",
              "  0.9448716694831849,\n",
              "  0.9450786788940433,\n",
              "  0.9452619699478145,\n",
              "  0.9454495168685915,\n",
              "  0.9456162646293639,\n",
              "  0.9457818319320671,\n",
              "  0.9459414803504933,\n",
              "  0.9460966822624207,\n",
              "  0.9462492118835449,\n",
              "  0.9463974975585937,\n",
              "  0.946531899642944,\n",
              "  0.9466657356262211,\n",
              "  0.9467991493225096,\n",
              "  0.9469304044723513,\n",
              "  0.9470592605590823,\n",
              "  0.9471786306381224,\n",
              "  0.9473052838325506,\n",
              "  0.9474259690284729,\n",
              "  0.9475480290412912,\n",
              "  0.9476677314758296,\n",
              "  0.947784025287628,\n",
              "  0.9478956373214725,\n",
              "  0.9480054950714109,\n",
              "  0.9481207052230833,\n",
              "  0.9482311267852775,\n",
              "  0.9483365295410143,\n",
              "  0.9484455236434938,\n",
              "  0.9485513251304633,\n",
              "  0.9486535199165346,\n",
              "  0.9487583409309395,\n",
              "  0.948858426380157,\n",
              "  0.9489614645957948,\n",
              "  0.9490603588104259,\n",
              "  0.9491612408637993,\n",
              "  0.9492609025955199,\n",
              "  0.9493615519523617,\n",
              "  0.9494594393730156,\n",
              "  0.9495529301643371,\n",
              "  0.9496490846633912,\n",
              "  0.9497464242935183,\n",
              "  0.9498452365875247,\n",
              "  0.949949739551543,\n",
              "  0.9500505758285521,\n",
              "  0.9501511663436891,\n",
              "  0.9502525362014771,\n",
              "  0.9503507276535041,\n",
              "  0.950449436759949,\n",
              "  0.9505545614242549,\n",
              "  0.950654767513275,\n",
              "  0.9507596501350403,\n",
              "  0.9508611582756037,\n",
              "  0.950964195919036,\n",
              "  0.95107105884552,\n",
              "  0.9511708405494694,\n",
              "  0.9512715806007381,\n",
              "  0.9513771604537957,\n",
              "  0.9514834937095644,\n",
              "  0.951589095020294,\n",
              "  0.9517002611160285,\n",
              "  0.9518094315528868,\n",
              "  0.9519140256881712,\n",
              "  0.952026827812193,\n",
              "  0.9521433405876157,\n",
              "  0.9522559594154354,\n",
              "  0.9523643272399903,\n",
              "  0.9524724353790287,\n",
              "  0.9525879958152773,\n",
              "  0.9527046250343331,\n",
              "  0.9528209411621104,\n",
              "  0.9529270583152767,\n",
              "  0.9530432161331173,\n",
              "  0.9531594912528993,\n",
              "  0.9532714593887333,\n",
              "  0.9533834660530096,\n",
              "  0.9535022027015676],\n",
              " [0.61520344,\n",
              "  0.5992289,\n",
              "  0.5975727,\n",
              "  0.6022289,\n",
              "  0.57171166,\n",
              "  0.5312555,\n",
              "  0.5156979,\n",
              "  0.45948884,\n",
              "  0.47133657,\n",
              "  0.45275727,\n",
              "  0.46953386,\n",
              "  0.45907637,\n",
              "  0.46719712,\n",
              "  0.4825349,\n",
              "  0.47554982,\n",
              "  0.48939282,\n",
              "  0.5050156,\n",
              "  0.49721435,\n",
              "  0.5082933,\n",
              "  0.5190145,\n",
              "  0.51227844,\n",
              "  0.5209377,\n",
              "  0.5167824,\n",
              "  0.5128833,\n",
              "  0.5231805,\n",
              "  0.5300372,\n",
              "  0.5382988,\n",
              "  0.5342267,\n",
              "  0.539774,\n",
              "  0.5426356,\n",
              "  0.54391485,\n",
              "  0.5416623,\n",
              "  0.54479814,\n",
              "  0.54461646,\n",
              "  0.5541437,\n",
              "  0.5527367,\n",
              "  0.5473313,\n",
              "  0.54874355,\n",
              "  0.5491305,\n",
              "  0.55384463,\n",
              "  0.5498148,\n",
              "  0.5480127,\n",
              "  0.54640543,\n",
              "  0.5498748,\n",
              "  0.54939884,\n",
              "  0.55482537,\n",
              "  0.5548423,\n",
              "  0.54734486,\n",
              "  0.54850346,\n",
              "  0.55233914,\n",
              "  0.54764986,\n",
              "  0.5480778,\n",
              "  0.5544916,\n",
              "  0.5470194,\n",
              "  0.5472655,\n",
              "  0.5492506,\n",
              "  0.5490619,\n",
              "  0.54715246,\n",
              "  0.547346,\n",
              "  0.5446309,\n",
              "  0.5469179,\n",
              "  0.55239516,\n",
              "  0.5455585,\n",
              "  0.5442471,\n",
              "  0.5395657,\n",
              "  0.5357349,\n",
              "  0.53963244,\n",
              "  0.5349796,\n",
              "  0.5357698,\n",
              "  0.5377845,\n",
              "  0.53657037,\n",
              "  0.5311373,\n",
              "  0.535035,\n",
              "  0.52639556,\n",
              "  0.5293289,\n",
              "  0.5267803,\n",
              "  0.5239511,\n",
              "  0.5278057,\n",
              "  0.5279825,\n",
              "  0.52154857,\n",
              "  0.5228923,\n",
              "  0.52147746,\n",
              "  0.5178808,\n",
              "  0.5180499,\n",
              "  0.5221446,\n",
              "  0.51533186,\n",
              "  0.5141162,\n",
              "  0.51564896,\n",
              "  0.5152747,\n",
              "  0.517198,\n",
              "  0.5112177,\n",
              "  0.51220167,\n",
              "  0.5125233,\n",
              "  0.5200784,\n",
              "  0.5079639,\n",
              "  0.5083274,\n",
              "  0.5114731,\n",
              "  0.5145348,\n",
              "  0.5079946,\n",
              "  0.509936],\n",
              " [0.75108075,\n",
              "  0.8050252,\n",
              "  0.82761216,\n",
              "  0.8407992,\n",
              "  0.84963346,\n",
              "  0.8564404,\n",
              "  0.8623712,\n",
              "  0.86745524,\n",
              "  0.87179786,\n",
              "  0.87544084,\n",
              "  0.8785508,\n",
              "  0.8812394,\n",
              "  0.8835614,\n",
              "  0.88559365,\n",
              "  0.8873246,\n",
              "  0.8888147,\n",
              "  0.89009404,\n",
              "  0.8910887,\n",
              "  0.89203966,\n",
              "  0.8928466,\n",
              "  0.8934717,\n",
              "  0.89407545,\n",
              "  0.89456093,\n",
              "  0.89506865,\n",
              "  0.8955735,\n",
              "  0.89597845,\n",
              "  0.89633214,\n",
              "  0.8966449,\n",
              "  0.8969665,\n",
              "  0.89725995,\n",
              "  0.89754164,\n",
              "  0.89781857,\n",
              "  0.8980856,\n",
              "  0.8983519,\n",
              "  0.8986068,\n",
              "  0.8988402,\n",
              "  0.89907146,\n",
              "  0.89930713,\n",
              "  0.89953303,\n",
              "  0.8997535,\n",
              "  0.89996374,\n",
              "  0.9001834,\n",
              "  0.90039814,\n",
              "  0.9006145,\n",
              "  0.9008197,\n",
              "  0.9010273,\n",
              "  0.9012222,\n",
              "  0.90141416,\n",
              "  0.90161365,\n",
              "  0.90181166,\n",
              "  0.9019984,\n",
              "  0.90218866,\n",
              "  0.9023775,\n",
              "  0.9025562,\n",
              "  0.9027406,\n",
              "  0.90292335,\n",
              "  0.9031013,\n",
              "  0.9032775,\n",
              "  0.90345746,\n",
              "  0.9036332,\n",
              "  0.90381014,\n",
              "  0.9039849,\n",
              "  0.90415275,\n",
              "  0.90432686,\n",
              "  0.9045004,\n",
              "  0.9046761,\n",
              "  0.9048636,\n",
              "  0.9050423,\n",
              "  0.90522313,\n",
              "  0.9054047,\n",
              "  0.9055801,\n",
              "  0.905756,\n",
              "  0.90594435,\n",
              "  0.90612483,\n",
              "  0.9063128,\n",
              "  0.90649426,\n",
              "  0.9066806,\n",
              "  0.90687627,\n",
              "  0.9070566,\n",
              "  0.9072385,\n",
              "  0.9074285,\n",
              "  0.90761924,\n",
              "  0.90780926,\n",
              "  0.9080099,\n",
              "  0.90820634,\n",
              "  0.9083942,\n",
              "  0.9086021,\n",
              "  0.9088112,\n",
              "  0.90901697,\n",
              "  0.90921414,\n",
              "  0.90941036,\n",
              "  0.90962064,\n",
              "  0.9098323,\n",
              "  0.9100423,\n",
              "  0.91023314,\n",
              "  0.91044337,\n",
              "  0.9106535,\n",
              "  0.9108547,\n",
              "  0.9110598,\n",
              "  0.91127765],\n",
              " [0.8578537,\n",
              "  0.8919986,\n",
              "  0.9056988,\n",
              "  0.91354096,\n",
              "  0.9187317,\n",
              "  0.92269754,\n",
              "  0.92612743,\n",
              "  0.92904913,\n",
              "  0.9315326,\n",
              "  0.93360525,\n",
              "  0.93536913,\n",
              "  0.93689,\n",
              "  0.9382008,\n",
              "  0.9393435,\n",
              "  0.9403154,\n",
              "  0.941151,\n",
              "  0.9418669,\n",
              "  0.94242203,\n",
              "  0.9429527,\n",
              "  0.9434027,\n",
              "  0.94374985,\n",
              "  0.9440864,\n",
              "  0.9443561,\n",
              "  0.94463897,\n",
              "  0.9449195,\n",
              "  0.9451449,\n",
              "  0.94534105,\n",
              "  0.945514,\n",
              "  0.9456928,\n",
              "  0.9458557,\n",
              "  0.946012,\n",
              "  0.9461655,\n",
              "  0.94631284,\n",
              "  0.9464602,\n",
              "  0.94660217,\n",
              "  0.94673115,\n",
              "  0.94685966,\n",
              "  0.9469908,\n",
              "  0.9471161,\n",
              "  0.94723886,\n",
              "  0.9473564,\n",
              "  0.9474772,\n",
              "  0.9475952,\n",
              "  0.947715,\n",
              "  0.9478288,\n",
              "  0.94794416,\n",
              "  0.94805264,\n",
              "  0.94816005,\n",
              "  0.9482694,\n",
              "  0.9483784,\n",
              "  0.9484823,\n",
              "  0.94858736,\n",
              "  0.9486909,\n",
              "  0.94878983,\n",
              "  0.94889176,\n",
              "  0.948993,\n",
              "  0.9490915,\n",
              "  0.94918907,\n",
              "  0.9492889,\n",
              "  0.94938624,\n",
              "  0.94948405,\n",
              "  0.9495798,\n",
              "  0.9496715,\n",
              "  0.9497676,\n",
              "  0.9498634,\n",
              "  0.9499604,\n",
              "  0.9500638,\n",
              "  0.9501621,\n",
              "  0.9502614,\n",
              "  0.95036185,\n",
              "  0.95045805,\n",
              "  0.9505559,\n",
              "  0.95065874,\n",
              "  0.95075893,\n",
              "  0.950862,\n",
              "  0.95096266,\n",
              "  0.95106333,\n",
              "  0.9511705,\n",
              "  0.9512687,\n",
              "  0.9513696,\n",
              "  0.95147336,\n",
              "  0.9515783,\n",
              "  0.951683,\n",
              "  0.95179385,\n",
              "  0.95190144,\n",
              "  0.9520039,\n",
              "  0.9521183,\n",
              "  0.95223224,\n",
              "  0.95234436,\n",
              "  0.9524523,\n",
              "  0.95255977,\n",
              "  0.9526748,\n",
              "  0.9527902,\n",
              "  0.9529061,\n",
              "  0.9530107,\n",
              "  0.9531268,\n",
              "  0.95324194,\n",
              "  0.95335233,\n",
              "  0.9534639,\n",
              "  0.953583])"
            ]
          },
          "metadata": {
            "tags": []
          },
          "execution_count": 15
        }
      ]
    }
  ]
}