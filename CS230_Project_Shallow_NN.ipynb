{
  "nbformat": 4,
  "nbformat_minor": 0,
  "metadata": {
    "colab": {
      "name": "CS230-Project: Shallow NN",
      "version": "0.3.2",
      "views": {},
      "default_view": {},
      "provenance": [
        {
          "file_id": "1pjOCAxMh2BNB5dO3g_YMGEn0q1EBTaK9",
          "timestamp": 1520051833214
        }
      ],
      "collapsed_sections": []
    },
    "kernelspec": {
      "name": "python3",
      "display_name": "Python 3"
    },
    "accelerator": "GPU"
  },
  "cells": [
    {
      "metadata": {
        "id": "UQ5lIF_oKK0W",
        "colab_type": "text"
      },
      "cell_type": "markdown",
      "source": [
        "INTERFACE WITH GOOGLE DRIVE"
      ]
    },
    {
      "metadata": {
        "id": "GEhmpKCB3nj4",
        "colab_type": "code",
        "colab": {
          "autoexec": {
            "startup": false,
            "wait_interval": 0
          }
        }
      },
      "cell_type": "code",
      "source": [
        "# Install the PyDrive wrapper & import libraries.\n",
        "# This only needs to be done once per notebook.\n",
        "!pip install -U -q PyDrive\n",
        "from pydrive.auth import GoogleAuth\n",
        "from pydrive.drive import GoogleDrive\n",
        "from google.colab import auth\n",
        "from oauth2client.client import GoogleCredentials\n",
        "\n",
        "# Authenticate and create the PyDrive client.\n",
        "# This only needs to be done once per notebook.\n",
        "auth.authenticate_user()\n",
        "gauth = GoogleAuth()\n",
        "gauth.credentials = GoogleCredentials.get_application_default()\n",
        "drive = GoogleDrive(gauth)"
      ],
      "execution_count": 0,
      "outputs": []
    },
    {
      "metadata": {
        "id": "-ru7WsZf7Ooa",
        "colab_type": "code",
        "colab": {
          "autoexec": {
            "startup": false,
            "wait_interval": 0
          },
          "output_extras": [
            {
              "item_id": 1
            }
          ],
          "base_uri": "https://localhost:8080/",
          "height": 34
        },
        "outputId": "2573f0fc-7f17-413f-a1fc-256546884a2c",
        "executionInfo": {
          "status": "ok",
          "timestamp": 1521511602665,
          "user_tz": 420,
          "elapsed": 1064,
          "user": {
            "displayName": "Anne Alter",
            "photoUrl": "//lh6.googleusercontent.com/-atp70WgtuyI/AAAAAAAAAAI/AAAAAAAAABI/v-4wP6906nY/s50-c-k-no/photo.jpg",
            "userId": "100735354600515761315"
          }
        }
      },
      "cell_type": "code",
      "source": [
        "uploaded = drive.CreateFile({'test': 'Sample.txt'})\n",
        "uploaded.SetContentString('Sample upoad file content')\n",
        "uploaded.Upload()\n",
        "print('Uploaded file with ID {}'.format(uploaded.get('id')))\n",
        "\n",
        "#downloaded = drive.CreateFile({'id': uploaded.get('id')})\n",
        "#print('Downloaded content\"{}\"'.format(downloaded.GetContentString()))\n",
        "\n",
        "# List .txt files in the root.\n",
        "#\n",
        "# Search query reference:\n",
        "# https://developers.google.com/drive/v2/web/search-parameters\n",
        "# listed = drive.ListFile({'q': \"title contains '.txt' and 'root' in parents\"}).GetList()\n",
        "# for file in listed:\n",
        "#   print('title {}, id {}'.format(file['title'], file['id']))"
      ],
      "execution_count": 6,
      "outputs": [
        {
          "output_type": "stream",
          "text": [
            "Uploaded file with ID 1vn4eTBe3nt7csuauf5Kyy6VwKSPpEolJ\n"
          ],
          "name": "stdout"
        }
      ]
    },
    {
      "metadata": {
        "id": "el16BlG0eD1x",
        "colab_type": "text"
      },
      "cell_type": "markdown",
      "source": [
        "IMPORTS"
      ]
    },
    {
      "metadata": {
        "id": "WlKwbSfydeWu",
        "colab_type": "code",
        "colab": {
          "autoexec": {
            "startup": false,
            "wait_interval": 0
          }
        }
      },
      "cell_type": "code",
      "source": [
        "import math\n",
        "import numpy as np\n",
        "import h5py\n",
        "import matplotlib.pyplot as plt\n",
        "import scipy\n",
        "from PIL import Image\n",
        "from scipy import ndimage\n",
        "from scipy.misc import imsave\n",
        "import tensorflow as tf\n",
        "from tensorflow.python.framework import ops\n",
        "from datetime import datetime\n",
        "%matplotlib inline\n",
        "np.random.seed(1)"
      ],
      "execution_count": 0,
      "outputs": []
    },
    {
      "metadata": {
        "id": "kPAjhBt3YdaX",
        "colab_type": "text"
      },
      "cell_type": "markdown",
      "source": [
        "DATASET"
      ]
    },
    {
      "metadata": {
        "id": "L1y8A8M2Js_p",
        "colab_type": "code",
        "colab": {
          "autoexec": {
            "startup": false,
            "wait_interval": 0
          }
        }
      },
      "cell_type": "code",
      "source": [
        " def load_dataset():\n",
        "    from google.colab import files\n",
        "    uploaded = files.upload()\n",
        "\n",
        "    for name, data in uploaded.items():\n",
        "      with open(name, 'wb') as f:\n",
        "        f.write(data)\n",
        "        print ('saved file', name)\n",
        "\n",
        "    X_train = np.load('X_train.npy')\n",
        "    Y_train = np.load('Y_train.npy')\n",
        "    #X_dev   = np.load('X_dev.npy')\n",
        "    #Y_dev   = np.load('Y_dev.npy')\n",
        "    X_test  = np.load('X_test.npy')\n",
        "    Y_test  = np.load('Y_test.npy')\n",
        "\n",
        "    return X_train, Y_train, X_test, Y_test #, X_dev, Y_dev"
      ],
      "execution_count": 0,
      "outputs": []
    },
    {
      "metadata": {
        "id": "bbjTSl2PcZXl",
        "colab_type": "code",
        "colab": {
          "autoexec": {
            "startup": false,
            "wait_interval": 0
          },
          "output_extras": [
            {
              "item_id": 1
            },
            {
              "item_id": 8
            }
          ],
          "resources": {
            "http://localhost:8080/nbextensions/google.colab/files.js": {
              "data": "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",
              "ok": true,
              "headers": [
                [
                  "content-type",
                  "application/javascript"
                ]
              ],
              "status": 200,
              "status_text": ""
            }
          },
          "base_uri": "https://localhost:8080/",
          "height": 239
        },
        "outputId": "74473e6d-866e-4bc6-d8fe-dbce87d46aaa",
        "executionInfo": {
          "status": "ok",
          "timestamp": 1521566062338,
          "user_tz": 420,
          "elapsed": 1368342,
          "user": {
            "displayName": "Anne Alter",
            "photoUrl": "//lh6.googleusercontent.com/-atp70WgtuyI/AAAAAAAAAAI/AAAAAAAAABI/v-4wP6906nY/s50-c-k-no/photo.jpg",
            "userId": "100735354600515761315"
          }
        }
      },
      "cell_type": "code",
      "source": [
        "X_train, Y_train, X_test, Y_test = load_dataset() #X_dev, Y_dev"
      ],
      "execution_count": 6,
      "outputs": [
        {
          "output_type": "display_data",
          "data": {
            "text/html": [
              "\n",
              "     <input type=\"file\" id=\"files-5fa97bfc-611b-4297-b3b5-edd925af35d2\" name=\"files[]\" multiple disabled />\n",
              "     <output id=\"result-5fa97bfc-611b-4297-b3b5-edd925af35d2\">\n",
              "      Upload widget is only available when the cell has been executed in the\n",
              "      current browser session. Please rerun this cell to enable.\n",
              "      </output>\n",
              "      <script src=\"/nbextensions/google.colab/files.js\"></script> "
            ],
            "text/plain": [
              "<IPython.core.display.HTML object>"
            ]
          },
          "metadata": {
            "tags": []
          }
        },
        {
          "output_type": "stream",
          "text": [
            "Saving Y_train.npy to Y_train (2).npy\n",
            "Saving Y_test.npy to Y_test (2).npy\n",
            "Saving X_train.npy to X_train (2).npy\n",
            "Saving X_test.npy to X_test (1).npy\n",
            "saved file Y_train.npy\n",
            "saved file Y_test.npy\n",
            "saved file X_train.npy\n",
            "saved file X_test.npy\n"
          ],
          "name": "stdout"
        }
      ]
    },
    {
      "metadata": {
        "id": "7YbIHhhPjhZP",
        "colab_type": "code",
        "colab": {
          "autoexec": {
            "startup": false,
            "wait_interval": 0
          },
          "output_extras": [
            {
              "item_id": 1
            }
          ],
          "base_uri": "https://localhost:8080/",
          "height": 232
        },
        "outputId": "d11b487d-4839-4e65-932b-d1b4e9c46b1b",
        "executionInfo": {
          "status": "error",
          "timestamp": 1521564681613,
          "user_tz": 420,
          "elapsed": 274,
          "user": {
            "displayName": "Anne Alter",
            "photoUrl": "//lh6.googleusercontent.com/-atp70WgtuyI/AAAAAAAAAAI/AAAAAAAAABI/v-4wP6906nY/s50-c-k-no/photo.jpg",
            "userId": "100735354600515761315"
          }
        }
      },
      "cell_type": "code",
      "source": [
        "    X_train = np.load('X_train.npy')\n",
        "    Y_train = np.load('Y_train.npy')\n",
        "    #X_dev   = np.load('X_dev.npy')\n",
        "    #Y_dev   = np.load('Y_dev.npy')\n",
        "    X_test  = np.load('X_test.npy')\n",
        "    Y_test  = np.load('Y_test.npy')"
      ],
      "execution_count": 2,
      "outputs": [
        {
          "output_type": "error",
          "ename": "NameError",
          "evalue": "ignored",
          "traceback": [
            "\u001b[0;31m---------------------------------------------------------------------------\u001b[0m",
            "\u001b[0;31mNameError\u001b[0m                                 Traceback (most recent call last)",
            "\u001b[0;32m<ipython-input-2-93a82e6da763>\u001b[0m in \u001b[0;36m<module>\u001b[0;34m()\u001b[0m\n\u001b[0;32m----> 1\u001b[0;31m \u001b[0mX_train\u001b[0m \u001b[0;34m=\u001b[0m \u001b[0mnp\u001b[0m\u001b[0;34m.\u001b[0m\u001b[0mload\u001b[0m\u001b[0;34m(\u001b[0m\u001b[0;34m'X_train.npy'\u001b[0m\u001b[0;34m)\u001b[0m\u001b[0;34m\u001b[0m\u001b[0m\n\u001b[0m\u001b[1;32m      2\u001b[0m \u001b[0mY_train\u001b[0m \u001b[0;34m=\u001b[0m \u001b[0mnp\u001b[0m\u001b[0;34m.\u001b[0m\u001b[0mload\u001b[0m\u001b[0;34m(\u001b[0m\u001b[0;34m'Y_train.npy'\u001b[0m\u001b[0;34m)\u001b[0m\u001b[0;34m\u001b[0m\u001b[0m\n\u001b[1;32m      3\u001b[0m \u001b[0;31m#X_dev   = np.load('X_dev.npy')\u001b[0m\u001b[0;34m\u001b[0m\u001b[0;34m\u001b[0m\u001b[0m\n\u001b[1;32m      4\u001b[0m \u001b[0;31m#Y_dev   = np.load('Y_dev.npy')\u001b[0m\u001b[0;34m\u001b[0m\u001b[0;34m\u001b[0m\u001b[0m\n\u001b[1;32m      5\u001b[0m \u001b[0mX_test\u001b[0m  \u001b[0;34m=\u001b[0m \u001b[0mnp\u001b[0m\u001b[0;34m.\u001b[0m\u001b[0mload\u001b[0m\u001b[0;34m(\u001b[0m\u001b[0;34m'X_test.npy'\u001b[0m\u001b[0;34m)\u001b[0m\u001b[0;34m\u001b[0m\u001b[0m\n",
            "\u001b[0;31mNameError\u001b[0m: name 'np' is not defined"
          ]
        }
      ]
    },
    {
      "metadata": {
        "id": "0IdRee-7m0wx",
        "colab_type": "text"
      },
      "cell_type": "markdown",
      "source": [
        "PRINT OUT EXAMPLE IMAGE"
      ]
    },
    {
      "metadata": {
        "id": "Psf3I-8rmwKq",
        "colab_type": "code",
        "colab": {
          "autoexec": {
            "startup": false,
            "wait_interval": 0
          },
          "output_extras": [
            {
              "item_id": 1
            }
          ],
          "base_uri": "https://localhost:8080/",
          "height": 267
        },
        "outputId": "ad9441fc-7a17-43fd-9562-264b1e1ddee6",
        "executionInfo": {
          "status": "ok",
          "timestamp": 1521566142690,
          "user_tz": 420,
          "elapsed": 316,
          "user": {
            "displayName": "Anne Alter",
            "photoUrl": "//lh6.googleusercontent.com/-atp70WgtuyI/AAAAAAAAAAI/AAAAAAAAABI/v-4wP6906nY/s50-c-k-no/photo.jpg",
            "userId": "100735354600515761315"
          }
        }
      },
      "cell_type": "code",
      "source": [
        "index = 400\n",
        "example = Y_train[index,:,:]\n",
        "fig = plt.figure()\n",
        "plt.imshow(example, cmap=\"binary\")\n",
        "plt.grid(False)\n",
        "plt.show()"
      ],
      "execution_count": 7,
      "outputs": [
        {
          "output_type": "display_data",
          "data": {
            "image/png": "[encoded data removed]",
            "text/plain": [
              "<matplotlib.figure.Figure at 0x7f1e83473b00>"
            ]
          },
          "metadata": {
            "tags": []
          }
        }
      ]
    },
    {
      "metadata": {
        "id": "pH8rVAgOer9L",
        "colab_type": "text"
      },
      "cell_type": "markdown",
      "source": [
        "AUGMENT DATA"
      ]
    },
    {
      "metadata": {
        "id": "Vsr9uObQetUs",
        "colab_type": "code",
        "colab": {
          "autoexec": {
            "startup": false,
            "wait_interval": 0
          },
          "output_extras": [
            {
              "item_id": 1
            },
            {
              "item_id": 2
            },
            {
              "item_id": 3
            },
            {
              "item_id": 4
            },
            {
              "item_id": 5
            }
          ],
          "base_uri": "https://localhost:8080/",
          "height": 1267
        },
        "outputId": "ce446e5d-73dc-413a-8348-e4e77552ca71",
        "executionInfo": {
          "status": "ok",
          "timestamp": 1521567361248,
          "user_tz": 420,
          "elapsed": 1870,
          "user": {
            "displayName": "Anne Alter",
            "photoUrl": "//lh6.googleusercontent.com/-atp70WgtuyI/AAAAAAAAAAI/AAAAAAAAABI/v-4wP6906nY/s50-c-k-no/photo.jpg",
            "userId": "100735354600515761315"
          }
        }
      },
      "cell_type": "code",
      "source": [
        "index = 312\n",
        "\n",
        "example = X_train[index,:,:,0]\n",
        "fig = plt.figure()\n",
        "plt.imshow(example, cmap=\"binary\")\n",
        "plt.grid(False)\n",
        "plt.show()\n",
        "\n",
        "\n",
        "new_data_X_horiz = np.flip(X_train, axis = 2) # should be 1 and 2\n",
        "new_data_Y_horiz = np.flip(Y_train, axis = 2)\n",
        "\n",
        "new_data_X_vert = np.flip(X_train, axis = 1) # should be 1 and 2\n",
        "new_data_Y_vert = np.flip(Y_train, axis = 1)\n",
        "\n",
        "new_data_X_rotFor = np.rot90(X_train, k = 1, axes = (1,2)) # should be 1 and 2\n",
        "new_data_Y_rotFor = np.rot90(Y_train, k = 1, axes = (1,2))\n",
        "\n",
        "new_data_X_rotBack = np.rot90(X_train, k = 3, axes = (1,2)) # should be 1 and 2\n",
        "new_data_Y_rotBack = np.rot90(Y_train, k = 3, axes = (1,2))\n",
        "\n",
        "# CHECK\n",
        "example = new_data_Y_horiz[index,:,:]\n",
        "fig = plt.figure()\n",
        "plt.imshow(example, cmap=\"binary\")\n",
        "plt.grid(False)\n",
        "plt.show()\n",
        "example = new_data_Y_vert[index,:,:]\n",
        "fig = plt.figure()\n",
        "plt.imshow(example, cmap=\"binary\")\n",
        "plt.grid(False)\n",
        "plt.show()\n",
        "\n",
        "example = new_data_Y_rotFor[index,:,:]\n",
        "fig = plt.figure()\n",
        "plt.imshow(example, cmap=\"binary\")\n",
        "plt.grid(False)\n",
        "plt.show()\n",
        "\n",
        "example = new_data_Y_rotBack[index,:,:]\n",
        "fig = plt.figure()\n",
        "plt.imshow(example, cmap=\"binary\")\n",
        "plt.grid(False)\n",
        "plt.show()\n",
        "\n",
        "\n",
        "X_train= np.concatenate((X_train, new_data_X_horiz, new_data_X_vert, new_data_X_rotFor, new_data_X_rotBack), axis = 0)\n",
        "Y_train = np.concatenate((Y_train, new_data_Y_horiz, new_data_Y_vert, new_data_Y_rotFor, new_data_Y_rotBack), axis = 0)"
      ],
      "execution_count": 18,
      "outputs": [
        {
          "output_type": "display_data",
          "data": {
            "image/png": "[encoded data removed]",
            "text/plain": [
              "<matplotlib.figure.Figure at 0x7f1e72e8c860>"
            ]
          },
          "metadata": {
            "tags": []
          }
        },
        {
          "output_type": "display_data",
          "data": {
            "image/png": "[encoded data removed]",
            "text/plain": [
              "<matplotlib.figure.Figure at 0x7f1e72dfacf8>"
            ]
          },
          "metadata": {
            "tags": []
          }
        },
        {
          "output_type": "display_data",
          "data": {
            "image/png": "[encoded data removed]",
            "text/plain": [
              "<matplotlib.figure.Figure at 0x7f1e72d53e80>"
            ]
          },
          "metadata": {
            "tags": []
          }
        },
        {
          "output_type": "display_data",
          "data": {
            "image/png": "[encoded data removed]",
            "text/plain": [
              "<matplotlib.figure.Figure at 0x7f1e72d78630>"
            ]
          },
          "metadata": {
            "tags": []
          }
        },
        {
          "output_type": "display_data",
          "data": {
            "image/png": "[encoded data removed]",
            "text/plain": [
              "<matplotlib.figure.Figure at 0x7f1e72cdb940>"
            ]
          },
          "metadata": {
            "tags": []
          }
        }
      ]
    },
    {
      "metadata": {
        "id": "G3k-LJiHpHrk",
        "colab_type": "code",
        "colab": {
          "autoexec": {
            "startup": false,
            "wait_interval": 0
          },
          "output_extras": [
            {
              "item_id": 1
            }
          ],
          "base_uri": "https://localhost:8080/",
          "height": 119
        },
        "outputId": "9c540be6-d036-4f66-8cfe-38dc7cf15ed0",
        "executionInfo": {
          "status": "ok",
          "timestamp": 1521567372415,
          "user_tz": 420,
          "elapsed": 280,
          "user": {
            "displayName": "Anne Alter",
            "photoUrl": "//lh6.googleusercontent.com/-atp70WgtuyI/AAAAAAAAAAI/AAAAAAAAABI/v-4wP6906nY/s50-c-k-no/photo.jpg",
            "userId": "100735354600515761315"
          }
        }
      },
      "cell_type": "code",
      "source": [
        "print (\"number of training examples = \" + str(X_train.shape[0]))\n",
        "#print (\"number of dev examples = \" + str(X_dev.shape[0]))\n",
        "print (\"number of test examples = \" + str(X_test.shape[0]))\n",
        "print (\"X_train shape: \" + str(X_train.shape))\n",
        "print (\"Y_train shape: \" + str(Y_train.shape))\n",
        "#print (\"X_dev shape: \" + str(X_dev.shape))\n",
        "#print (\"Y_dev shape: \" + str(Y_dev.shape))\n",
        "print (\"X_test shape: \" + str(X_test.shape))\n",
        "print (\"Y_test shape: \" + str(Y_test.shape))\n",
        "conv_layers = {}"
      ],
      "execution_count": 19,
      "outputs": [
        {
          "output_type": "stream",
          "text": [
            "number of training examples = 40000\n",
            "number of test examples = 1000\n",
            "X_train shape: (40000, 40, 40, 2)\n",
            "Y_train shape: (40000, 40, 40)\n",
            "X_test shape: (1000, 40, 40, 2)\n",
            "Y_test shape: (1000, 40, 40)\n"
          ],
          "name": "stdout"
        }
      ]
    },
    {
      "metadata": {
        "id": "4Q614YlreBjo",
        "colab_type": "text"
      },
      "cell_type": "markdown",
      "source": [
        "FRAMEWORK FUNCTIONS"
      ]
    },
    {
      "metadata": {
        "id": "CdguVCM1duoN",
        "colab_type": "code",
        "colab": {
          "autoexec": {
            "startup": false,
            "wait_interval": 0
          }
        }
      },
      "cell_type": "code",
      "source": [
        "def create_placeholders(n_H0, n_W0, n_C0, n_y):\n",
        "    \"\"\"\n",
        "    Creates the placeholders for the tensorflow session.\n",
        "    \n",
        "    Arguments:\n",
        "    n_H0 -- scalar, height of an input image\n",
        "    n_W0 -- scalar, width of an input image\n",
        "    n_C0 -- scalar, number of channels of the input\n",
        "    n_y -- scalar, number of classes\n",
        "        \n",
        "    Returns:\n",
        "    X -- placeholder for the data input, of shape [None, n_H0, n_W0, n_C0] and dtype \"float\"\n",
        "    Y -- placeholder for the input labels, of shape [None, n_y] and dtype \"float\"\n",
        "    \"\"\"\n",
        "\n",
        "    ### START CODE HERE ### (≈2 lines)\n",
        "    X = tf.placeholder(tf.float32, shape = [None, n_H0, n_W0, n_C0], name = 'X')\n",
        "    Y = tf.placeholder(tf.float32, shape = [None, n_y], name = 'Y')\n",
        "    ### END CODE HERE ###\n",
        "    \n",
        "    return X, Y\n",
        "\n",
        "def initialize_parameters():\n",
        "    \"\"\"\n",
        "    Initializes weight parameters to build a neural network with tensorflow. The shapes are:\n",
        "                        W1 : [4, 4, 3, 16]\n",
        "                        W2 : [2, 2, 16, ]\n",
        "    Returns:\n",
        "    parameters -- a dictionary of tensors containing W1, W2\n",
        "    \"\"\"\n",
        "    \n",
        "    tf.set_random_seed(1)                              # so that your \"random\" numbers match ours\n",
        "    \n",
        "    f1 = 16\n",
        "    f2 = 32\n",
        "    f3 = 64\n",
        "    n_c = 2\n",
        "    \n",
        "    W1 = tf.get_variable(\"W1\", [3,3,n_c,f1], initializer = tf.contrib.layers.xavier_initializer(seed = 0))\n",
        "    W2 = tf.get_variable(\"W2\", [3,3,f1,f1], initializer = tf.contrib.layers.xavier_initializer(seed = 0))\n",
        "\n",
        "    parameters = {\"W1\": W1, \"W2\": W2}\n",
        "    \n",
        "    return parameters\n",
        "\n",
        "def random_mini_batches(X, Y, mini_batch_size = 64, seed = 0):\n",
        "    \"\"\"\n",
        "    Creates a list of random minibatches from (X, Y)\n",
        "    Arguments:\n",
        "      X -- input data, of shape (number of examples, image_x, image_y)\n",
        "      Y -- true \"label\" vector, of shape (number of examples,1)\n",
        "    Returns:\n",
        "      mini_batches -- list of synchronous (mini_batch_X, mini_batch_Y) \"\"\"\n",
        "    \n",
        "    # INITIALIZATION\n",
        "    np.random.seed(seed)\n",
        "    m = X.shape[0]\n",
        "    mini_batches = []\n",
        "\n",
        "    # Step 1: Shuffle (X, Y)\n",
        "    permutation = list(np.random.permutation(m))\n",
        "    shuffled_X = X[permutation,:,:,:]                     # [m,40,40]\n",
        "    shuffled_Y = Y[permutation,:,:].reshape((m,40*40))  # [m,40*40]\n",
        "\n",
        "    # Step 2: Partition (shuffled_X, shuffled_Y). Minus the end case.\n",
        "    num_complete_minibatches = math.floor(m/mini_batch_size) \n",
        "    \n",
        "    # number of mini batches of size mini_batch_size in your partitioning \n",
        "    for k in range(0, num_complete_minibatches):\n",
        "      mini_batch_X = shuffled_X[k*mini_batch_size:(k+1)*mini_batch_size,:,:] #[64,40,40]\n",
        "      mini_batch_X = mini_batch_X.reshape((mini_batch_size, shuffled_X.shape[1], shuffled_X.shape[2], shuffled_X.shape[3]))\n",
        "      \n",
        "      mini_batch_Y = shuffled_Y[k*mini_batch_size:(k+1)*mini_batch_size,:]  #[m,1600]\n",
        "\n",
        "      mini_batch = (mini_batch_X, mini_batch_Y)\n",
        "      mini_batches.append(mini_batch)\n",
        "\n",
        "    # Handling the end case (last mini-batch < mini_batch_size)\n",
        "    if m % mini_batch_size != 0:\n",
        "      mini_batch_X = shuffled_X[num_complete_minibatches*mini_batch_size:m,:,:] \n",
        "      mini_batch_X = mini_batch_X.reshape(((m-mini_batch_size*(m%mini_batch_size)), shuffled_X.shape[1], shuffled_X.shape[2], shuffled_X.shape[3]))\n",
        "      \n",
        "      mini_batch_Y = shuffled_Y[num_complete_minibatches*mini_batch_size:m,:]\n",
        "      \n",
        "      mini_batch = (mini_batch_X, mini_batch_Y)\n",
        "      mini_batches.append(mini_batch)\n",
        "    \n",
        "    return mini_batches\n",
        "\n",
        "def forward_propagation(X, parameters, phase):\n",
        "    \"\"\"\n",
        "    Implements the forward propagation for the model:\n",
        "    CONV2D -> RELU -> MAXPOOL -> CONV2D -> RELU -> MAXPOOL -> FLATTEN -> FULLYCONNECTED\n",
        "    \n",
        "    Arguments:\n",
        "    X -- input dataset placeholder, of shape (input size, number of examples)\n",
        "    parameters -- python dictionary containing your parameters \"W1\", \"W2\"\n",
        "                  the shapes are given in initialize_parameters\n",
        "\n",
        "    Returns:\n",
        "    Z3 -- the output of the last LINEAR unit\n",
        "    \"\"\"\n",
        "    \n",
        "    # Retrieve the parameters from the dictionary \"parameters\" \n",
        "    W1 = parameters['W1']\n",
        "    W2 = parameters['W2']\n",
        "    \n",
        "    keep_probability = 1\n",
        "    bn = False\n",
        "\n",
        "    # CONV2D: stride of 1, padding 'SAME'\n",
        "    Z1 = tf.nn.conv2d(X, W1, strides = [1,1,1,1], padding = 'SAME')\n",
        "    # BATCH NORMALIZATION\n",
        "    if bn == True:\n",
        "        B1 = tf.contrib.layers.batch_norm(Z1, center = True, scale = True, is_training = phase)\n",
        "        Z1 = B1\n",
        "    # RELU\n",
        "    A1 = tf.nn.relu(Z1)\n",
        "    # MAXPOOL: window 8x8, sride 8, padding 'SAME'\n",
        "    P1 = tf.nn.max_pool(A1, ksize = [1,2,2,1], strides = [1,2,2,1], padding = 'SAME')\n",
        "    \n",
        "    # DROPOUT\n",
        "    D1 = tf.nn.dropout(P1, keep_prob = keep_probability)\n",
        "    \n",
        "    # CONV2D: filters W2, stride 1, padding 'SAME'\n",
        "    Z2 = tf.nn.conv2d(D1,W2, strides = [1,1,1,1], padding = 'SAME')\n",
        "    # BATCH NORMALIZATION\n",
        "    if bn == True:\n",
        "        B2 = tf.contrib.layers.batch_norm(Z2, center = True, scale = True, is_training = phase)\n",
        "        Z2 = B2\n",
        "    # RELU\n",
        "    A2 = tf.nn.relu(Z2)\n",
        "    # MAXPOOL: window 4x4, stride 4, padding 'SAME'\n",
        "    P2 = tf.nn.max_pool(A2, ksize = [1,2,2,1], strides = [1,2,2,1], padding = 'SAME')\n",
        "    \n",
        "    # FLATTEN\n",
        "    #Z3 = tf.nn.conv2d(A2, W3, strides = [1,1,1,1], padding = 'SAME')\n",
        "    F3 = tf.contrib.layers.flatten(P2)\n",
        "    Z3 = tf.contrib.layers.fully_connected(F3, num_outputs = 40*40, activation_fn = None)\n",
        "    \n",
        "    return Z3\n",
        "\n",
        "def compute_cost(Z, Y):\n",
        "    \"\"\"\n",
        "    Computes the cost\n",
        "\n",
        "    Arguments:\n",
        "    Z -- output of forward propagation (output of the last LINEAR unit), of shape (40*40, number of examples)\n",
        "    Y -- \"true\" labels vector placeholder, same shape as Z3\n",
        "\n",
        "    Returns:\n",
        "    cost - Tensor of the cost function\n",
        "    \"\"\"\n",
        "\n",
        "    my_logits=tf.reshape(Z, (-1,1))\n",
        "    my_labels=tf.reshape(Y, (-1,1))\n",
        "    binary_labels = tf.nn.sigmoid(my_logits) > 0.5\n",
        "    cost = tf.reduce_mean(tf.nn.sigmoid_cross_entropy_with_logits(logits=my_logits, labels=my_labels))\n",
        "    mean_IOU = tf.metrics.mean_iou(labels = my_labels, predictions = binary_labels, num_classes = 2)\n",
        "    accuracy = tf.metrics.accuracy(labels = my_labels, predictions = binary_labels)\n",
        "    \n",
        "    return cost, mean_IOU, accuracy\n"
      ],
      "execution_count": 0,
      "outputs": []
    },
    {
      "metadata": {
        "id": "3aBa5HyDzIIO",
        "colab_type": "code",
        "colab": {
          "autoexec": {
            "startup": false,
            "wait_interval": 0
          }
        }
      },
      "cell_type": "code",
      "source": [
        "def print_topology(data):\n",
        "    \"\"\"\n",
        "    Arguments:\n",
        "      data -- image of size (40,40,1)\n",
        "    Returns:\n",
        "      nothing\n",
        "    \"\"\"\n",
        "    fig = plt.figure()\n",
        "    plt.imshow(data[:,:,0], cmap=\"binary\")\n",
        "    plt.grid(False)\n",
        "    plt.show()\n",
        "    return\n",
        "  "
      ],
      "execution_count": 0,
      "outputs": []
    },
    {
      "metadata": {
        "id": "Yc2vdpw_J3-M",
        "colab_type": "text"
      },
      "cell_type": "markdown",
      "source": [
        "RUN MODEL"
      ]
    },
    {
      "metadata": {
        "id": "APiVmdCKJTlR",
        "colab_type": "code",
        "colab": {
          "autoexec": {
            "startup": false,
            "wait_interval": 0
          }
        }
      },
      "cell_type": "code",
      "source": [
        "def model(X_train, Y_train, X_test, Y_test, learning_rate = 0.001,\n",
        "          num_epochs = 100, minibatch_size = 64, print_cost = True):\n",
        "    \"\"\"\n",
        "    Implements a three-layer ConvNet in Tensorflow:\n",
        "    CONV2D -> RELU -> MAXPOOL -> CONV2D -> RELU -> MAXPOOL -> FLATTEN -> FULLYCONNECTED\n",
        "    \n",
        "    Arguments:\n",
        "    X_train -- training set, of shape (None, 40, 40, 1)\n",
        "    Y_train -- test set, of shape (None, n_y)\n",
        "    X_test -- training set, of shape (None, 40, 40, 1)\n",
        "    Y_test -- test set, of shape (None, n_y)\n",
        "    learning_rate -- learning rate of the optimization\n",
        "    num_epochs -- number of epochs of the optimization loop\n",
        "    minibatch_size -- size of a minibatch\n",
        "    print_cost -- True to print the cost every 100 epochs\n",
        "    \n",
        "    Returns:\n",
        "    train_accuracy -- real number, accuracy on the train set (X_train)\n",
        "    test_accuracy -- real number, testing accuracy on the test set (X_test)\n",
        "    parameters -- parameters learnt by the model. They can then be used to predict.\n",
        "    \"\"\"\n",
        "    \n",
        "    ops.reset_default_graph()                         # to be able to rerun the model without overwriting tf variables\n",
        "    tf.set_random_seed(1)                             # to keep results consistent (tensorflow seed)\n",
        "    seed = 3                                          # to keep results consistent (numpy seed)\n",
        "    \n",
        "    (m, n_H0, n_W0, n_C0) = X_train.shape\n",
        "    n_y = Y_train.shape[1]*Y_train.shape[2]  \n",
        "    \n",
        "    costs = []\n",
        "    costs_dev = []\n",
        "    IOU = []\n",
        "    IOU_dev = []\n",
        "    acc = []\n",
        "    acc_dev = []\n",
        "    \n",
        "    number = 27\n",
        "    \n",
        "    # TEMPORARY CODE\n",
        "    X_dev = X_test\n",
        "    #X_dev = X_dev.reshape((X_dev.shape[0], X_dev.shape[1], X_dev.shape[2],2))\n",
        "\n",
        "    Y_dev = Y_test\n",
        "    \n",
        "    # RESHAPE INPUTS\n",
        "    Y_dev = Y_dev.reshape((Y_dev.shape[0], Y_dev.shape[1]*Y_dev.shape[2]))\n",
        "\n",
        "    # PLACEHOLDERS\n",
        "    X, Y = create_placeholders(n_H0, n_W0, n_C0, n_y)\n",
        "    phase = tf.placeholder(tf.bool)\n",
        "\n",
        "    # INITIALIZE PARAMETERS\n",
        "    parameters = initialize_parameters()\n",
        "    \n",
        "    # FORWARD PROPAGATION\n",
        "    Z = forward_propagation(X, parameters, phase)\n",
        "    \n",
        "    # COST FUNCTION\n",
        "    cost, mean_IOU, accuracy = compute_cost(Z, Y) \n",
        "    \n",
        "    # BACKPROPAGATION\n",
        "    optimizer = tf.train.AdamOptimizer(learning_rate = learning_rate).minimize(cost)\n",
        "    \n",
        "    # INITIALIZE ALL VARIABLES GLOBALLY AND LOCALLY\n",
        "    init = tf.global_variables_initializer()\n",
        "    init_local = tf.local_variables_initializer()\n",
        "    \n",
        "    # ENCODE IMAGE\n",
        "    image = tf.reshape(tf.image.convert_image_dtype(Z[number,:], tf.int64), [40, 40,1])\n",
        "    \n",
        " \n",
        "    # START TENSORFLOW SESSION\n",
        "    with tf.Session() as sess:\n",
        "        \n",
        "        # RUN INITIALIZATION\n",
        "        sess.run(init)\n",
        "        sess.run(init_local)\n",
        "        \n",
        "        # TRAINING LOOP\n",
        "        for epoch in range(num_epochs):\n",
        "            print(epoch)\n",
        "            \n",
        "            minibatch_cost = 0.\n",
        "            minibatch_IOU = 0.\n",
        "            minibatch_acc = 0.\n",
        "            \n",
        "            num_minibatches = int(m / minibatch_size)\n",
        "            \n",
        "            seed = seed + 1\n",
        "            minibatches = random_mini_batches(X_train, Y_train, minibatch_size, seed)\n",
        "            \n",
        "            # MINIBATCH LOOP\n",
        "            for minibatch in minibatches:\n",
        "                (minibatch_X, minibatch_Y) = minibatch\n",
        "\n",
        "                _ , temp_cost, image_enc, IOU_current, accuracy_current = sess.run([optimizer, cost, image, mean_IOU, accuracy], feed_dict = {X: minibatch_X, Y: minibatch_Y, phase: True})\n",
        "\n",
        "                minibatch_cost += temp_cost / num_minibatches\n",
        "                minibatch_IOU += IOU_current[0] / num_minibatches\n",
        "                minibatch_acc += accuracy_current[0]/ num_minibatches\n",
        "            \n",
        "            # CALCULATE DEV SET COST + IOU EACH EPOCH\n",
        "            temp_cost_dev, temp_IOU_dev, temp_acc_dev, image_enc_test = sess.run([cost, mean_IOU, accuracy, image], feed_dict = {X:X_dev, Y:Y_dev, phase: False})\n",
        "            \n",
        "            # PRINT COST EVERY 5 EPOCHS\n",
        "            if print_cost == True and epoch == 0:\n",
        "                print_topology(X_dev[number,:,:,:])\n",
        "                print_topology(np.reshape(Y_dev[number,:], (40, 40,1)))\n",
        "            \n",
        "            if print_cost == True and epoch % 5 == 0:\n",
        "                print_topology(image_enc_test)\n",
        "                print (\"TRAIN COST @ EPOCH %i: %f\" % (epoch, minibatch_cost))\n",
        "                print (\"TRAIN IOU  @ EPOCH %i: %f\" % (epoch, minibatch_IOU))\n",
        "                print (\"TRAIN ACC  @ EPOCH %i: %f\" % (epoch, minibatch_acc))\n",
        "                print (\"TEST  COST @ EPOCH %i: %f\" % (epoch, temp_cost_dev))\n",
        "                print (\"TEST  IOU  @ EPOCH %i: %f\" % (epoch, temp_IOU_dev[0]))\n",
        "                print (\"TEST  ACC  @ EPOCH %i: %f\" % (epoch, temp_acc_dev[0]))\n",
        "            if print_cost == True and epoch % 1 == 0:\n",
        "                costs.append(minibatch_cost)\n",
        "                costs_dev.append(temp_cost_dev)\n",
        "                IOU.append(minibatch_IOU)\n",
        "                IOU_dev.append(temp_IOU_dev[0])\n",
        "                acc.append(minibatch_acc)\n",
        "                acc_dev.append(temp_acc_dev[0])\n",
        "        \n",
        "        # PLOT COST AND IOU\n",
        "        plt.plot(np.squeeze(costs), 'b', np.squeeze(costs_dev), 'g')\n",
        "        plt.ylabel('COST')\n",
        "        plt.xlabel('iterations (per tens)')\n",
        "        plt.title(\"COST (Learning rate =\" + str(learning_rate) + \")\")\n",
        "        plt.show()\n",
        "        \n",
        "        plt.plot(np.squeeze(IOU), 'b', np.squeeze(IOU_dev), 'g')\n",
        "        plt.ylabel('IOU')\n",
        "        plt.xlabel('iterations (per tens)')\n",
        "        plt.title(\"IOU\")\n",
        "        plt.show()\n",
        "        \n",
        "        plt.plot(np.squeeze(acc), 'b', np.squeeze(acc_dev), 'g')\n",
        "        plt.ylabel('ACC')\n",
        "        plt.xlabel('iterations (per tens)')\n",
        "        plt.title(\"ACC\")\n",
        "        plt.show()\n",
        "        \n",
        "#         # PLOT DEV COST AND IOU\n",
        "#         plt.plot(np.squeeze(costs_dev))\n",
        "#         plt.ylabel('COST')\n",
        "#         plt.xlabel('iterations (per tens)')\n",
        "#         plt.title(\"COST (DEV SET) (Learning rate =\" + str(learning_rate) + \")\")\n",
        "#         plt.show()\n",
        "        \n",
        "#         plt.plot(np.squeeze(IOU_dev))\n",
        "#         plt.ylabel('IOU')\n",
        "#         plt.xlabel('iterations (per tens)')\n",
        "#         plt.title(\"IOU (DEV SET):\")\n",
        "#         plt.show()\n",
        "           \n",
        "        return parameters, costs, IOU, acc, costs_dev, IOU_dev, acc_dev"
      ],
      "execution_count": 0,
      "outputs": []
    },
    {
      "metadata": {
        "id": "uKo5cgeqFssp",
        "colab_type": "code",
        "colab": {
          "autoexec": {
            "startup": false,
            "wait_interval": 0
          },
          "output_extras": [
            {
              "item_id": 1
            },
            {
              "item_id": 2
            },
            {
              "item_id": 3
            },
            {
              "item_id": 4
            },
            {
              "item_id": 9
            },
            {
              "item_id": 10
            },
            {
              "item_id": 15
            },
            {
              "item_id": 16
            },
            {
              "item_id": 21
            },
            {
              "item_id": 22
            },
            {
              "item_id": 27
            },
            {
              "item_id": 28
            },
            {
              "item_id": 33
            },
            {
              "item_id": 34
            },
            {
              "item_id": 39
            },
            {
              "item_id": 40
            },
            {
              "item_id": 45
            },
            {
              "item_id": 46
            },
            {
              "item_id": 51
            },
            {
              "item_id": 52
            },
            {
              "item_id": 57
            },
            {
              "item_id": 58
            },
            {
              "item_id": 63
            },
            {
              "item_id": 64
            },
            {
              "item_id": 69
            },
            {
              "item_id": 70
            },
            {
              "item_id": 75
            },
            {
              "item_id": 76
            },
            {
              "item_id": 81
            },
            {
              "item_id": 82
            },
            {
              "item_id": 87
            },
            {
              "item_id": 88
            },
            {
              "item_id": 93
            },
            {
              "item_id": 94
            },
            {
              "item_id": 99
            },
            {
              "item_id": 100
            },
            {
              "item_id": 105
            },
            {
              "item_id": 106
            },
            {
              "item_id": 111
            },
            {
              "item_id": 112
            },
            {
              "item_id": 117
            },
            {
              "item_id": 118
            },
            {
              "item_id": 122
            },
            {
              "item_id": 123
            },
            {
              "item_id": 124
            },
            {
              "item_id": 125
            },
            {
              "item_id": 126
            }
          ],
          "base_uri": "https://localhost:8080/",
          "height": 20322
        },
        "outputId": "d0b7926d-4067-4427-d323-12a1f47f489c",
        "executionInfo": {
          "status": "ok",
          "timestamp": 1521571005260,
          "user_tz": 420,
          "elapsed": 661091,
          "user": {
            "displayName": "Anne Alter",
            "photoUrl": "//lh6.googleusercontent.com/-atp70WgtuyI/AAAAAAAAAAI/AAAAAAAAABI/v-4wP6906nY/s50-c-k-no/photo.jpg",
            "userId": "100735354600515761315"
          }
        }
      },
      "cell_type": "code",
      "source": [
        "model(X_train, Y_train, X_test, Y_test, learning_rate = 0.0001, num_epochs = 100, minibatch_size = 64, print_cost = True)"
      ],
      "execution_count": 32,
      "outputs": [
        {
          "output_type": "stream",
          "text": [
            "0\n"
          ],
          "name": "stdout"
        },
        {
          "output_type": "display_data",
          "data": {
            "image/png": "[encoded data removed]",
            "text/plain": [
              "<matplotlib.figure.Figure at 0x7f1e7248eeb8>"
            ]
          },
          "metadata": {
            "tags": []
          }
        },
        {
          "output_type": "display_data",
          "data": {
            "image/png": "[encoded data removed]",
            "text/plain": [
              "<matplotlib.figure.Figure at 0x7f1e72909f98>"
            ]
          },
          "metadata": {
            "tags": []
          }
        },
        {
          "output_type": "display_data",
          "data": {
            "image/png": "[encoded data removed]",
            "text/plain": [
              "<matplotlib.figure.Figure at 0x7f1e7229beb8>"
            ]
          },
          "metadata": {
            "tags": []
          }
        },
        {
          "output_type": "stream",
          "text": [
            "TRAIN COST @ EPOCH 0: 0.394048\n",
            "TRAIN IOU  @ EPOCH 0: 0.584013\n",
            "TRAIN ACC  @ EPOCH 0: 0.732680\n",
            "TEST  COST @ EPOCH 0: 0.261793\n",
            "TEST  IOU  @ EPOCH 0: 0.691671\n",
            "TEST  ACC  @ EPOCH 0: 0.817802\n",
            "1\n",
            "2\n",
            "3\n",
            "4\n",
            "5\n"
          ],
          "name": "stdout"
        },
        {
          "output_type": "display_data",
          "data": {
            "image/png": "[encoded data removed]",
            "text/plain": [
              "<matplotlib.figure.Figure at 0x7f1e72373208>"
            ]
          },
          "metadata": {
            "tags": []
          }
        },
        {
          "output_type": "stream",
          "text": [
            "TRAIN COST @ EPOCH 5: 0.175914\n",
            "TRAIN IOU  @ EPOCH 5: 0.818678\n",
            "TRAIN ACC  @ EPOCH 5: 0.900298\n",
            "TEST  COST @ EPOCH 5: 0.170235\n",
            "TEST  IOU  @ EPOCH 5: 0.822534\n",
            "TEST  ACC  @ EPOCH 5: 0.902626\n",
            "6\n",
            "7\n",
            "8\n",
            "9\n",
            "10\n"
          ],
          "name": "stdout"
        },
        {
          "output_type": "display_data",
          "data": {
            "image/png": "[encoded data removed]",
            "text/plain": [
              "<matplotlib.figure.Figure at 0x7f1e720314a8>"
            ]
          },
          "metadata": {
            "tags": []
          }
        },
        {
          "output_type": "stream",
          "text": [
            "TRAIN COST @ EPOCH 10: 0.160809\n",
            "TRAIN IOU  @ EPOCH 10: 0.843851\n",
            "TRAIN ACC  @ EPOCH 10: 0.915315\n",
            "TEST  COST @ EPOCH 10: 0.157352\n",
            "TEST  IOU  @ EPOCH 10: 0.845335\n",
            "TEST  ACC  @ EPOCH 10: 0.916187\n",
            "11\n",
            "12\n",
            "13\n",
            "14\n",
            "15\n"
          ],
          "name": "stdout"
        },
        {
          "output_type": "display_data",
          "data": {
            "image/png": "[encoded data removed]",
            "text/plain": [
              "<matplotlib.figure.Figure at 0x7f1e72289358>"
            ]
          },
          "metadata": {
            "tags": []
          }
        },
        {
          "output_type": "stream",
          "text": [
            "TRAIN COST @ EPOCH 15: 0.153171\n",
            "TRAIN IOU  @ EPOCH 15: 0.855468\n",
            "TRAIN ACC  @ EPOCH 15: 0.922107\n",
            "TEST  COST @ EPOCH 15: 0.150642\n",
            "TEST  IOU  @ EPOCH 15: 0.856298\n",
            "TEST  ACC  @ EPOCH 15: 0.922590\n",
            "16\n",
            "17\n",
            "18\n",
            "19\n",
            "20\n"
          ],
          "name": "stdout"
        },
        {
          "output_type": "display_data",
          "data": {
            "image/png": "[encoded data removed]",
            "text/plain": [
              "<matplotlib.figure.Figure at 0x7f1e71f64b38>"
            ]
          },
          "metadata": {
            "tags": []
          }
        },
        {
          "output_type": "stream",
          "text": [
            "TRAIN COST @ EPOCH 20: 0.148042\n",
            "TRAIN IOU  @ EPOCH 20: 0.862567\n",
            "TRAIN ACC  @ EPOCH 20: 0.926216\n",
            "TEST  COST @ EPOCH 20: 0.146199\n",
            "TEST  IOU  @ EPOCH 20: 0.863126\n",
            "TEST  ACC  @ EPOCH 20: 0.926538\n",
            "21\n",
            "22\n",
            "23\n",
            "24\n",
            "25\n"
          ],
          "name": "stdout"
        },
        {
          "output_type": "display_data",
          "data": {
            "image/png": "[encoded data removed]",
            "text/plain": [
              "<matplotlib.figure.Figure at 0x7f1e71f5c3c8>"
            ]
          },
          "metadata": {
            "tags": []
          }
        },
        {
          "output_type": "stream",
          "text": [
            "TRAIN COST @ EPOCH 25: 0.144099\n",
            "TRAIN IOU  @ EPOCH 25: 0.867541\n",
            "TRAIN ACC  @ EPOCH 25: 0.929076\n",
            "TEST  COST @ EPOCH 25: 0.142961\n",
            "TEST  IOU  @ EPOCH 25: 0.867957\n",
            "TEST  ACC  @ EPOCH 25: 0.929315\n",
            "26\n",
            "27\n",
            "28\n",
            "29\n",
            "30\n"
          ],
          "name": "stdout"
        },
        {
          "output_type": "display_data",
          "data": {
            "image/png": "[encoded data removed]",
            "text/plain": [
              "<matplotlib.figure.Figure at 0x7f1e71ee0550>"
            ]
          },
          "metadata": {
            "tags": []
          }
        },
        {
          "output_type": "stream",
          "text": [
            "TRAIN COST @ EPOCH 30: 0.140847\n",
            "TRAIN IOU  @ EPOCH 30: 0.871327\n",
            "TRAIN ACC  @ EPOCH 30: 0.931246\n",
            "TEST  COST @ EPOCH 30: 0.140864\n",
            "TEST  IOU  @ EPOCH 30: 0.871647\n",
            "TEST  ACC  @ EPOCH 30: 0.931429\n",
            "31\n",
            "32\n",
            "33\n",
            "34\n",
            "35\n"
          ],
          "name": "stdout"
        },
        {
          "output_type": "display_data",
          "data": {
            "image/png": "[encoded data removed]",
            "text/plain": [
              "<matplotlib.figure.Figure at 0x7f1e71f1f828>"
            ]
          },
          "metadata": {
            "tags": []
          }
        },
        {
          "output_type": "stream",
          "text": [
            "TRAIN COST @ EPOCH 35: 0.137999\n",
            "TRAIN IOU  @ EPOCH 35: 0.874348\n",
            "TRAIN ACC  @ EPOCH 35: 0.932968\n",
            "TEST  COST @ EPOCH 35: 0.138385\n",
            "TEST  IOU  @ EPOCH 35: 0.874614\n",
            "TEST  ACC  @ EPOCH 35: 0.933120\n",
            "36\n",
            "37\n",
            "38\n",
            "39\n",
            "40\n"
          ],
          "name": "stdout"
        },
        {
          "output_type": "display_data",
          "data": {
            "image/png": "[encoded data removed]",
            "text/plain": [
              "<matplotlib.figure.Figure at 0x7f1e71e5bef0>"
            ]
          },
          "metadata": {
            "tags": []
          }
        },
        {
          "output_type": "stream",
          "text": [
            "TRAIN COST @ EPOCH 40: 0.135484\n",
            "TRAIN IOU  @ EPOCH 40: 0.876863\n",
            "TRAIN ACC  @ EPOCH 40: 0.934399\n",
            "TEST  COST @ EPOCH 40: 0.136772\n",
            "TEST  IOU  @ EPOCH 40: 0.877090\n",
            "TEST  ACC  @ EPOCH 40: 0.934529\n",
            "41\n",
            "42\n",
            "43\n",
            "44\n",
            "45\n"
          ],
          "name": "stdout"
        },
        {
          "output_type": "display_data",
          "data": {
            "image/png": "[encoded data removed]",
            "text/plain": [
              "<matplotlib.figure.Figure at 0x7f1e71ec26a0>"
            ]
          },
          "metadata": {
            "tags": []
          }
        },
        {
          "output_type": "stream",
          "text": [
            "TRAIN COST @ EPOCH 45: 0.133034\n",
            "TRAIN IOU  @ EPOCH 45: 0.879016\n",
            "TRAIN ACC  @ EPOCH 45: 0.935622\n",
            "TEST  COST @ EPOCH 45: 0.135072\n",
            "TEST  IOU  @ EPOCH 45: 0.879212\n",
            "TEST  ACC  @ EPOCH 45: 0.935732\n",
            "46\n",
            "47\n",
            "48\n",
            "49\n",
            "50\n"
          ],
          "name": "stdout"
        },
        {
          "output_type": "display_data",
          "data": {
            "image/png": "[encoded data removed]",
            "text/plain": [
              "<matplotlib.figure.Figure at 0x7f1e71d98400>"
            ]
          },
          "metadata": {
            "tags": []
          }
        },
        {
          "output_type": "stream",
          "text": [
            "TRAIN COST @ EPOCH 50: 0.130723\n",
            "TRAIN IOU  @ EPOCH 50: 0.880910\n",
            "TRAIN ACC  @ EPOCH 50: 0.936694\n",
            "TEST  COST @ EPOCH 50: 0.133121\n",
            "TEST  IOU  @ EPOCH 50: 0.881082\n",
            "TEST  ACC  @ EPOCH 50: 0.936791\n",
            "51\n",
            "52\n",
            "53\n",
            "54\n",
            "55\n"
          ],
          "name": "stdout"
        },
        {
          "output_type": "display_data",
          "data": {
            "image/png": "[encoded data removed]",
            "text/plain": [
              "<matplotlib.figure.Figure at 0x7f1e71e659b0>"
            ]
          },
          "metadata": {
            "tags": []
          }
        },
        {
          "output_type": "stream",
          "text": [
            "TRAIN COST @ EPOCH 55: 0.128586\n",
            "TRAIN IOU  @ EPOCH 55: 0.882599\n",
            "TRAIN ACC  @ EPOCH 55: 0.937649\n",
            "TEST  COST @ EPOCH 55: 0.131899\n",
            "TEST  IOU  @ EPOCH 55: 0.882755\n",
            "TEST  ACC  @ EPOCH 55: 0.937737\n",
            "56\n",
            "57\n",
            "58\n",
            "59\n",
            "60\n"
          ],
          "name": "stdout"
        },
        {
          "output_type": "display_data",
          "data": {
            "image/png": "[encoded data removed]",
            "text/plain": [
              "<matplotlib.figure.Figure at 0x7f1e71cbd588>"
            ]
          },
          "metadata": {
            "tags": []
          }
        },
        {
          "output_type": "stream",
          "text": [
            "TRAIN COST @ EPOCH 60: 0.126602\n",
            "TRAIN IOU  @ EPOCH 60: 0.884124\n",
            "TRAIN ACC  @ EPOCH 60: 0.938511\n",
            "TEST  COST @ EPOCH 60: 0.130346\n",
            "TEST  IOU  @ EPOCH 60: 0.884264\n",
            "TEST  ACC  @ EPOCH 60: 0.938590\n",
            "61\n",
            "62\n",
            "63\n",
            "64\n",
            "65\n"
          ],
          "name": "stdout"
        },
        {
          "output_type": "display_data",
          "data": {
            "image/png": "[encoded data removed]",
            "text/plain": [
              "<matplotlib.figure.Figure at 0x7f1e71c725f8>"
            ]
          },
          "metadata": {
            "tags": []
          }
        },
        {
          "output_type": "stream",
          "text": [
            "TRAIN COST @ EPOCH 65: 0.124835\n",
            "TRAIN IOU  @ EPOCH 65: 0.885508\n",
            "TRAIN ACC  @ EPOCH 65: 0.939289\n",
            "TEST  COST @ EPOCH 65: 0.129695\n",
            "TEST  IOU  @ EPOCH 65: 0.885638\n",
            "TEST  ACC  @ EPOCH 65: 0.939361\n",
            "66\n",
            "67\n",
            "68\n",
            "69\n",
            "70\n"
          ],
          "name": "stdout"
        },
        {
          "output_type": "display_data",
          "data": {
            "image/png": "[encoded data removed]",
            "text/plain": [
              "<matplotlib.figure.Figure at 0x7f1e71ccb278>"
            ]
          },
          "metadata": {
            "tags": []
          }
        },
        {
          "output_type": "stream",
          "text": [
            "TRAIN COST @ EPOCH 70: 0.123255\n",
            "TRAIN IOU  @ EPOCH 70: 0.886776\n",
            "TRAIN ACC  @ EPOCH 70: 0.940003\n",
            "TEST  COST @ EPOCH 70: 0.128726\n",
            "TEST  IOU  @ EPOCH 70: 0.886895\n",
            "TEST  ACC  @ EPOCH 70: 0.940070\n",
            "71\n",
            "72\n",
            "73\n",
            "74\n",
            "75\n"
          ],
          "name": "stdout"
        },
        {
          "output_type": "display_data",
          "data": {
            "image/png": "[encoded data removed]",
            "text/plain": [
              "<matplotlib.figure.Figure at 0x7f1e71b545c0>"
            ]
          },
          "metadata": {
            "tags": []
          }
        },
        {
          "output_type": "stream",
          "text": [
            "TRAIN COST @ EPOCH 75: 0.121802\n",
            "TRAIN IOU  @ EPOCH 75: 0.887947\n",
            "TRAIN ACC  @ EPOCH 75: 0.940659\n",
            "TEST  COST @ EPOCH 75: 0.127934\n",
            "TEST  IOU  @ EPOCH 75: 0.888054\n",
            "TEST  ACC  @ EPOCH 75: 0.940721\n",
            "76\n",
            "77\n",
            "78\n",
            "79\n",
            "80\n"
          ],
          "name": "stdout"
        },
        {
          "output_type": "display_data",
          "data": {
            "image/png": "[encoded data removed]",
            "text/plain": [
              "<matplotlib.figure.Figure at 0x7f1e71c35ac8>"
            ]
          },
          "metadata": {
            "tags": []
          }
        },
        {
          "output_type": "stream",
          "text": [
            "TRAIN COST @ EPOCH 80: 0.120495\n",
            "TRAIN IOU  @ EPOCH 80: 0.889026\n",
            "TRAIN ACC  @ EPOCH 80: 0.941266\n",
            "TEST  COST @ EPOCH 80: 0.127465\n",
            "TEST  IOU  @ EPOCH 80: 0.889127\n",
            "TEST  ACC  @ EPOCH 80: 0.941323\n",
            "81\n",
            "82\n",
            "83\n",
            "84\n",
            "85\n"
          ],
          "name": "stdout"
        },
        {
          "output_type": "display_data",
          "data": {
            "image/png": "[encoded data removed]",
            "text/plain": [
              "<matplotlib.figure.Figure at 0x7f1e71de6f28>"
            ]
          },
          "metadata": {
            "tags": []
          }
        },
        {
          "output_type": "stream",
          "text": [
            "TRAIN COST @ EPOCH 85: 0.119270\n",
            "TRAIN IOU  @ EPOCH 85: 0.890032\n",
            "TRAIN ACC  @ EPOCH 85: 0.941831\n",
            "TEST  COST @ EPOCH 85: 0.126636\n",
            "TEST  IOU  @ EPOCH 85: 0.890126\n",
            "TEST  ACC  @ EPOCH 85: 0.941883\n",
            "86\n",
            "87\n",
            "88\n",
            "89\n",
            "90\n"
          ],
          "name": "stdout"
        },
        {
          "output_type": "display_data",
          "data": {
            "image/png": "[encoded data removed]",
            "text/plain": [
              "<matplotlib.figure.Figure at 0x7f1e71ac91d0>"
            ]
          },
          "metadata": {
            "tags": []
          }
        },
        {
          "output_type": "stream",
          "text": [
            "TRAIN COST @ EPOCH 90: 0.118125\n",
            "TRAIN IOU  @ EPOCH 90: 0.890970\n",
            "TRAIN ACC  @ EPOCH 90: 0.942354\n",
            "TEST  COST @ EPOCH 90: 0.126367\n",
            "TEST  IOU  @ EPOCH 90: 0.891058\n",
            "TEST  ACC  @ EPOCH 90: 0.942404\n",
            "91\n",
            "92\n",
            "93\n",
            "94\n",
            "95\n"
          ],
          "name": "stdout"
        },
        {
          "output_type": "display_data",
          "data": {
            "image/png": "[encoded data removed]",
            "text/plain": [
              "<matplotlib.figure.Figure at 0x7f1e720adc18>"
            ]
          },
          "metadata": {
            "tags": []
          }
        },
        {
          "output_type": "stream",
          "text": [
            "TRAIN COST @ EPOCH 95: 0.117085\n",
            "TRAIN IOU  @ EPOCH 95: 0.891848\n",
            "TRAIN ACC  @ EPOCH 95: 0.942847\n",
            "TEST  COST @ EPOCH 95: 0.126001\n",
            "TEST  IOU  @ EPOCH 95: 0.891932\n",
            "TEST  ACC  @ EPOCH 95: 0.942894\n",
            "96\n",
            "97\n",
            "98\n",
            "99\n"
          ],
          "name": "stdout"
        },
        {
          "output_type": "display_data",
          "data": {
            "image/png": "[encoded data removed]",
            "text/plain": [
              "<matplotlib.figure.Figure at 0x7f1e71a67ef0>"
            ]
          },
          "metadata": {
            "tags": []
          }
        },
        {
          "output_type": "display_data",
          "data": {
            "image/png": "[encoded data removed]",
            "text/plain": [
              "<matplotlib.figure.Figure at 0x7f1e71ac9e48>"
            ]
          },
          "metadata": {
            "tags": []
          }
        },
        {
          "output_type": "display_data",
          "data": {
            "image/png": "[encoded data removed]",
            "text/plain": [
              "<matplotlib.figure.Figure at 0x7f1e71a1af98>"
            ]
          },
          "metadata": {
            "tags": []
          }
        },
        {
          "output_type": "execute_result",
          "data": {
            "text/plain": [
              "({'W1': <tf.Variable 'W1:0' shape=(3, 3, 2, 16) dtype=float32_ref>,\n",
              "  'W2': <tf.Variable 'W2:0' shape=(3, 3, 16, 16) dtype=float32_ref>},\n",
              " [0.3940480096101763,\n",
              "  0.23439330677986156,\n",
              "  0.2031878729343416,\n",
              "  0.18979289891719817,\n",
              "  0.18165697696208957,\n",
              "  0.1759143703937534,\n",
              "  0.17160161013603203,\n",
              "  0.16816747703552243,\n",
              "  0.16530467531681048,\n",
              "  0.16288601982593542,\n",
              "  0.16080935094356533,\n",
              "  0.15890870156288137,\n",
              "  0.15724616646766654,\n",
              "  0.15575392110347736,\n",
              "  0.15436786863803872,\n",
              "  0.1531712997913361,\n",
              "  0.15196170936822886,\n",
              "  0.15091489994525903,\n",
              "  0.14989838975667963,\n",
              "  0.14896482430696498,\n",
              "  0.14804223219156257,\n",
              "  0.14720359990596774,\n",
              "  0.14638134070634842,\n",
              "  0.14559405298233027,\n",
              "  0.14485651570558544,\n",
              "  0.1440994394302369,\n",
              "  0.14343326274156562,\n",
              "  0.14274628446102156,\n",
              "  0.14206898033618928,\n",
              "  0.14149722913503673,\n",
              "  0.1408468952536584,\n",
              "  0.14025322173833857,\n",
              "  0.1396842098951339,\n",
              "  0.13910995757579805,\n",
              "  0.1385873662590981,\n",
              "  0.13799903397560134,\n",
              "  0.13746705763339997,\n",
              "  0.13699577386379244,\n",
              "  0.1364690299630165,\n",
              "  0.13597064443826687,\n",
              "  0.13548396986722952,\n",
              "  0.13500660430192937,\n",
              "  0.13452430183887465,\n",
              "  0.1340013171553612,\n",
              "  0.13353637557029724,\n",
              "  0.13303439588546748,\n",
              "  0.13256018316745757,\n",
              "  0.13210083636045464,\n",
              "  0.1316175624847413,\n",
              "  0.13116023644208918,\n",
              "  0.13072258754968655,\n",
              "  0.13027389401197437,\n",
              "  0.12984606471061708,\n",
              "  0.12941700156927097,\n",
              "  0.1289813631892203,\n",
              "  0.12858593672513968,\n",
              "  0.12818101854324365,\n",
              "  0.1277781738638877,\n",
              "  0.1273730382442475,\n",
              "  0.12699270234107965,\n",
              "  0.12660224001407622,\n",
              "  0.1262686412096024,\n",
              "  0.1258928587555885,\n",
              "  0.12551464360952377,\n",
              "  0.1251735657930375,\n",
              "  0.12483493688106531,\n",
              "  0.1245245190382004,\n",
              "  0.1241876141667366,\n",
              "  0.1238665711283686,\n",
              "  0.12354532717466363,\n",
              "  0.12325517394542702,\n",
              "  0.1229523530364037,\n",
              "  0.12263436819314943,\n",
              "  0.12234791057109838,\n",
              "  0.12205075125694266,\n",
              "  0.12180165252685542,\n",
              "  0.12152847872972496,\n",
              "  0.12125288932323457,\n",
              "  0.12097799192667014,\n",
              "  0.1207127447009087,\n",
              "  0.12049466096162793,\n",
              "  0.12018227666616445,\n",
              "  0.11995330808162692,\n",
              "  0.1197272346377374,\n",
              "  0.1194930132508277,\n",
              "  0.11926977499723439,\n",
              "  0.11901772862672802,\n",
              "  0.11878511569499979,\n",
              "  0.11855739930868149,\n",
              "  0.11834497257471081,\n",
              "  0.1181252955675124,\n",
              "  0.11790298871994007,\n",
              "  0.11769503186941142,\n",
              "  0.11749372979402545,\n",
              "  0.11729457610845566,\n",
              "  0.11708492228984844,\n",
              "  0.11688219935894015,\n",
              "  0.11669590231180206,\n",
              "  0.11648244547843942,\n",
              "  0.11632043769359598],\n",
              " [0.5840125507354739,\n",
              "  0.7301029109001161,\n",
              "  0.7728550142288201,\n",
              "  0.7949255234718331,\n",
              "  0.8088482460021978,\n",
              "  0.8186784201622008,\n",
              "  0.8260037119865413,\n",
              "  0.8318236756324765,\n",
              "  0.8365393121719354,\n",
              "  0.8404969388008123,\n",
              "  0.8438505626678466,\n",
              "  0.8467381616592412,\n",
              "  0.8493397296905513,\n",
              "  0.851580127716065,\n",
              "  0.8536189882278445,\n",
              "  0.8554678522109985,\n",
              "  0.8571391017913819,\n",
              "  0.8586615590095519,\n",
              "  0.860067028808594,\n",
              "  0.8613651473045356,\n",
              "  0.8625674226760868,\n",
              "  0.8636887180328373,\n",
              "  0.8647394331932067,\n",
              "  0.8657257410049434,\n",
              "  0.8666587045669557,\n",
              "  0.8675410312652588,\n",
              "  0.8683809655189513,\n",
              "  0.8691703335762012,\n",
              "  0.8699239147186276,\n",
              "  0.8706430402755745,\n",
              "  0.8713267216682431,\n",
              "  0.8719759880065924,\n",
              "  0.8726092641830452,\n",
              "  0.8732109075546264,\n",
              "  0.8737957674026487,\n",
              "  0.8743475063323973,\n",
              "  0.8748882884025574,\n",
              "  0.875404697990417,\n",
              "  0.8759090280532836,\n",
              "  0.8763956240653997,\n",
              "  0.876863021087647,\n",
              "  0.8773197999954218,\n",
              "  0.8777640103340144,\n",
              "  0.8781939517974853,\n",
              "  0.8786062475204477,\n",
              "  0.8790156316757207,\n",
              "  0.8794132821083073,\n",
              "  0.8798011791229251,\n",
              "  0.8801788902282704,\n",
              "  0.8805507827758787,\n",
              "  0.8809099091529848,\n",
              "  0.881263495922088,\n",
              "  0.8816065931320186,\n",
              "  0.8819455178260802,\n",
              "  0.8822769900321967,\n",
              "  0.8825987442016606,\n",
              "  0.8829168994903572,\n",
              "  0.8832255620956413,\n",
              "  0.8835294424057004,\n",
              "  0.883832113838196,\n",
              "  0.8841240489959725,\n",
              "  0.8844097710609439,\n",
              "  0.8846921166419978,\n",
              "  0.884972952747345,\n",
              "  0.8852419983863823,\n",
              "  0.8855084328651431,\n",
              "  0.8857733392715447,\n",
              "  0.8860293242454533,\n",
              "  0.8862849391937251,\n",
              "  0.886535801696777,\n",
              "  0.8867764945030217,\n",
              "  0.8870195635795592,\n",
              "  0.8872572470664973,\n",
              "  0.8874887260437003,\n",
              "  0.8877199771881108,\n",
              "  0.8879468607902535,\n",
              "  0.8881699512481693,\n",
              "  0.888388302326202,\n",
              "  0.8886029873847968,\n",
              "  0.888815873908997,\n",
              "  0.8890256451606746,\n",
              "  0.8892324449539184,\n",
              "  0.8894383248329161,\n",
              "  0.8896382425308228,\n",
              "  0.8898361886024476,\n",
              "  0.8900318747520449,\n",
              "  0.8902254367828372,\n",
              "  0.890415232086182,\n",
              "  0.8906018453598027,\n",
              "  0.8907870203018196,\n",
              "  0.8909697913169863,\n",
              "  0.8911502171516423,\n",
              "  0.8913279001235965,\n",
              "  0.8915029393196104,\n",
              "  0.8916770219802853,\n",
              "  0.8918482993125919,\n",
              "  0.892019713497161,\n",
              "  0.892186710166931,\n",
              "  0.892350437736511,\n",
              "  0.8925142827033985],\n",
              " [0.7326801882743826,\n",
              "  0.8439270279884334,\n",
              "  0.8718663185119632,\n",
              "  0.8857453703880304,\n",
              "  0.894323905563354,\n",
              "  0.9002983369827281,\n",
              "  0.9047116898536681,\n",
              "  0.9081924485206595,\n",
              "  0.9109959820747366,\n",
              "  0.9133378758430479,\n",
              "  0.9153146158218388,\n",
              "  0.9170108244895929,\n",
              "  0.9185342205047607,\n",
              "  0.9198434712409975,\n",
              "  0.921031873035431,\n",
              "  0.9221071615219114,\n",
              "  0.9230782593727095,\n",
              "  0.923960833263397,\n",
              "  0.9247731083869936,\n",
              "  0.9255230649948113,\n",
              "  0.926216327476501,\n",
              "  0.9268622989654534,\n",
              "  0.9274667060852049,\n",
              "  0.9280339760780335,\n",
              "  0.9285697265625011,\n",
              "  0.929076198959351,\n",
              "  0.9295580033302311,\n",
              "  0.9300107307434081,\n",
              "  0.9304422233581546,\n",
              "  0.9308544654846197,\n",
              "  0.9312457873344411,\n",
              "  0.9316168085098265,\n",
              "  0.9319775695800778,\n",
              "  0.9323203363418587,\n",
              "  0.9326532990455635,\n",
              "  0.9329680688858033,\n",
              "  0.933275567913054,\n",
              "  0.9335692859649656,\n",
              "  0.9338572171211244,\n",
              "  0.9341342292785645,\n",
              "  0.9343994354248043,\n",
              "  0.9346593975067135,\n",
              "  0.934910360908508,\n",
              "  0.9351548227310184,\n",
              "  0.9353889353752137,\n",
              "  0.9356215211868293,\n",
              "  0.9358461680412284,\n",
              "  0.9360657342910779,\n",
              "  0.9362803739547736,\n",
              "  0.9364906552314758,\n",
              "  0.936693669986725,\n",
              "  0.9368934028625486,\n",
              "  0.937087487888336,\n",
              "  0.9372797437667848,\n",
              "  0.9374668404579161,\n",
              "  0.9376486417770395,\n",
              "  0.937828612327576,\n",
              "  0.9380026158332823,\n",
              "  0.9381741748809816,\n",
              "  0.9383456850051884,\n",
              "  0.9385106045722965,\n",
              "  0.9386716578483587,\n",
              "  0.9388299836158753,\n",
              "  0.9389878337860107,\n",
              "  0.9391392869949335,\n",
              "  0.9392890529632557,\n",
              "  0.9394381809234621,\n",
              "  0.939582672786713,\n",
              "  0.9397269456863397,\n",
              "  0.9398681005477906,\n",
              "  0.940003361320493,\n",
              "  0.9401402060508722,\n",
              "  0.9402737122535704,\n",
              "  0.9404033555984499,\n",
              "  0.9405326907157894,\n",
              "  0.9406594586372374,\n",
              "  0.9407854355812076,\n",
              "  0.9409075485229491,\n",
              "  0.9410280119895938,\n",
              "  0.9411482113838197,\n",
              "  0.9412658679962159,\n",
              "  0.9413817560195913,\n",
              "  0.9414976950645453,\n",
              "  0.9416097495079037,\n",
              "  0.9417204844474794,\n",
              "  0.9418307053565975,\n",
              "  0.941939220142365,\n",
              "  0.9420448514938351,\n",
              "  0.9421489373207086,\n",
              "  0.9422523164749137,\n",
              "  0.9423540849685675,\n",
              "  0.9424556521415706,\n",
              "  0.9425552931785575,\n",
              "  0.9426532417297356,\n",
              "  0.9427507339477534,\n",
              "  0.9428469168663021,\n",
              "  0.9429427712440498,\n",
              "  0.9430358844757081,\n",
              "  0.9431273084640505,\n",
              "  0.9432191585540775],\n",
              " [0.26179284,\n",
              "  0.21002455,\n",
              "  0.19160694,\n",
              "  0.18184191,\n",
              "  0.17548536,\n",
              "  0.17023514,\n",
              "  0.16626203,\n",
              "  0.16352369,\n",
              "  0.161017,\n",
              "  0.15885893,\n",
              "  0.1573517,\n",
              "  0.15530601,\n",
              "  0.15404214,\n",
              "  0.15261227,\n",
              "  0.15168974,\n",
              "  0.1506415,\n",
              "  0.14976351,\n",
              "  0.14878513,\n",
              "  0.14781676,\n",
              "  0.14711975,\n",
              "  0.14619924,\n",
              "  0.14581311,\n",
              "  0.14478856,\n",
              "  0.1442518,\n",
              "  0.14357862,\n",
              "  0.14296082,\n",
              "  0.14263617,\n",
              "  0.14198728,\n",
              "  0.14148511,\n",
              "  0.14094643,\n",
              "  0.14086428,\n",
              "  0.13994206,\n",
              "  0.13955347,\n",
              "  0.13914946,\n",
              "  0.13890444,\n",
              "  0.13838549,\n",
              "  0.13798948,\n",
              "  0.13745816,\n",
              "  0.13723458,\n",
              "  0.1372976,\n",
              "  0.13677157,\n",
              "  0.13639882,\n",
              "  0.13602902,\n",
              "  0.13555488,\n",
              "  0.13526133,\n",
              "  0.13507192,\n",
              "  0.1346465,\n",
              "  0.13425472,\n",
              "  0.13376686,\n",
              "  0.13341765,\n",
              "  0.13312149,\n",
              "  0.13257673,\n",
              "  0.13269225,\n",
              "  0.13217114,\n",
              "  0.13208923,\n",
              "  0.13189906,\n",
              "  0.13146411,\n",
              "  0.13118345,\n",
              "  0.1308104,\n",
              "  0.13064809,\n",
              "  0.13034555,\n",
              "  0.13025416,\n",
              "  0.13013077,\n",
              "  0.12976897,\n",
              "  0.12955739,\n",
              "  0.12969519,\n",
              "  0.12925608,\n",
              "  0.12896821,\n",
              "  0.12865852,\n",
              "  0.12860784,\n",
              "  0.12872556,\n",
              "  0.12821804,\n",
              "  0.12825352,\n",
              "  0.12803814,\n",
              "  0.12799746,\n",
              "  0.1279341,\n",
              "  0.1277157,\n",
              "  0.12761045,\n",
              "  0.12747355,\n",
              "  0.12738217,\n",
              "  0.12746544,\n",
              "  0.12710196,\n",
              "  0.12718424,\n",
              "  0.12700008,\n",
              "  0.12677436,\n",
              "  0.12663598,\n",
              "  0.12677673,\n",
              "  0.12656069,\n",
              "  0.12671582,\n",
              "  0.1264848,\n",
              "  0.12636696,\n",
              "  0.12665969,\n",
              "  0.12626185,\n",
              "  0.12600958,\n",
              "  0.12608293,\n",
              "  0.1260006,\n",
              "  0.12571508,\n",
              "  0.12589832,\n",
              "  0.12592432,\n",
              "  0.12574552],\n",
              " [0.691671,\n",
              "  0.75636125,\n",
              "  0.78550327,\n",
              "  0.80259275,\n",
              "  0.81410754,\n",
              "  0.8225342,\n",
              "  0.82903916,\n",
              "  0.8342569,\n",
              "  0.8385695,\n",
              "  0.84220743,\n",
              "  0.84533465,\n",
              "  0.8480638,\n",
              "  0.850476,\n",
              "  0.85261995,\n",
              "  0.8545523,\n",
              "  0.85629773,\n",
              "  0.85789406,\n",
              "  0.8593596,\n",
              "  0.8607098,\n",
              "  0.86196184,\n",
              "  0.86312646,\n",
              "  0.86421525,\n",
              "  0.86523485,\n",
              "  0.8661952,\n",
              "  0.8670996,\n",
              "  0.8679567,\n",
              "  0.8687681,\n",
              "  0.8695394,\n",
              "  0.8702748,\n",
              "  0.8709761,\n",
              "  0.87164724,\n",
              "  0.87228835,\n",
              "  0.87290454,\n",
              "  0.8734955,\n",
              "  0.8740647,\n",
              "  0.87461406,\n",
              "  0.8751429,\n",
              "  0.8756534,\n",
              "  0.8761472,\n",
              "  0.8766252,\n",
              "  0.8770895,\n",
              "  0.87753844,\n",
              "  0.8779738,\n",
              "  0.8783978,\n",
              "  0.87880945,\n",
              "  0.8792118,\n",
              "  0.8796046,\n",
              "  0.8799866,\n",
              "  0.88036025,\n",
              "  0.8807249,\n",
              "  0.88108194,\n",
              "  0.88143134,\n",
              "  0.8817723,\n",
              "  0.8821064,\n",
              "  0.8824334,\n",
              "  0.8827547,\n",
              "  0.88306797,\n",
              "  0.8833754,\n",
              "  0.88367766,\n",
              "  0.8839737,\n",
              "  0.88426423,\n",
              "  0.8845486,\n",
              "  0.8848282,\n",
              "  0.885103,\n",
              "  0.8853725,\n",
              "  0.88563764,\n",
              "  0.88589776,\n",
              "  0.88615334,\n",
              "  0.88640493,\n",
              "  0.88665247,\n",
              "  0.8868948,\n",
              "  0.8871342,\n",
              "  0.8873698,\n",
              "  0.88760185,\n",
              "  0.88783,\n",
              "  0.8880545,\n",
              "  0.88827527,\n",
              "  0.8884927,\n",
              "  0.8887073,\n",
              "  0.888919,\n",
              "  0.8891273,\n",
              "  0.8893328,\n",
              "  0.8895354,\n",
              "  0.88973475,\n",
              "  0.8899315,\n",
              "  0.89012575,\n",
              "  0.8903174,\n",
              "  0.8905059,\n",
              "  0.89069223,\n",
              "  0.8908763,\n",
              "  0.89105785,\n",
              "  0.89123726,\n",
              "  0.8914139,\n",
              "  0.8915889,\n",
              "  0.89176166,\n",
              "  0.8919323,\n",
              "  0.8921005,\n",
              "  0.89226687,\n",
              "  0.8924314,\n",
              "  0.89259374],\n",
              " [0.8178024,\n",
              "  0.86130536,\n",
              "  0.87987524,\n",
              "  0.8904898,\n",
              "  0.8975306,\n",
              "  0.9026262,\n",
              "  0.90653014,\n",
              "  0.90964055,\n",
              "  0.9121987,\n",
              "  0.9143471,\n",
              "  0.9161872,\n",
              "  0.9177874,\n",
              "  0.91919875,\n",
              "  0.92045027,\n",
              "  0.9215746,\n",
              "  0.9225898,\n",
              "  0.92351586,\n",
              "  0.92436475,\n",
              "  0.9251444,\n",
              "  0.92586744,\n",
              "  0.9265381,\n",
              "  0.92716557,\n",
              "  0.92775106,\n",
              "  0.9283041,\n",
              "  0.92882264,\n",
              "  0.9293148,\n",
              "  0.9297796,\n",
              "  0.9302222,\n",
              "  0.93064344,\n",
              "  0.931045,\n",
              "  0.93142885,\n",
              "  0.931795,\n",
              "  0.93214583,\n",
              "  0.9324826,\n",
              "  0.93280643,\n",
              "  0.93312,\n",
              "  0.93342006,\n",
              "  0.9337114,\n",
              "  0.9339931,\n",
              "  0.9342641,\n",
              "  0.9345286,\n",
              "  0.9347829,\n",
              "  0.93502945,\n",
              "  0.9352702,\n",
              "  0.9355048,\n",
              "  0.9357321,\n",
              "  0.93595374,\n",
              "  0.9361713,\n",
              "  0.9363829,\n",
              "  0.93658906,\n",
              "  0.9367909,\n",
              "  0.93698823,\n",
              "  0.9371814,\n",
              "  0.93737096,\n",
              "  0.9375551,\n",
              "  0.9377369,\n",
              "  0.9379137,\n",
              "  0.9380873,\n",
              "  0.938258,\n",
              "  0.9384257,\n",
              "  0.93858975,\n",
              "  0.9387495,\n",
              "  0.93890643,\n",
              "  0.939061,\n",
              "  0.9392127,\n",
              "  0.9393614,\n",
              "  0.93950844,\n",
              "  0.93965244,\n",
              "  0.9397945,\n",
              "  0.939934,\n",
              "  0.94007003,\n",
              "  0.9402048,\n",
              "  0.9403367,\n",
              "  0.9404663,\n",
              "  0.9405944,\n",
              "  0.9407206,\n",
              "  0.9408444,\n",
              "  0.94096595,\n",
              "  0.9410863,\n",
              "  0.94120646,\n",
              "  0.9413225,\n",
              "  0.9414385,\n",
              "  0.9415524,\n",
              "  0.9416638,\n",
              "  0.94177425,\n",
              "  0.9418834,\n",
              "  0.9419904,\n",
              "  0.9420955,\n",
              "  0.9421994,\n",
              "  0.942302,\n",
              "  0.9424037,\n",
              "  0.9425047,\n",
              "  0.94260365,\n",
              "  0.9427009,\n",
              "  0.94279826,\n",
              "  0.9428941,\n",
              "  0.94298774,\n",
              "  0.9430803,\n",
              "  0.94317305,\n",
              "  0.9432642])"
            ]
          },
          "metadata": {
            "tags": []
          },
          "execution_count": 32
        }
      ]
    }
  ]
}